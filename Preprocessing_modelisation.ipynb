{
 "cells": [
  {
   "cell_type": "markdown",
   "metadata": {},
   "source": [
    "# PIPELINE DE CONSTRUCTION DU DATASET\n",
    "\n",
    "Ce notebook contient le pipeline de préparations des données avant la construction de nos modèles de prédiction."
   ]
  },
  {
   "cell_type": "code",
   "execution_count": 1,
   "metadata": {},
   "outputs": [],
   "source": [
    "%matplotlib inline\n",
    "\n",
    "import numpy as np\n",
    "import pandas as pd\n",
    "import pandas_profiling\n",
    "import matplotlib.pyplot as plt\n",
    "import seaborn as sns"
   ]
  },
  {
   "cell_type": "code",
   "execution_count": 2,
   "metadata": {},
   "outputs": [
    {
     "data": {
      "text/html": [
       "<div>\n",
       "<style scoped>\n",
       "    .dataframe tbody tr th:only-of-type {\n",
       "        vertical-align: middle;\n",
       "    }\n",
       "\n",
       "    .dataframe tbody tr th {\n",
       "        vertical-align: top;\n",
       "    }\n",
       "\n",
       "    .dataframe thead th {\n",
       "        text-align: right;\n",
       "    }\n",
       "</style>\n",
       "<table border=\"1\" class=\"dataframe\">\n",
       "  <thead>\n",
       "    <tr style=\"text-align: right;\">\n",
       "      <th></th>\n",
       "      <th>BuildingType</th>\n",
       "      <th>ComplianceStatus</th>\n",
       "      <th>ENERGYSTARScore</th>\n",
       "      <th>Electricity(kBtu)</th>\n",
       "      <th>LargestPropertyUseType</th>\n",
       "      <th>NaturalGas(kBtu)</th>\n",
       "      <th>Neighborhood</th>\n",
       "      <th>NumberofBuildings</th>\n",
       "      <th>NumberofFloors</th>\n",
       "      <th>PrimaryPropertyType</th>\n",
       "      <th>PropertyGFABuilding(s)</th>\n",
       "      <th>PropertyGFAParking</th>\n",
       "      <th>SiteEUI(kBtu/sf)</th>\n",
       "      <th>SiteEnergyUse(kBtu)</th>\n",
       "      <th>SourceEUI(kBtu/sf)</th>\n",
       "      <th>SteamUse(kBtu)</th>\n",
       "      <th>YearBuilt</th>\n",
       "      <th>TotalEmissionGES</th>\n",
       "    </tr>\n",
       "  </thead>\n",
       "  <tbody>\n",
       "    <tr>\n",
       "      <th>0</th>\n",
       "      <td>NonResidential</td>\n",
       "      <td>Compliant</td>\n",
       "      <td>65.0</td>\n",
       "      <td>3686160.0</td>\n",
       "      <td>Hotel</td>\n",
       "      <td>1272388.0</td>\n",
       "      <td>DOWNTOWN</td>\n",
       "      <td>1.0</td>\n",
       "      <td>12.0</td>\n",
       "      <td>Hotel</td>\n",
       "      <td>88434</td>\n",
       "      <td>0</td>\n",
       "      <td>78.9</td>\n",
       "      <td>6981428.0</td>\n",
       "      <td>173.5</td>\n",
       "      <td>2023032.0</td>\n",
       "      <td>1927</td>\n",
       "      <td>249.43</td>\n",
       "    </tr>\n",
       "    <tr>\n",
       "      <th>1</th>\n",
       "      <td>NonResidential</td>\n",
       "      <td>Compliant</td>\n",
       "      <td>51.0</td>\n",
       "      <td>3905411.0</td>\n",
       "      <td>Hotel</td>\n",
       "      <td>4448985.0</td>\n",
       "      <td>DOWNTOWN</td>\n",
       "      <td>1.0</td>\n",
       "      <td>11.0</td>\n",
       "      <td>Hotel</td>\n",
       "      <td>88502</td>\n",
       "      <td>15064</td>\n",
       "      <td>94.4</td>\n",
       "      <td>8354235.0</td>\n",
       "      <td>191.3</td>\n",
       "      <td>0.0</td>\n",
       "      <td>1996</td>\n",
       "      <td>263.51</td>\n",
       "    </tr>\n",
       "    <tr>\n",
       "      <th>2</th>\n",
       "      <td>NonResidential</td>\n",
       "      <td>Compliant</td>\n",
       "      <td>18.0</td>\n",
       "      <td>49762435.0</td>\n",
       "      <td>Hotel</td>\n",
       "      <td>3709900.0</td>\n",
       "      <td>DOWNTOWN</td>\n",
       "      <td>1.0</td>\n",
       "      <td>41.0</td>\n",
       "      <td>Hotel</td>\n",
       "      <td>961990</td>\n",
       "      <td>0</td>\n",
       "      <td>96.6</td>\n",
       "      <td>73130656.0</td>\n",
       "      <td>242.7</td>\n",
       "      <td>19660404.0</td>\n",
       "      <td>1969</td>\n",
       "      <td>2061.48</td>\n",
       "    </tr>\n",
       "    <tr>\n",
       "      <th>3</th>\n",
       "      <td>NonResidential</td>\n",
       "      <td>Compliant</td>\n",
       "      <td>1.0</td>\n",
       "      <td>2769023.0</td>\n",
       "      <td>Hotel</td>\n",
       "      <td>2001894.0</td>\n",
       "      <td>DOWNTOWN</td>\n",
       "      <td>1.0</td>\n",
       "      <td>10.0</td>\n",
       "      <td>Hotel</td>\n",
       "      <td>61320</td>\n",
       "      <td>0</td>\n",
       "      <td>460.4</td>\n",
       "      <td>28229320.0</td>\n",
       "      <td>636.3</td>\n",
       "      <td>23458518.0</td>\n",
       "      <td>1926</td>\n",
       "      <td>1936.34</td>\n",
       "    </tr>\n",
       "    <tr>\n",
       "      <th>4</th>\n",
       "      <td>NonResidential</td>\n",
       "      <td>Compliant</td>\n",
       "      <td>67.0</td>\n",
       "      <td>6066245.0</td>\n",
       "      <td>Hotel</td>\n",
       "      <td>8763105.0</td>\n",
       "      <td>DOWNTOWN</td>\n",
       "      <td>1.0</td>\n",
       "      <td>18.0</td>\n",
       "      <td>Hotel</td>\n",
       "      <td>107430</td>\n",
       "      <td>12460</td>\n",
       "      <td>120.1</td>\n",
       "      <td>14829099.0</td>\n",
       "      <td>228.8</td>\n",
       "      <td>0.0</td>\n",
       "      <td>1980</td>\n",
       "      <td>507.70</td>\n",
       "    </tr>\n",
       "  </tbody>\n",
       "</table>\n",
       "</div>"
      ],
      "text/plain": [
       "     BuildingType ComplianceStatus  ENERGYSTARScore  Electricity(kBtu)  \\\n",
       "0  NonResidential        Compliant             65.0          3686160.0   \n",
       "1  NonResidential        Compliant             51.0          3905411.0   \n",
       "2  NonResidential        Compliant             18.0         49762435.0   \n",
       "3  NonResidential        Compliant              1.0          2769023.0   \n",
       "4  NonResidential        Compliant             67.0          6066245.0   \n",
       "\n",
       "  LargestPropertyUseType  NaturalGas(kBtu) Neighborhood  NumberofBuildings  \\\n",
       "0                  Hotel         1272388.0     DOWNTOWN                1.0   \n",
       "1                  Hotel         4448985.0     DOWNTOWN                1.0   \n",
       "2                  Hotel         3709900.0     DOWNTOWN                1.0   \n",
       "3                  Hotel         2001894.0     DOWNTOWN                1.0   \n",
       "4                  Hotel         8763105.0     DOWNTOWN                1.0   \n",
       "\n",
       "   NumberofFloors PrimaryPropertyType  PropertyGFABuilding(s)  \\\n",
       "0            12.0               Hotel                   88434   \n",
       "1            11.0               Hotel                   88502   \n",
       "2            41.0               Hotel                  961990   \n",
       "3            10.0               Hotel                   61320   \n",
       "4            18.0               Hotel                  107430   \n",
       "\n",
       "   PropertyGFAParking  SiteEUI(kBtu/sf)  SiteEnergyUse(kBtu)  \\\n",
       "0                   0              78.9            6981428.0   \n",
       "1               15064              94.4            8354235.0   \n",
       "2                   0              96.6           73130656.0   \n",
       "3                   0             460.4           28229320.0   \n",
       "4               12460             120.1           14829099.0   \n",
       "\n",
       "   SourceEUI(kBtu/sf)  SteamUse(kBtu)  YearBuilt  TotalEmissionGES  \n",
       "0               173.5       2023032.0       1927            249.43  \n",
       "1               191.3             0.0       1996            263.51  \n",
       "2               242.7      19660404.0       1969           2061.48  \n",
       "3               636.3      23458518.0       1926           1936.34  \n",
       "4               228.8             0.0       1980            507.70  "
      ]
     },
     "execution_count": 2,
     "metadata": {},
     "output_type": "execute_result"
    }
   ],
   "source": [
    "data = pd.read_csv(\"data_joined.csv\")\n",
    "data.drop(\"Unnamed: 0\", axis=1, inplace=True)\n",
    "data.head()"
   ]
  },
  {
   "cell_type": "code",
   "execution_count": 3,
   "metadata": {},
   "outputs": [
    {
     "data": {
      "text/plain": [
       "(6716, 18)"
      ]
     },
     "execution_count": 3,
     "metadata": {},
     "output_type": "execute_result"
    }
   ],
   "source": [
    "data.shape"
   ]
  },
  {
   "cell_type": "code",
   "execution_count": 4,
   "metadata": {},
   "outputs": [
    {
     "name": "stdout",
     "output_type": "stream",
     "text": [
      "<class 'pandas.core.frame.DataFrame'>\n",
      "RangeIndex: 6716 entries, 0 to 6715\n",
      "Data columns (total 18 columns):\n",
      "BuildingType              6716 non-null object\n",
      "ComplianceStatus          6716 non-null object\n",
      "ENERGYSTARScore           5093 non-null float64\n",
      "Electricity(kBtu)         6697 non-null float64\n",
      "LargestPropertyUseType    6560 non-null object\n",
      "NaturalGas(kBtu)          6697 non-null float64\n",
      "Neighborhood              6716 non-null object\n",
      "NumberofBuildings         6708 non-null float64\n",
      "NumberofFloors            6708 non-null float64\n",
      "PrimaryPropertyType       6716 non-null object\n",
      "PropertyGFABuilding(s)    6716 non-null int64\n",
      "PropertyGFAParking        6716 non-null int64\n",
      "SiteEUI(kBtu/sf)          6699 non-null float64\n",
      "SiteEnergyUse(kBtu)       6701 non-null float64\n",
      "SourceEUI(kBtu/sf)        6697 non-null float64\n",
      "SteamUse(kBtu)            6697 non-null float64\n",
      "YearBuilt                 6716 non-null int64\n",
      "TotalEmissionGES          6697 non-null float64\n",
      "dtypes: float64(10), int64(3), object(5)\n",
      "memory usage: 944.6+ KB\n"
     ]
    }
   ],
   "source": [
    "data.info()"
   ]
  },
  {
   "cell_type": "code",
   "execution_count": 5,
   "metadata": {},
   "outputs": [
    {
     "data": {
      "text/html": [
       "<div>\n",
       "<style scoped>\n",
       "    .dataframe tbody tr th:only-of-type {\n",
       "        vertical-align: middle;\n",
       "    }\n",
       "\n",
       "    .dataframe tbody tr th {\n",
       "        vertical-align: top;\n",
       "    }\n",
       "\n",
       "    .dataframe thead th {\n",
       "        text-align: right;\n",
       "    }\n",
       "</style>\n",
       "<table border=\"1\" class=\"dataframe\">\n",
       "  <thead>\n",
       "    <tr style=\"text-align: right;\">\n",
       "      <th></th>\n",
       "      <th>ENERGYSTARScore</th>\n",
       "      <th>Electricity(kBtu)</th>\n",
       "      <th>NaturalGas(kBtu)</th>\n",
       "      <th>NumberofBuildings</th>\n",
       "      <th>NumberofFloors</th>\n",
       "      <th>PropertyGFABuilding(s)</th>\n",
       "      <th>PropertyGFAParking</th>\n",
       "      <th>SiteEUI(kBtu/sf)</th>\n",
       "      <th>SiteEnergyUse(kBtu)</th>\n",
       "      <th>SourceEUI(kBtu/sf)</th>\n",
       "      <th>SteamUse(kBtu)</th>\n",
       "      <th>YearBuilt</th>\n",
       "      <th>TotalEmissionGES</th>\n",
       "    </tr>\n",
       "  </thead>\n",
       "  <tbody>\n",
       "    <tr>\n",
       "      <th>count</th>\n",
       "      <td>5093.000000</td>\n",
       "      <td>6.697000e+03</td>\n",
       "      <td>6.697000e+03</td>\n",
       "      <td>6708.000000</td>\n",
       "      <td>6708.000000</td>\n",
       "      <td>6.716000e+03</td>\n",
       "      <td>6716.000000</td>\n",
       "      <td>6699.000000</td>\n",
       "      <td>6.701000e+03</td>\n",
       "      <td>6697.000000</td>\n",
       "      <td>6.697000e+03</td>\n",
       "      <td>6716.000000</td>\n",
       "      <td>6697.000000</td>\n",
       "    </tr>\n",
       "    <tr>\n",
       "      <th>mean</th>\n",
       "      <td>67.906342</td>\n",
       "      <td>3.591058e+06</td>\n",
       "      <td>1.311223e+06</td>\n",
       "      <td>1.071407</td>\n",
       "      <td>4.695736</td>\n",
       "      <td>8.329450e+04</td>\n",
       "      <td>9519.597975</td>\n",
       "      <td>54.182341</td>\n",
       "      <td>5.194673e+06</td>\n",
       "      <td>133.510303</td>\n",
       "      <td>2.625076e+05</td>\n",
       "      <td>1968.101549</td>\n",
       "      <td>114.935638</td>\n",
       "    </tr>\n",
       "    <tr>\n",
       "      <th>std</th>\n",
       "      <td>27.012124</td>\n",
       "      <td>1.248728e+07</td>\n",
       "      <td>5.685627e+06</td>\n",
       "      <td>1.593505</td>\n",
       "      <td>5.476218</td>\n",
       "      <td>1.733470e+05</td>\n",
       "      <td>33868.050881</td>\n",
       "      <td>55.101657</td>\n",
       "      <td>1.813648e+07</td>\n",
       "      <td>135.677195</td>\n",
       "      <td>3.704221e+06</td>\n",
       "      <td>33.020391</td>\n",
       "      <td>478.876573</td>\n",
       "    </tr>\n",
       "    <tr>\n",
       "      <th>min</th>\n",
       "      <td>1.000000</td>\n",
       "      <td>-1.154170e+05</td>\n",
       "      <td>0.000000e+00</td>\n",
       "      <td>0.000000</td>\n",
       "      <td>0.000000</td>\n",
       "      <td>-5.055000e+04</td>\n",
       "      <td>-3.000000</td>\n",
       "      <td>0.000000</td>\n",
       "      <td>0.000000e+00</td>\n",
       "      <td>-2.000000</td>\n",
       "      <td>0.000000e+00</td>\n",
       "      <td>1900.000000</td>\n",
       "      <td>-0.800000</td>\n",
       "    </tr>\n",
       "    <tr>\n",
       "      <th>25%</th>\n",
       "      <td>52.000000</td>\n",
       "      <td>6.372730e+05</td>\n",
       "      <td>0.000000e+00</td>\n",
       "      <td>1.000000</td>\n",
       "      <td>2.000000</td>\n",
       "      <td>2.727300e+04</td>\n",
       "      <td>0.000000</td>\n",
       "      <td>27.600000</td>\n",
       "      <td>9.200689e+05</td>\n",
       "      <td>74.000000</td>\n",
       "      <td>0.000000e+00</td>\n",
       "      <td>1948.000000</td>\n",
       "      <td>9.450000</td>\n",
       "    </tr>\n",
       "    <tr>\n",
       "      <th>50%</th>\n",
       "      <td>75.000000</td>\n",
       "      <td>1.167735e+06</td>\n",
       "      <td>3.051000e+05</td>\n",
       "      <td>1.000000</td>\n",
       "      <td>4.000000</td>\n",
       "      <td>4.218500e+04</td>\n",
       "      <td>0.000000</td>\n",
       "      <td>38.000000</td>\n",
       "      <td>1.791071e+06</td>\n",
       "      <td>95.600000</td>\n",
       "      <td>0.000000e+00</td>\n",
       "      <td>1974.000000</td>\n",
       "      <td>33.180000</td>\n",
       "    </tr>\n",
       "    <tr>\n",
       "      <th>75%</th>\n",
       "      <td>90.000000</td>\n",
       "      <td>2.797320e+06</td>\n",
       "      <td>1.149639e+06</td>\n",
       "      <td>1.000000</td>\n",
       "      <td>5.000000</td>\n",
       "      <td>8.112000e+04</td>\n",
       "      <td>0.000000</td>\n",
       "      <td>60.200000</td>\n",
       "      <td>4.135280e+06</td>\n",
       "      <td>143.900000</td>\n",
       "      <td>0.000000e+00</td>\n",
       "      <td>1996.000000</td>\n",
       "      <td>91.530000</td>\n",
       "    </tr>\n",
       "    <tr>\n",
       "      <th>max</th>\n",
       "      <td>100.000000</td>\n",
       "      <td>6.570744e+08</td>\n",
       "      <td>2.979090e+08</td>\n",
       "      <td>111.000000</td>\n",
       "      <td>99.000000</td>\n",
       "      <td>9.320156e+06</td>\n",
       "      <td>512608.000000</td>\n",
       "      <td>834.400024</td>\n",
       "      <td>8.739237e+08</td>\n",
       "      <td>2620.000000</td>\n",
       "      <td>1.349435e+08</td>\n",
       "      <td>2015.000000</td>\n",
       "      <td>16870.980000</td>\n",
       "    </tr>\n",
       "  </tbody>\n",
       "</table>\n",
       "</div>"
      ],
      "text/plain": [
       "       ENERGYSTARScore  Electricity(kBtu)  NaturalGas(kBtu)  \\\n",
       "count      5093.000000       6.697000e+03      6.697000e+03   \n",
       "mean         67.906342       3.591058e+06      1.311223e+06   \n",
       "std          27.012124       1.248728e+07      5.685627e+06   \n",
       "min           1.000000      -1.154170e+05      0.000000e+00   \n",
       "25%          52.000000       6.372730e+05      0.000000e+00   \n",
       "50%          75.000000       1.167735e+06      3.051000e+05   \n",
       "75%          90.000000       2.797320e+06      1.149639e+06   \n",
       "max         100.000000       6.570744e+08      2.979090e+08   \n",
       "\n",
       "       NumberofBuildings  NumberofFloors  PropertyGFABuilding(s)  \\\n",
       "count        6708.000000     6708.000000            6.716000e+03   \n",
       "mean            1.071407        4.695736            8.329450e+04   \n",
       "std             1.593505        5.476218            1.733470e+05   \n",
       "min             0.000000        0.000000           -5.055000e+04   \n",
       "25%             1.000000        2.000000            2.727300e+04   \n",
       "50%             1.000000        4.000000            4.218500e+04   \n",
       "75%             1.000000        5.000000            8.112000e+04   \n",
       "max           111.000000       99.000000            9.320156e+06   \n",
       "\n",
       "       PropertyGFAParking  SiteEUI(kBtu/sf)  SiteEnergyUse(kBtu)  \\\n",
       "count         6716.000000       6699.000000         6.701000e+03   \n",
       "mean          9519.597975         54.182341         5.194673e+06   \n",
       "std          33868.050881         55.101657         1.813648e+07   \n",
       "min             -3.000000          0.000000         0.000000e+00   \n",
       "25%              0.000000         27.600000         9.200689e+05   \n",
       "50%              0.000000         38.000000         1.791071e+06   \n",
       "75%              0.000000         60.200000         4.135280e+06   \n",
       "max         512608.000000        834.400024         8.739237e+08   \n",
       "\n",
       "       SourceEUI(kBtu/sf)  SteamUse(kBtu)    YearBuilt  TotalEmissionGES  \n",
       "count         6697.000000    6.697000e+03  6716.000000       6697.000000  \n",
       "mean           133.510303    2.625076e+05  1968.101549        114.935638  \n",
       "std            135.677195    3.704221e+06    33.020391        478.876573  \n",
       "min             -2.000000    0.000000e+00  1900.000000         -0.800000  \n",
       "25%             74.000000    0.000000e+00  1948.000000          9.450000  \n",
       "50%             95.600000    0.000000e+00  1974.000000         33.180000  \n",
       "75%            143.900000    0.000000e+00  1996.000000         91.530000  \n",
       "max           2620.000000    1.349435e+08  2015.000000      16870.980000  "
      ]
     },
     "execution_count": 5,
     "metadata": {},
     "output_type": "execute_result"
    }
   ],
   "source": [
    "data.describe()"
   ]
  },
  {
   "cell_type": "code",
   "execution_count": 6,
   "metadata": {},
   "outputs": [
    {
     "data": {
      "text/plain": [
       "1791071.375"
      ]
     },
     "execution_count": 6,
     "metadata": {},
     "output_type": "execute_result"
    }
   ],
   "source": [
    "data[\"SiteEnergyUse(kBtu)\"].median()"
   ]
  },
  {
   "cell_type": "code",
   "execution_count": 7,
   "metadata": {},
   "outputs": [],
   "source": [
    "def calcul_remplissage(df):\n",
    "    \n",
    "    donnees_totales = df.shape[0] * df.shape[1]\n",
    "    donnees_remplies = df.count().sum()\n",
    "    print(\"Sur\", donnees_totales, \"données possibles dans le dataset, il y a\", donnees_totales - donnees_remplies, \"données manquantes.\")\n",
    "    print(\"Cela représente un taux de remplissage de \", round((donnees_remplies / donnees_totales) * 100, 2), \"%.\")"
   ]
  },
  {
   "cell_type": "markdown",
   "metadata": {},
   "source": [
    "# Fonctions preprocessing\n",
    "\n",
    "Les fonctions suivantes serviront au traitement des données avant d'effectuer la modélisation."
   ]
  },
  {
   "cell_type": "markdown",
   "metadata": {},
   "source": [
    "### Outliers\n",
    "\n",
    "Nous avons pu constater sur l'analyse des variables qu'il y avait des outliers qui peuvent perturber nos modèles de prédictions.\n",
    "\n",
    "Nous allons essayer dex méthodes de traitement pour les supprimer :\n",
    "\n",
    " - Limiter manuellement des variables.\n",
    " - Utiliser les interquartiles"
   ]
  },
  {
   "cell_type": "code",
   "execution_count": 8,
   "metadata": {},
   "outputs": [],
   "source": [
    "def supp_outliers(df, target, etape):\n",
    "    \n",
    "    #Taille batiment\n",
    "    df = df.loc[df[\"PropertyGFABuilding(s)\"] > 0]\n",
    "    \n",
    "    #Taille parking\n",
    "    df = df.loc[df[\"PropertyGFAParking\"] >= 0]\n",
    "    \n",
    "    #EmissionGES\n",
    "    df = df.loc[df[\"TotalEmissionGES\"] > 0]\n",
    "    \n",
    "    #Consommation énergie totale\n",
    "    df = df.loc[df[\"SiteEnergyUse(kBtu)\"] > 0]\n",
    "    \n",
    "    #Electricité\n",
    "    df = df.loc[df[\"Electricity(kBtu)\"] >= 0]\n",
    "    \n",
    "    #Gaz\n",
    "    df = df.loc[df[\"NaturalGas(kBtu)\"] >= 0]\n",
    "    \n",
    "    #SiteEUI\n",
    "    df = df.loc[df[\"SiteEUI(kBtu/sf)\"] >= 0]\n",
    "    \n",
    "    #SourceEUI\n",
    "    df = df.loc[df[\"SourceEUI(kBtu/sf)\"] >= 0]\n",
    "    \n",
    "    #SteamUse\n",
    "    df = df.loc[df[\"SteamUse(kBtu)\"] >= 0]\n",
    "    \n",
    "    if etape == 1:\n",
    "        #Méthode de suppression des outliers par les interquartiles\n",
    "        Q1 = df[target].quantile(0.25)\n",
    "        Q3 = df[target].quantile(0.75)\n",
    "        IQR = Q3 - Q1\n",
    "        df = df[~((df[target] < (Q1 - 1.5 * IQR)) |(df[target] > (Q3 + 1.5 * IQR)))]\n",
    "\n",
    "    \n",
    "    return df"
   ]
  },
  {
   "cell_type": "code",
   "execution_count": 9,
   "metadata": {
    "jupyter": {
     "source_hidden": true
    }
   },
   "outputs": [],
   "source": [
    "def supp_outliers2(df, target, etape):\n",
    "    \n",
    "    var_quantitatives = df.select_dtypes(include=['int64', 'float64']).columns\n",
    "    var_qualitatives = df.select_dtypes(include=['object']).columns\n",
    "    \n",
    "    #En premier, on remplace les valeurs négatives en valeurs positives\n",
    "    df1 = pd.DataFrame(df.loc[:,var_quantitatives].abs(), columns=df[var_quantitatives].columns, index=df[var_quantitatives].index)\n",
    "    df2 = df.loc[:, var_qualitatives]\n",
    "    df = pd.concat([df2,df1], axis=1)\n",
    "    \n",
    "    #Méthode de suppression des outliers par les interquartiles\n",
    "    if etape == 1:\n",
    "        Q1 = df[target].quantile(0.25)\n",
    "        Q3 = df[target].quantile(0.75)\n",
    "        IQR = Q3 - Q1\n",
    "        df = df[~((df[target] < (Q1 - 1.5 * IQR)) |(df[target] > (Q3 + 1.5 * IQR)))]\n",
    "    \n",
    "    return df"
   ]
  },
  {
   "cell_type": "markdown",
   "metadata": {},
   "source": [
    "### Valeurs manquantes\n",
    "\n",
    "Nous allons utiliser le transformation de scikit learn SimpleImputer en deux fois :\n",
    "\n",
    " - 1 fois pour les variables quantitatives\n",
    " - 1 fois pour les variables qualitatives\n",
    " \n",
    "Aves cette méthode, nous allons créer deux dataframes que nous finirons par concaténer pour retrouver un dataset sans valeur manquante."
   ]
  },
  {
   "cell_type": "code",
   "execution_count": 10,
   "metadata": {},
   "outputs": [],
   "source": [
    "from sklearn.impute import SimpleImputer\n",
    "\n",
    "def imputation_val_quantitatives(df):\n",
    "    \n",
    "    var_quantitatives = df.select_dtypes(include=['int64', 'float64']).columns\n",
    "    imputer_quant = SimpleImputer(strategy=\"median\")\n",
    "    imputer_quant.fit(df[var_quantitatives])\n",
    "    X = imputer_quant.transform(df[var_quantitatives])\n",
    "    df = pd.DataFrame(X, columns=df[var_quantitatives].columns, index=df[var_quantitatives].index)\n",
    "    return df"
   ]
  },
  {
   "cell_type": "code",
   "execution_count": 11,
   "metadata": {},
   "outputs": [],
   "source": [
    "def suppr_val_nan(df):\n",
    "    \n",
    "    df.dropna(how=\"any\", inplace=True)\n",
    "    \n",
    "    return df"
   ]
  },
  {
   "cell_type": "code",
   "execution_count": 12,
   "metadata": {},
   "outputs": [],
   "source": [
    "def imputation_val_qualitatives(df):\n",
    "    \n",
    "    var_qualitatives = df.select_dtypes(include=['object']).columns\n",
    "    imputer_qual = SimpleImputer(strategy=\"most_frequent\")\n",
    "    imputer_qual.fit(df[var_qualitatives])\n",
    "    X = imputer_qual.transform(df[var_qualitatives])\n",
    "    df = pd.DataFrame(X, columns=df[var_qualitatives].columns, index=df[var_qualitatives].index)\n",
    "    \n",
    "    return df"
   ]
  },
  {
   "cell_type": "code",
   "execution_count": 13,
   "metadata": {},
   "outputs": [],
   "source": [
    "def concat_sets(df1, df2):\n",
    "    \n",
    "    df = pd.concat([df1,df2], axis=1)\n",
    "    \n",
    "    return df"
   ]
  },
  {
   "cell_type": "markdown",
   "metadata": {},
   "source": [
    "### Création d'une variable Surface réelle\n",
    "\n",
    "Dans le but de simplifier les modèles nous allons scinder plusieurs variables comprenants des informations physiques des bâtiments.\n",
    "\n",
    "Cette nouvelle variable \"Surface_Reelle\" est une formule de surface pour chaque observation :\n",
    " - Le nombre de niveaux\n",
    " - La surface totale au sol des batiments\n",
    "\n",
    "La variable numberofFloors représente le nombre de niveaux et non d'étages. POur avoir le nombre d'étage il faut rajouter le rez-de-chaussée dans la formule.\n",
    "\n",
    "Ainsi, au lieu d'avoir 2 features pour chaque observation, nous n'en aurons plus qu'une."
   ]
  },
  {
   "cell_type": "code",
   "execution_count": 14,
   "metadata": {},
   "outputs": [],
   "source": [
    "def create_var(df):\n",
    "    \n",
    "    #On crée une variable nombre d'étages qui est le nombre de niveaux + le rez de chaussée\n",
    "    df[\"Nbr_etages\"] = 1\n",
    "    df[\"Nbr_etages\"] = df[\"NumberofFloors\"] + df[\"Nbr_etages\"]\n",
    "    \n",
    "    #On calcule la surface réelle d'une observation\n",
    "    df[\"Surface_reelle\"] = df[\"Nbr_etages\"] * df[\"PropertyGFABuilding(s)\"]\n",
    "    \n",
    "    #On supprime les colonnes qui ne nous servent plus\n",
    "    df.drop([\"NumberofFloors\",\"PropertyGFABuilding(s)\",\"Nbr_etages\"], axis=1, inplace=True)\n",
    "    \n",
    "    return df"
   ]
  },
  {
   "cell_type": "markdown",
   "metadata": {},
   "source": [
    "### Fuite de données\n",
    "\n",
    "Puisque l'on ne peut pas utiliser les données énergétiques pour nos prédictions, nous allons en faire un encodage binaire afin de voir si l'on peut en tirer des informations intéressantes :\n",
    " - 0 si la valeur = 0\n",
    " - 1 si la valeur > 0"
   ]
  },
  {
   "cell_type": "code",
   "execution_count": 15,
   "metadata": {},
   "outputs": [],
   "source": [
    "def fuite_donnees(df):\n",
    "    \n",
    "    liste_colonnes = [\"Electricity(kBtu)\",\"NaturalGas(kBtu)\",\"SiteEUI(kBtu/sf)\",\"SourceEUI(kBtu/sf)\",\"SteamUse(kBtu)\"]\n",
    "    \n",
    "    for col in liste_colonnes:\n",
    "        \n",
    "        new_col = col[0:col.find(\"(\")]\n",
    "        \n",
    "        df[new_col] = df[col].astype(bool)\n",
    "        df.drop(col, axis=1, inplace=True)\n",
    "        \n",
    "    #print(len(liste_colonnes), \"variables encodées.\")\n",
    "    \n",
    "    return df\n",
    "    \n",
    "        #df.where(df[col]>0, 1, 0)\n",
    "        \n",
    "        #Traitement des valeurs manquantes\n",
    "        #df.loc[df[col] == np.nan] = 0\n",
    "        \n",
    "        #Traitement du cas où le batiment utilise l'énergie testée\n",
    "        #df.loc[df[col] > 0] = 1"
   ]
  },
  {
   "cell_type": "markdown",
   "metadata": {
    "jupyter": {
     "source_hidden": true
    }
   },
   "source": [
    "### Variables qualitatives\n",
    "\n",
    "Nous allons faire deux traitements différents suivant les variables.\n",
    "\n",
    " - Encodage binaire, pour les variables qui n'ont que 2 valeurs :\n",
    "   - ComplianceStatus\n",
    "   - DefaultData\n",
    "\n",
    "\n",
    " - Target coding, pour les variable qualitatives catégorielles :\n",
    "   - BuildingType\n",
    "   - PrimaryPropertyType\n",
    "   - LargestPropertyType\n",
    " \n",
    "Le target coding, cela consiste à remplacer chaque valeur d'une variable qualitative par la moyenne de la cible de cette valeur.\n",
    "Exemple :\n",
    " - Prenons la valeur \"hotel\" de la variable BuildingType\n",
    " - On calcule la moyenne des émissions de GES pour la valeur \"hotel\"\n",
    " - On remplace toutes les lignes avec la valeur \"hotel\" pour la variable BuildingType par la moyenne calculée précédemment."
   ]
  },
  {
   "cell_type": "code",
   "execution_count": 13,
   "metadata": {
    "collapsed": true,
    "jupyter": {
     "outputs_hidden": true,
     "source_hidden": true
    }
   },
   "outputs": [
    {
     "ename": "SyntaxError",
     "evalue": "unexpected EOF while parsing (<ipython-input-13-4c2574414357>, line 10)",
     "output_type": "error",
     "traceback": [
      "\u001b[1;36m  File \u001b[1;32m\"<ipython-input-13-4c2574414357>\"\u001b[1;36m, line \u001b[1;32m10\u001b[0m\n\u001b[1;33m    elif col == \"DefaultData\":\u001b[0m\n\u001b[1;37m                              ^\u001b[0m\n\u001b[1;31mSyntaxError\u001b[0m\u001b[1;31m:\u001b[0m unexpected EOF while parsing\n"
     ]
    }
   ],
   "source": [
    "def encodage_binaire(df, lst_col):\n",
    "    \n",
    "    for col in lst_col:\n",
    "        \n",
    "        if col == \"ComplianceStatus\":\n",
    "            \n",
    "            np.where(df[col] == \"Compliant\", 1, col)\n",
    "            np.where(df[col] == \"Not Compliant\", 0, col)\n",
    "        \n",
    "        elif col == \"DefaultData\":"
   ]
  },
  {
   "cell_type": "code",
   "execution_count": 116,
   "metadata": {
    "jupyter": {
     "source_hidden": true
    }
   },
   "outputs": [],
   "source": [
    "def target_coding(df):\n",
    "    \n",
    "    #On récupère le nom des variables qualitatives\n",
    "    var_qualitatives = df.select_dtypes(include=['object']).columns\n",
    "    \n",
    "    #On commence le target coding\n",
    "    \n",
    "    #On balaye les variables qualitatives\n",
    "    for val in var_qualitatives:\n",
    "        \n",
    "        #On extrait les valeurs uniques des variables\n",
    "        #uniques = df[val].unique()\n",
    "        \n",
    "        #On calcule la moyenne pour chaque valeur\n",
    "        #Pour cela, on crée un nouveau df, dans laquelle il y a 2 colonnes :\n",
    "        #Chaque valeur de val\n",
    "        #Les moyennes des émissions de GES asssociées\n",
    "        new_df = df.groupby(val, as_index=False)[\"TotalEmissionGES\"].mean()\n",
    "        \n",
    "        #On remplace les valeurs qualitatives par les moyennes\n",
    "        for x in new_df.itertuples():\n",
    "            df[val].replace(x[1], x[2], inplace=True)\n",
    "            #df[val + \"_Encoded\"] = np.where(df[val] == x[1], round(x[2], 2), val)\n",
    "            #df.where(df[val] == x[1], round(x[2],2))\n",
    "        \n",
    "    return df  "
   ]
  },
  {
   "cell_type": "code",
   "execution_count": 117,
   "metadata": {
    "collapsed": true,
    "jupyter": {
     "outputs_hidden": true,
     "source_hidden": true
    }
   },
   "outputs": [
    {
     "ename": "ModuleNotFoundError",
     "evalue": "No module named 'category_encoders'",
     "output_type": "error",
     "traceback": [
      "\u001b[1;31m---------------------------------------------------------------------------\u001b[0m",
      "\u001b[1;31mModuleNotFoundError\u001b[0m                       Traceback (most recent call last)",
      "\u001b[1;32m<ipython-input-117-565ac952a0ba>\u001b[0m in \u001b[0;36m<module>\u001b[1;34m\u001b[0m\n\u001b[1;32m----> 1\u001b[1;33m \u001b[1;32mfrom\u001b[0m \u001b[0mcategory_encoders\u001b[0m\u001b[1;33m.\u001b[0m\u001b[0mtarget_encoder\u001b[0m \u001b[1;32mimport\u001b[0m \u001b[0mTargetEncoder\u001b[0m\u001b[1;33m\u001b[0m\u001b[1;33m\u001b[0m\u001b[0m\n\u001b[0m\u001b[0;32m      2\u001b[0m \u001b[1;33m\u001b[0m\u001b[0m\n",
      "\u001b[1;31mModuleNotFoundError\u001b[0m: No module named 'category_encoders'"
     ]
    }
   ],
   "source": [
    "from category_encoders.target_encoder import TargetEncoder\n",
    "\n"
   ]
  },
  {
   "cell_type": "markdown",
   "metadata": {},
   "source": [
    "### Analyse en Composantes Principales (ACP)\n",
    "\n",
    "L'analyse par composantes principales va nous permettre de réduire les variables numériques.\n",
    "\n",
    "Cela permet de simplifier le modèle pour le rendre plus performant. Le but est d'essayer de perdre le moins d'informations possible dans l'opération. Pour cela nous aller tracer lles éboulis des valeurs propres. Ce graphique permet d'identifier la perte d'information par composantes résultantes.\n",
    "\n",
    "Nous allons aussi tracer le cercle des corrélations et la projection des individus dans l'hyperplan afin de visualiser les résultats."
   ]
  },
  {
   "cell_type": "code",
   "execution_count": 16,
   "metadata": {},
   "outputs": [],
   "source": [
    "from sklearn.decomposition import PCA\n",
    "\n",
    "def reduction_dim(df):\n",
    "\n",
    "    var_quantitatives = df.select_dtypes(include=['int64', 'float64', 'bool']).columns\n",
    "\n",
    "    n_comp = 6\n",
    "    pca = PCA(n_components=n_comp)\n",
    "\n",
    "    data_2D =  pd.DataFrame(pca.fit_transform(df[var_quantitatives]))#, columns=[\"Comp1\", \"Comp2\",\"Comp3\", \"Comp4\",\"Comp5\", \"Comp6\"], index=df.index)\n",
    "    \n",
    "    #On appelle la fonction qui trace la courbe des éboulis des valeurs propres\n",
    "    display_scree_plot(pca)\n",
    "    \n",
    "    #On appelle la fonction qui trace le cercle des corrélations\n",
    "    #print(pca.components_)\n",
    "    #pcs = pca.components_\n",
    "    #display_circles(pcs, n_comp, pca, [(0,1),(0,1),(0,1)], labels = np.array(var_quantitatives))\n",
    "    \n",
    "    #On appelle la fonction qui trace la projection des individus\n",
    "    #display_factorial_planes(data_2D, n_comp, pca, [(0,1),(0,1),(0,1)], alpha = 0.2)\n",
    "    \n",
    "    ##Il faut récupérer les colonnes qualitatives\n",
    "    #col_qual = df.select_dtypes(include=['object']).columns\n",
    "    \n",
    "    ##Et les concaténer au précédent\n",
    "    #df_concat = pd.concat([data_2D, df[col_qual]], axis=1)\n",
    "    \n",
    "    return data_2D"
   ]
  },
  {
   "cell_type": "code",
   "execution_count": 17,
   "metadata": {},
   "outputs": [],
   "source": [
    "def display_scree_plot(acp):\n",
    "    scree = acp.explained_variance_ratio_*100\n",
    "    print(scree)\n",
    "    print(\"Le premier plan factoriel représente {} % de la variance totale.\".format(round(scree[0] + scree[1],2)))\n",
    "    print(\"Le deuxième plan factoriel représente {} % de la variance totale.\".format(round(scree[2] + scree[3],2)))\n",
    "    print(\"Le troisième plan factoriel représente {} % de la variance totale.\".format(round(scree[4] + scree[5],2)))\n",
    "    plt.figure(figsize=(8, 8))\n",
    "    plt.bar(np.arange(len(scree))+1, scree)\n",
    "    plt.plot(np.arange(len(scree))+1, scree.cumsum(),c=\"red\",marker='o')\n",
    "    plt.xlabel(\"rang de l'axe d'inertie\")\n",
    "    plt.ylabel(\"pourcentage d'inertie\")\n",
    "    plt.title(\"Eboulis des valeurs propres\")\n",
    "    plt.show(block=False)"
   ]
  },
  {
   "cell_type": "code",
   "execution_count": 14,
   "metadata": {
    "jupyter": {
     "source_hidden": true
    }
   },
   "outputs": [],
   "source": [
    "def display_circles(pcs, n_comp, pca, axis_ranks, labels=None, label_rotation=0, lims=None):\n",
    "    for d1, d2 in axis_ranks: # On affiche les 3 premiers plans factoriels, donc les 6 premières composantes\n",
    "        if d2 < n_comp:\n",
    "\n",
    "            # initialisation de la figure\n",
    "            fig, ax = plt.subplots(figsize=(15,15))\n",
    "\n",
    "            # détermination des limites du graphique\n",
    "            if lims is not None :\n",
    "                xmin, xmax, ymin, ymax = lims\n",
    "            elif pcs.shape[1] < 30 :\n",
    "                xmin, xmax, ymin, ymax = -1, 1, -1, 1\n",
    "            else :\n",
    "                xmin, xmax, ymin, ymax = min(pcs[d1,:]), max(pcs[d1,:]), min(pcs[d2,:]), max(pcs[d2,:])\n",
    "\n",
    "            # affichage des flèches\n",
    "            # s'il y a plus de 30 flèches, on n'affiche pas le triangle à leur extrémité\n",
    "            if pcs.shape[1] < 30 :\n",
    "                plt.quiver(np.zeros(pcs.shape[1]), np.zeros(pcs.shape[1]),\n",
    "                   pcs[d1,:], pcs[d2,:], \n",
    "                   angles='xy', scale_units='xy', scale=1, color=\"grey\")\n",
    "                # (voir la doc : https://matplotlib.org/api/_as_gen/matplotlib.pyplot.quiver.html)\n",
    "            else:\n",
    "                lines = [[[0,0],[x,y]] for x,y in pcs[[d1,d2]].T]\n",
    "                ax.add_collection(LineCollection(lines, axes=ax, alpha=.1, color='black'))\n",
    "            \n",
    "            # affichage des noms des variables  \n",
    "            if labels is not None:  \n",
    "                for i,(x, y) in enumerate(pcs[[d1,d2]].T):\n",
    "                    if x >= xmin and x <= xmax and y >= ymin and y <= ymax :\n",
    "                        plt.text(x, y, labels[i], fontsize='14', ha='center', va='center', rotation=label_rotation, color=\"blue\", alpha=0.5)\n",
    "            \n",
    "            # affichage du cercle\n",
    "            circle = plt.Circle((0,0), 1, facecolor='none', edgecolor='b')\n",
    "            plt.gca().add_artist(circle)\n",
    "\n",
    "            # définition des limites du graphique\n",
    "            plt.xlim(xmin, xmax)\n",
    "            plt.ylim(ymin, ymax)\n",
    "            plt.margins(x=0.25, y=0.25)\n",
    "        \n",
    "            # affichage des lignes horizontales et verticales\n",
    "            plt.plot([-1, 1], [0, 0], color='grey', ls='--')\n",
    "            plt.plot([0, 0], [-1, 1], color='grey', ls='--')\n",
    "\n",
    "            # nom des axes, avec le pourcentage d'inertie expliqué\n",
    "            plt.xlabel('F{} ({}%)'.format(d1+1, round(100*pca.explained_variance_ratio_[d1],1)))\n",
    "            plt.ylabel('F{} ({}%)'.format(d2+1, round(100*pca.explained_variance_ratio_[d2],1)))\n",
    "\n",
    "            plt.title(\"Cercle des corrélations (F{} et F{})\".format(d1+1, d2+1))\n",
    "            plt.show(block=False)"
   ]
  },
  {
   "cell_type": "code",
   "execution_count": 121,
   "metadata": {
    "jupyter": {
     "source_hidden": true
    }
   },
   "outputs": [],
   "source": [
    "def display_factorial_planes(X_projected, n_comp, pca, axis_ranks, labels=None, alpha=1, illustrative_var=None):\n",
    "    for d1,d2 in axis_ranks:\n",
    "        if d2 < n_comp:\n",
    " \n",
    "            # initialisation de la figure       \n",
    "            fig = plt.figure(figsize=(15,15))\n",
    "        \n",
    "            # affichage des points\n",
    "            if illustrative_var is None:\n",
    "                plt.scatter(X_projected.iloc[:, d1], X_projected.iloc[:, d2], alpha=alpha)\n",
    "            else:\n",
    "                illustrative_var = np.array(illustrative_var)\n",
    "                for value in np.unique(illustrative_var):\n",
    "                    selected = np.where(illustrative_var == value)\n",
    "                    plt.scatter(X_projected.iloc[selected, d1], X_projected.iloc[selected, d2], alpha=alpha, label=value)\n",
    "                plt.legend()\n",
    "\n",
    "            # affichage des labels des points\n",
    "            if labels is not None:\n",
    "                for i,(x,y) in enumerate(X_projected.iloc[:,[d1,d2]]):\n",
    "                    plt.text(x, y, labels[i],\n",
    "                              fontsize='14', ha='center',va='center') \n",
    "                \n",
    "            # détermination des limites du graphique\n",
    "            boundary = np.max(np.abs(X_projected.iloc[:, [d1,d2]])) * 1.1\n",
    "            plt.xlim([-boundary[0], boundary[0]])\n",
    "            plt.ylim([-boundary[1], boundary[1]])\n",
    "        \n",
    "            # affichage des lignes horizontales et verticales\n",
    "            plt.plot([-100, 100], [0, 0], color='grey', ls='--')\n",
    "            plt.plot([0, 0], [-100, 100], color='grey', ls='--')\n",
    "\n",
    "            # nom des axes, avec le pourcentage d'inertie expliqué\n",
    "            plt.xlabel('F{} ({}%)'.format(d1+1, round(100*pca.explained_variance_ratio_[d1],1)))\n",
    "            plt.ylabel('F{} ({}%)'.format(d2+1, round(100*pca.explained_variance_ratio_[d2],1)))\n",
    "\n",
    "            plt.title(\"Projection des individus (sur F{} et F{})\".format(d1+1, d2+1))\n",
    "            plt.show(block=False)"
   ]
  },
  {
   "cell_type": "markdown",
   "metadata": {},
   "source": [
    "### Séparation des données\n",
    "\n",
    "Nous allons spliter le dataset en laissant des données vierges de tout traitement de préparation.\n",
    "\n",
    "Nous avons codé deux hypothèses de séparation :\n",
    " - Une séparation aléatoire simple\n",
    " - Une séparation stratifiée sur une variable qualitative encodée catégorielle (Exemple : Par type de batiment)"
   ]
  },
  {
   "cell_type": "code",
   "execution_count": 17,
   "metadata": {
    "jupyter": {
     "source_hidden": true
    }
   },
   "outputs": [],
   "source": [
    "#Split pour la prédiction des GES\n",
    "\n",
    "from sklearn.model_selection import train_test_split\n",
    "\n",
    "def split_data(df, target):\n",
    "\n",
    "    y = df[target]\n",
    "\n",
    "    X = df.drop([\"TotalEmissionGES\",\"SiteEnergyUse(kBtu)\"], axis=1)\n",
    "\n",
    "    X_train, X_test, y_train, y_test = train_test_split(X, y, test_size=0.2)\n",
    "    \n",
    "    return [X_train, X_test, y_train, y_test]"
   ]
  },
  {
   "cell_type": "code",
   "execution_count": 32,
   "metadata": {},
   "outputs": [],
   "source": [
    "from sklearn.preprocessing import LabelEncoder\n",
    "\n",
    "def create_var(df, var):\n",
    "    \n",
    "    le = LabelEncoder()\n",
    "    \n",
    "    df[\"Strat\"] = le.fit_transform(df[var])\n",
    "    \n",
    "    lst_cat = df[\"Strat\"].unique()\n",
    "    lst_cat.sort()\n",
    "    \n",
    "    for i in lst_cat:\n",
    "        \n",
    "        df_temp = df.loc[df[\"Strat\"] == i]\n",
    "        print(\"Encodage :\", i, \"| Modalité :\", df_temp[var].unique(), \"| Nbr observations :\", df_temp.shape[0], \"| Pourcentage :\", round((df_temp.shape[0]/len(df)) * 100,2), \"%\")\n",
    "\n",
    "    return df\n"
   ]
  },
  {
   "cell_type": "code",
   "execution_count": 18,
   "metadata": {},
   "outputs": [],
   "source": [
    "from sklearn.model_selection import StratifiedShuffleSplit\n",
    "\n",
    "def strat_split_data(df, var, target):\n",
    "    \n",
    "    split = StratifiedShuffleSplit(n_splits=1, test_size=0.2, random_state=0)\n",
    "\n",
    "    for train_set, test_set in split.split(df, df[\"Strat\"]):\n",
    "        strat_train_set = df.iloc[train_set]\n",
    "        strat_test_set = df.iloc[test_set]\n",
    "    \n",
    "    \n",
    "    X_train = strat_train_set.drop([\"TotalEmissionGES\",\"SiteEnergyUse(kBtu)\"], axis=1)\n",
    "    y_train = strat_train_set[target]\n",
    "\n",
    "    X_test = strat_test_set.drop([\"TotalEmissionGES\",\"SiteEnergyUse(kBtu)\"], axis=1)\n",
    "    y_test = strat_test_set[target]              \n",
    "    \n",
    "    #On supprime la variable strat\n",
    "    for set_ in (X_train, X_test):\n",
    "        set_.drop(\"Strat\", axis=1, inplace=True)\n",
    "    \n",
    "    return [X_train, X_test, y_train, y_test]"
   ]
  },
  {
   "cell_type": "markdown",
   "metadata": {},
   "source": [
    "### Normalisation des données\n",
    "\n",
    "Nous avons vu que les distributions de nos variables ne sont pas normales car très asymétriques à gauche. Nous allons donc rendre ces distributions normales.\n",
    "\n",
    "Il existe quelques méthodes pour faire cela :\n",
    " - Le passage au logarithme\n",
    " - Box-cox\n",
    " - Yeo-Johnson\n",
    " \n",
    "L'inconvénient du box-cox dans notre cas est qu'il est obligatoire d'avoir des valeurs strictement > 0, ce que nous, nous avons. \n",
    "\n",
    "La méthode Yeo-Johnson n'a pas cette contrainte, nous pouvons donc l'utiliser.\n",
    "\n",
    "A noter que l'on peut aussi utiliser le passage au log. "
   ]
  },
  {
   "cell_type": "code",
   "execution_count": 21,
   "metadata": {
    "jupyter": {
     "source_hidden": true
    }
   },
   "outputs": [],
   "source": [
    "from sklearn.preprocessing import power_transform\n",
    "\n",
    "def normalisation_yj(df, type_df):\n",
    "        \n",
    "    if df.shape[1] > 1:\n",
    "        #On commence par traiter X_train\n",
    "        #On ne va normaliser que les colonnes numériques\n",
    "        df_normalized = pd.DataFrame(power_transform(df, method=\"yeo-johnson\"), columns=df.columns, index=df.index)\n",
    "\n",
    "        ##Il faut récupérer les colonnes qualitatives\n",
    "        #colonnes = df_X.select_dtypes(include=['object']).columns\n",
    "\n",
    "        ##Et les concaténer au précédent\n",
    "        #df_concat = pd.concat([df_normalized_X, df_X[colonnes]], axis=1)\n",
    "\n",
    "    else:\n",
    "        #Ensuite on traite y_train\n",
    "        df_normalized = power_transform(df, method=\"yeo-johnson\")\n",
    "        \n",
    "        if type_df == \"train\":\n",
    "            df_normalized = pd.DataFrame(df_normalized, columns=[\"TotalEmissionGES\"], index = X_train.index)\n",
    "        else:\n",
    "            df_normalized = pd.DataFrame(df_normalized, columns=[\"TotalEmissionGES\"], index = X_test.index)\n",
    "            \n",
    "    return df_normalized"
   ]
  },
  {
   "cell_type": "code",
   "execution_count": 19,
   "metadata": {},
   "outputs": [],
   "source": [
    "def passage_log(df, type_df, target, idx_df):\n",
    "    \n",
    "    \n",
    "    #On commence par le X_train\n",
    "    if df.shape[1] > 1:\n",
    "        \n",
    "        var_quantitatives = df.select_dtypes(include=['int64', 'float64']).columns\n",
    "        \n",
    "        df_normalized = np.log(df[var_quantitatives])\n",
    "        \n",
    "        #Il faut récupérer les colonnes qualitatives\n",
    "        colonnes = df.select_dtypes(include=['object']).columns\n",
    "\n",
    "        #Et les concaténer au précédent\n",
    "        df = pd.concat([df_normalized, df[colonnes]], axis=1)\n",
    "    \n",
    "    #Ensuite, le y_train\n",
    "    else:\n",
    "        \n",
    "        df = np.log(df)\n",
    "\n",
    "        if type_df == \"train\":\n",
    "            df = pd.DataFrame(df, columns=[target], index = idx_df)\n",
    "        else:\n",
    "            df = pd.DataFrame(df, columns=[target], index = idx_df)\n",
    "            \n",
    "    return df"
   ]
  },
  {
   "cell_type": "markdown",
   "metadata": {},
   "source": [
    "### Normalisation des X\n",
    "\n",
    "Pour cela, nous allons essayer 2 méthodes:\n",
    " - Le StandarScaler, qui réduit et centre les données. Les valeurs sont comprises entre 0 et 1.\n",
    " - Le Quantil_transform, qui est une méthode de normalisation en moyennant des quantiles. Notre population est échantillonnée suivant une nombre d'échantillons choisis par l'utilisateur, et chaque quantile prend la valeur moyenne des échantillons.\n"
   ]
  },
  {
   "cell_type": "code",
   "execution_count": 26,
   "metadata": {
    "jupyter": {
     "source_hidden": true
    }
   },
   "outputs": [],
   "source": [
    "from sklearn.preprocessing import StandardScaler\n",
    "\n",
    "def standardisation_df(df, type_df, target):\n",
    "    \n",
    "    scaler = StandardScaler()\n",
    "        \n",
    "    if df.shape[1] > 1:\n",
    "        \n",
    "        #On sélectionne les colonnes avant les colonnes oneHot\n",
    "        #CàD Les premières colonnes jusqu'à la colonne Strat qui est celle que nous avons créé à l'opération précédente\n",
    "        liste_colonnes = list(df.columns)\n",
    "        #print(liste_colonnes)\n",
    "        der_col_modifiee = liste_colonnes.index(\"SteamUse\")\n",
    "        #der_col_modifiee = liste_colonnes.index(\"YearBuilt\")\n",
    "        \n",
    "        colonnes_modifs = df.iloc[:,:der_col_modifiee]\n",
    "        colonnes_encodees = df.iloc[:,der_col_modifiee:]\n",
    "        #var_quantitatives = df.select_dtypes(include=['int64', 'float64']).columns\n",
    "        \n",
    "        df_scaled = pd.DataFrame(scaler.fit_transform(colonnes_modifs), columns=colonnes_modifs.columns, index=df.index)\n",
    "        \n",
    "        #Il faut récupérer les colonnes qualitatives\n",
    "        colonnes = df.select_dtypes(include=['object']).columns\n",
    "\n",
    "        #Et les concaténer au précédent\n",
    "        df = pd.concat([df_scaled, colonnes_encodees], axis=1)\n",
    "\n",
    "    #Ensuite le y_train\n",
    "    else:\n",
    "        \n",
    "        df = scaler.fit_transform(df)\n",
    "        \n",
    "        if type_df == \"train\":\n",
    "            df = pd.DataFrame(df, columns=[target])\n",
    "        else:\n",
    "            df = pd.DataFrame(df, columns=[target])\n",
    "            \n",
    "    return df"
   ]
  },
  {
   "cell_type": "code",
   "execution_count": 20,
   "metadata": {},
   "outputs": [],
   "source": [
    "from sklearn.preprocessing import quantile_transform\n",
    "\n",
    "def quantile_normalisation(df):\n",
    "\n",
    "    #On sélectionne les colonnes avant les colonnes oneHot\n",
    "    #CàD Les premières colonnes jusqu'à la colonne Strat qui est celle que nous avons créé à l'opération précédente\n",
    "    liste_colonnes = list(df.columns)\n",
    "    #print(liste_colonnes)\n",
    "    der_col_modifiee = liste_colonnes.index(\"SteamUse\")\n",
    "    #der_col_modifiee = liste_colonnes.index(\"YearBuilt\")\n",
    "\n",
    "    colonnes_modifs = df.iloc[:,:der_col_modifiee]\n",
    "    colonnes_encodees = df.iloc[:,der_col_modifiee:]\n",
    "    #var_quantitatives = df.select_dtypes(include=['int64', 'float64']).columns\n",
    "\n",
    "    df1 = pd.DataFrame(quantile_transform(colonnes_modifs, output_distribution=\"uniform\", copy=True), columns=colonnes_modifs.columns, index = df.index)\n",
    "\n",
    "    #Et les concaténer au précédent\n",
    "    df = pd.concat([df1, colonnes_encodees], axis=1)\n",
    "        \n",
    "    return df"
   ]
  },
  {
   "cell_type": "markdown",
   "metadata": {},
   "source": [
    "### Encodage variables qualitatives\n",
    "\n",
    "Nous avons donc 4 variables qualitatives restantes que nous pouvons tranformer en variables quantitatives catégorielles.\n",
    "\n",
    "En effet, les algorithmes d'apprentissage automatique préfèrent travailler sur des nombres.\n",
    "\n",
    "Commençons par analyser ces variables."
   ]
  },
  {
   "cell_type": "code",
   "execution_count": 19,
   "metadata": {
    "collapsed": true,
    "jupyter": {
     "outputs_hidden": true,
     "source_hidden": true
    }
   },
   "outputs": [
    {
     "data": {
      "text/plain": [
       "NonResidential          2921\n",
       "Multifamily LR (1-4)    2047\n",
       "Multifamily MR (5-9)    1134\n",
       "Multifamily HR (10+)     217\n",
       "SPS-District K-12        197\n",
       "Nonresidential COS       153\n",
       "Campus                    46\n",
       "Nonresidential WA          1\n",
       "Name: BuildingType, dtype: int64"
      ]
     },
     "execution_count": 19,
     "metadata": {},
     "output_type": "execute_result"
    }
   ],
   "source": [
    "data[\"BuildingType\"].value_counts()"
   ]
  },
  {
   "cell_type": "code",
   "execution_count": 20,
   "metadata": {
    "collapsed": true,
    "jupyter": {
     "outputs_hidden": true,
     "source_hidden": true
    }
   },
   "outputs": [
    {
     "data": {
      "text/plain": [
       "Multifamily Housing                                     3265\n",
       "Office                                                   977\n",
       "Non-Refrigerated Warehouse                               393\n",
       "K-12 School                                              275\n",
       "Other                                                    206\n",
       "Retail Store                                             198\n",
       "Hotel                                                    145\n",
       "Worship Facility                                         141\n",
       "Distribution Center                                      106\n",
       "Senior Care Community                                     88\n",
       "Medical Office                                            84\n",
       "Supermarket/Grocery Store                                 78\n",
       "Parking                                                   60\n",
       "Self-Storage Facility                                     55\n",
       "Other - Recreation                                        51\n",
       "College/University                                        46\n",
       "Other - Entertainment/Public Assembly                     41\n",
       "Residence Hall/Dormitory                                  40\n",
       "Refrigerated Warehouse                                    24\n",
       "Restaurant                                                24\n",
       "Laboratory                                                22\n",
       "Social/Meeting Hall                                       20\n",
       "Hospital (General Medical & Surgical)                     19\n",
       "Manufacturing/Industrial Plant                            14\n",
       "Other - Lodging/Residential                               12\n",
       "Strip Mall                                                12\n",
       "Repair Services (Vehicle, Shoe, Locksmith, etc)           12\n",
       "Automobile Dealership                                     11\n",
       "Museum                                                    10\n",
       "Other - Services                                          10\n",
       "Fitness Center/Health Club/Gym                             9\n",
       "Library                                                    8\n",
       "Other/Specialty Hospital                                   8\n",
       "Other - Education                                          8\n",
       "Urgent Care/Clinic/Other Outpatient                        8\n",
       "Bank Branch                                                8\n",
       "Other - Mall                                               7\n",
       "Performing Arts                                            7\n",
       "Financial Office                                           7\n",
       "Data Center                                                5\n",
       "Adult Education                                            4\n",
       "Other - Utility                                            4\n",
       "Pre-school/Daycare                                         4\n",
       "Other - Restaurant/Bar                                     4\n",
       "Lifestyle Center                                           4\n",
       "Other - Public Services                                    4\n",
       "Prison/Incarceration                                       3\n",
       "Residential Care Facility                                  2\n",
       "Fire Station                                               2\n",
       "Police Station                                             2\n",
       "Courthouse                                                 2\n",
       "Convention Center                                          2\n",
       "Movie Theater                                              2\n",
       "Wholesale Club/Supercenter                                 2\n",
       "Food Service                                               2\n",
       "Personal Services (Health/Beauty, Dry Cleaning, etc)       2\n",
       "Outpatient Rehabilitation/Physical Therapy                 1\n",
       "Name: LargestPropertyUseType, dtype: int64"
      ]
     },
     "execution_count": 20,
     "metadata": {},
     "output_type": "execute_result"
    }
   ],
   "source": [
    "data[\"LargestPropertyUseType\"].value_counts()"
   ]
  },
  {
   "cell_type": "code",
   "execution_count": 21,
   "metadata": {
    "collapsed": true,
    "jupyter": {
     "outputs_hidden": true,
     "source_hidden": true
    }
   },
   "outputs": [
    {
     "data": {
      "text/plain": [
       "Low-Rise Multifamily           1985\n",
       "Mid-Rise Multifamily           1103\n",
       "Small- and Mid-Sized Office     590\n",
       "Other                           514\n",
       "Large Office                    344\n",
       "K-12 School                     275\n",
       "Mixed Use Property              259\n",
       "High-Rise Multifamily           208\n",
       "Retail Store                    191\n",
       "Non-Refrigerated Warehouse      187\n",
       "Warehouse                       187\n",
       "Hotel                           150\n",
       "Worship Facility                143\n",
       "Senior Care Community            88\n",
       "Medical Office                   82\n",
       "Distribution Center              55\n",
       "Distribution Center\\n            51\n",
       "Supermarket / Grocery Store      40\n",
       "Supermarket/Grocery Store        36\n",
       "Self-Storage Facility            29\n",
       "Self-Storage Facility\\n          27\n",
       "University                       25\n",
       "Refrigerated Warehouse           25\n",
       "Residence Hall                   23\n",
       "College/University               22\n",
       "Hospital                         20\n",
       "Residence Hall/Dormitory         15\n",
       "Restaurant                       13\n",
       "Laboratory                       11\n",
       "Restaurant\\n                     11\n",
       "SPS-District K-12                 4\n",
       "Office                            3\n",
       "Name: PrimaryPropertyType, dtype: int64"
      ]
     },
     "execution_count": 21,
     "metadata": {},
     "output_type": "execute_result"
    }
   ],
   "source": [
    "data[\"PrimaryPropertyType\"].value_counts()"
   ]
  },
  {
   "cell_type": "markdown",
   "metadata": {
    "jupyter": {
     "source_hidden": true
    }
   },
   "source": [
    "Nous pouvons constater qu'il y a beaucoup de catégories qui ne représentent que peu d'observations.\n",
    "\n",
    "Nous allons donc créer, pour chaque variable, une catégorie \"Others\" dans laquelle nous comptabiliserons toutes les catégories inférieures à 100 observations.\n",
    "\n",
    "Cela à pour but de créer moins de modalités lorsque nous ferons l'encodage OneHot."
   ]
  },
  {
   "cell_type": "code",
   "execution_count": 21,
   "metadata": {},
   "outputs": [],
   "source": [
    "def new_category(df):\n",
    "    \n",
    "    #Il faut récupérer les colonnes qualitatives\n",
    "    colonnes = df.select_dtypes(include=['object']).columns\n",
    "    \n",
    "    for var in colonnes:\n",
    "        \n",
    "        counts = df[var].value_counts()\n",
    "        idx = counts[counts < 100].index\n",
    "        df.loc[df[var].isin(idx), var] = \"Others\"\n",
    "        \n",
    "        #print(len(idx), \"valeurs regroupées pour la variable\", var)\n",
    "        \n",
    "    return df"
   ]
  },
  {
   "cell_type": "markdown",
   "metadata": {},
   "source": [
    "### OneHotEncoder\n",
    "\n",
    "Cette opération permet créer des variables binaires par catégorie.\n",
    "\n",
    "Pour une observation, une seule variable binaire aura la valeur 1 (Hot), tandis que toutes les autres auront la valeur 0.\n",
    "\n",
    "Exemple : Pour une catégorie de 6 valeurs (BuildingType), cela nous donnera 6 colonnes supplémentaires remplies avec des 0 et un seul 1.\n",
    "\n",
    "Pourquoi faire cela?\n",
    "\n",
    "Le problème d'un encodage de variable qualitative, c'est que les algorithmes d'apprentissage automatiques vont considérer que deux valeurs voisines sont plus semblables que deux valeurs éloignées. Et ce n'est pas exact dans notre cas."
   ]
  },
  {
   "cell_type": "code",
   "execution_count": 22,
   "metadata": {
    "jupyter": {
     "source_hidden": true
    }
   },
   "outputs": [],
   "source": [
    "from sklearn.preprocessing import LabelBinarizer\n",
    "\n",
    "def encodageOneHot(df):\n",
    "\n",
    "    # Categorical boolean mask\n",
    "    categorical_feature_mask = df.dtypes==object\n",
    "    # filter categorical columns using mask and turn it into a list\n",
    "    categorical_cols = df.columns[categorical_feature_mask].tolist()\n",
    "    \n",
    "    # instantiate OneHotEncoder\n",
    "    encoder = LabelBinarizer()\n",
    "    data_encoded = pd.DataFrame(df[categorical_cols].apply(lambda col: encoder.fit_transform(col)))\n",
    "\n",
    "    return df"
   ]
  },
  {
   "cell_type": "code",
   "execution_count": 22,
   "metadata": {},
   "outputs": [],
   "source": [
    "def encodageOneHot_pd(df):\n",
    "    \n",
    "    # Categorical boolean mask\n",
    "    categorical_feature_mask = df.dtypes==object\n",
    "    # filter categorical columns using mask and turn it into a list\n",
    "    categorical_cols = df.columns[categorical_feature_mask].tolist()\n",
    "    \n",
    "    df_encoded = pd.get_dummies(df, columns = categorical_cols)\n",
    "    \n",
    "    return df_encoded"
   ]
  },
  {
   "cell_type": "markdown",
   "metadata": {},
   "source": [
    "### Variables fortement corrélées\n",
    "\n",
    "Le HotOneEncoder engendre un certain nombre de features dont certaines peuvent être fortement corrélées. Nous allons faire une suppression de ces features, suivant une limite paramétrée à 0.75 par défaut."
   ]
  },
  {
   "cell_type": "code",
   "execution_count": 23,
   "metadata": {},
   "outputs": [],
   "source": [
    "def corr_df(x, corr_val):\n",
    "    '''\n",
    "    Obj: Drops features that are strongly correlated to other features.\n",
    "          This lowers model complexity, and aids in generalizing the model.\n",
    "    Inputs:\n",
    "          df: features df (x)\n",
    "          corr_val: Columns are dropped relative to the corr_val input (e.g. 0.8)\n",
    "    Output: df that only includes uncorrelated features\n",
    "    '''\n",
    "    \n",
    "    #On supprime les targets du traitement\n",
    "    \n",
    "    nb_col = x.shape[1]\n",
    "    \n",
    "    x2 = x.loc[:,[\"TotalEmissionGES\", \"SiteEnergyUse(kBtu)\"]]\n",
    "    \n",
    "    x.drop([\"TotalEmissionGES\", \"SiteEnergyUse(kBtu)\"], axis=1, inplace=True)\n",
    "    \n",
    "    # Creates Correlation Matrix and Instantiates\n",
    "    corr_matrix = x.corr()\n",
    "    iters = range(len(corr_matrix.columns) - 1)\n",
    "    drop_cols = []\n",
    "\n",
    "    # Iterates through Correlation Matrix Table to find correlated columns\n",
    "    for i in iters:\n",
    "        for j in range(i):\n",
    "            item = corr_matrix.iloc[j:(j+1), (i+1):(i+2)]\n",
    "            col = item.columns\n",
    "            row = item.index\n",
    "            val = item.values\n",
    "            if abs(val) >= corr_val:\n",
    "                # Prints the correlated feature set and the corr val\n",
    "                #print(col.values[0], \"|\", row.values[0], \"|\", round(val[0][0], 2))\n",
    "                drop_cols.append(i)\n",
    "\n",
    "    drops = sorted(set(drop_cols))[::-1]\n",
    "\n",
    "    # Drops the correlated columns\n",
    "    for i in drops:\n",
    "        col = x.iloc[:, (i+1):(i+2)].columns.values\n",
    "        x = x.drop(col, axis=1)\n",
    "    \n",
    "    x = pd.concat([x,x2], axis=1)\n",
    "    print(nb_col - x.shape[1], \"colonnes fortement corrélées supprimées.\")\n",
    "    return x"
   ]
  },
  {
   "cell_type": "markdown",
   "metadata": {},
   "source": [
    "# Fonctions modélisation\n",
    "\n",
    "Afin d'avoir une meilleure idée de la vraie erreur que le modele ferait en production, nous allons procéder en 2 étapes :\n",
    " - La modélisation se fera avec filtrage des données (suppression outliers...), avec vérification par validation croisée en 10 passages (cf. Voir Nota ci-dessous)\n",
    " - La modélisation se fera sans filtrage des données avec les 3 meilleurs modèles\n",
    "\n",
    "NOTA :\n",
    "Pour une vérification par validation croisée, nous allons :\n",
    " - boucler le preprocessing 10 fois\n",
    " - avec test des modèles à chaque boucle\n",
    " - faire une moyenne des erreurs des modèles (R² - RMSE en log - RMSE réelle après un passage en exponentiel)\n",
    " \n",
    "NOTA2 :\n",
    "Faire une validation croisée sk-learn après une standardisation provoque une légère fuite de données. Pourquoi?\n",
    " - La fonction validation croisée de scikit-learn fait un échantillonage du dataset pour scorer le modèle (hyperparamètre cv)\n",
    " - Hors, si l'on fait une standardisation (par exemple sur des données d'entraînement) après avoir échantilloné le dataset, les résultats seront faussés car la standardisation ne sera pas faite sur l'ensemble des données (echantillon de test)."
   ]
  },
  {
   "cell_type": "code",
   "execution_count": 24,
   "metadata": {},
   "outputs": [],
   "source": [
    "#Dans cette fonction, nous appelons toutes les fonctions construites précédemment pour le traitement des données\n",
    "\n",
    "def pipeline_preprocessing(df, target, etape):\n",
    "    \n",
    "    #Etape 1 : Outliers\n",
    "    print(data.shape[0], \"observations initiales\")\n",
    "    data_droped = supp_outliers(data, target, etape)\n",
    "    print(data_droped.shape[0], \"après suppressions outliers\")\n",
    "    \n",
    "    #Etape 2 : Imputation\n",
    "    data_quant = imputation_val_quantitatives(data_droped)\n",
    "    data_qual = imputation_val_qualitatives(data_droped)\n",
    "    data_imputed = concat_sets(data_quant, data_qual)\n",
    "    #data_droped = suppr_val_nan(data_droped)\n",
    "    \n",
    "    #data_new_var = create_var(data_imputed)\n",
    "    #calcul_remplissage(data_imputed)\n",
    "    \n",
    "    #Etape 3 : Fuite de données\n",
    "    data_binarized = fuite_donnees(data_imputed)\n",
    "    \n",
    "    #Préparation encodage variables qualitatives\n",
    "    data_modified = new_category(data_binarized)\n",
    "    \n",
    "    #Préparation échantillonage stratifié\n",
    "    data_modified = create_var(data_modified, \"Neighborhood\")\n",
    "    \n",
    "    #Etape 4 : Encodage OneHot\n",
    "    data_encoded = encodageOneHot_pd(data_modified)\n",
    "    \n",
    "    #Etape 5 : Suppression features fortement corrélées après OneHotEncoding\n",
    "    #data_corr_droped = corr_df(data_encoded, 0.75)\n",
    "    \n",
    "    #Etape 6 : Echantillonage\n",
    "    #X_train, X_test, y_train, y_test = split_data(data_encoded, target)\n",
    "    X_train, X_test, y_train, y_test = strat_split_data(data_encoded, \"Neighborhood\", target)\n",
    "    \n",
    "    ##Etape 7 : Passage au log des targets\n",
    "    y_train = passage_log(np.array(y_train).reshape(-1, 1), \"train\", target, X_train.index)\n",
    "    y_test = passage_log(np.array(y_test).reshape(-1, 1), \"test\", target, X_test.index)\n",
    "    \n",
    "    #Etape 8 : Standardisation des données\n",
    "    #X_train = standardisation_df(X_train, \"train\", target)\n",
    "    #X_test = standardisation_df(X_test, \"test\", target)\n",
    "    X_train = quantile_normalisation(X_train)\n",
    "    X_test = quantile_normalisation(X_test)\n",
    "\n",
    "    #Etape 9 : ACP\n",
    "    #X_train = reduction_dim(X_train)\n",
    "    #X_test = reduction_dim(X_test)\n",
    "\n",
    "    return [X_train, X_test, y_train, y_test]"
   ]
  },
  {
   "cell_type": "code",
   "execution_count": 25,
   "metadata": {},
   "outputs": [],
   "source": [
    "from math import exp\n",
    "from sklearn.metrics import mean_squared_error, r2_score\n",
    "\n",
    "from sklearn.pipeline import Pipeline\n",
    "\n",
    "from sklearn.model_selection import cross_val_score\n",
    "from sklearn.model_selection import GridSearchCV\n",
    "\n",
    "from sklearn.linear_model import LinearRegression, Ridge, Lasso, ElasticNet\n",
    "from sklearn.neighbors import KNeighborsRegressor\n",
    "from sklearn.tree import DecisionTreeRegressor\n",
    "from sklearn.svm import SVR\n",
    "from sklearn.kernel_ridge import KernelRidge\n",
    "from sklearn.ensemble import RandomForestRegressor, GradientBoostingRegressor, AdaBoostRegressor\n",
    "from sklearn.neural_network import MLPRegressor"
   ]
  },
  {
   "cell_type": "code",
   "execution_count": 26,
   "metadata": {
    "jupyter": {
     "source_hidden": true
    }
   },
   "outputs": [],
   "source": [
    "def prep_modelisation(etape):\n",
    "    \n",
    "    random_state_const = 0\n",
    "    \n",
    "    if etape == 1:\n",
    "        \n",
    "        regressors = [\n",
    "            LinearRegression(),\n",
    "            Ridge(random_state = random_state_const),\n",
    "            Lasso(random_state = random_state_const),\n",
    "            ElasticNet(random_state = random_state_const),\n",
    "            KNeighborsRegressor(3),\n",
    "            SVR(C=1.0, kernel=\"rbf\", gamma=0.01),\n",
    "            DecisionTreeRegressor(random_state = random_state_const),\n",
    "            RandomForestRegressor(random_state = random_state_const),\n",
    "            AdaBoostRegressor(random_state = random_state_const),\n",
    "            GradientBoostingRegressor(random_state = random_state_const),\n",
    "            MLPRegressor(random_state = random_state_const)\n",
    "            ]\n",
    "    else:\n",
    "      \n",
    "        regressors = [\n",
    "            RandomForestRegressor(random_state = random_state_const),\n",
    "            GradientBoostingRegressor(random_state = random_state_const),\n",
    "            MLPRegressor(random_state = random_state_const)\n",
    "            ]  \n",
    "    \n",
    "    #Création des tableaux de résultats\n",
    "    df_results = pd.DataFrame(columns=[\"Modeles\", \"y_test\", \"y_pred\", \"RMSE\", \"y_test-y_pred\", \"abs(y_test-y_pred)\", \"%error\"])\n",
    "    \n",
    "    df_R2 = pd.DataFrame(columns=[\"Modèle\"])\n",
    "    df_RMSE_log = pd.DataFrame(columns=[\"Modèle\"])\n",
    "    df_RMSE_exp = pd.DataFrame(columns=[\"Modèle\"])\n",
    "\n",
    "    for regressor in regressors:\n",
    "        \n",
    "        #Remplissage du tableau de résultats\n",
    "        str_reg = str(regressor)\n",
    "        str_reg = str_reg[0:str_reg.find(\"(\")]\n",
    "    \n",
    "        df_R2.loc[len(df_R2)] = str_reg\n",
    "        df_RMSE_log.loc[len(df_RMSE_log)] = str_reg\n",
    "        df_RMSE_exp.loc[len(df_RMSE_exp)] = str_reg\n",
    "        \n",
    "        \n",
    "    return [regressors, df_R2, df_RMSE_log, df_RMSE_exp]\n",
    "    "
   ]
  },
  {
   "cell_type": "code",
   "execution_count": 26,
   "metadata": {},
   "outputs": [],
   "source": [
    "def prep_modelisation2(etape):\n",
    "    \n",
    "    random_state_const = 0\n",
    "    \n",
    "    if etape == 1:\n",
    "        \n",
    "        regressors = [\n",
    "            LinearRegression(),\n",
    "            Ridge(random_state = random_state_const),\n",
    "            Lasso(random_state = random_state_const),\n",
    "            ElasticNet(random_state = random_state_const),\n",
    "            KNeighborsRegressor(3),\n",
    "            SVR(C=1.0, kernel=\"rbf\", gamma=0.01),\n",
    "            DecisionTreeRegressor(random_state = random_state_const),\n",
    "            RandomForestRegressor(random_state = random_state_const),\n",
    "            AdaBoostRegressor(random_state = random_state_const),\n",
    "            GradientBoostingRegressor(random_state = random_state_const),\n",
    "            MLPRegressor(random_state = random_state_const)\n",
    "            ]\n",
    "    else:\n",
    "      \n",
    "        regressors = [\n",
    "            RandomForestRegressor(random_state = random_state_const),\n",
    "            GradientBoostingRegressor(random_state = random_state_const),\n",
    "            MLPRegressor(random_state = random_state_const)\n",
    "            ]  \n",
    "    \n",
    "    return regressors\n",
    "    "
   ]
  },
  {
   "cell_type": "code",
   "execution_count": 43,
   "metadata": {
    "jupyter": {
     "source_hidden": true
    }
   },
   "outputs": [],
   "source": [
    "def modelisation(X_train, X_test, y_train, y_test, regressors, df_R2, df_RMSE_log, df_RMSE_exp, etape):\n",
    "\n",
    "    for regressor in regressors:\n",
    "        \n",
    "        #Entrainement du modèle\n",
    "        pipe = Pipeline(steps=[('regressor', regressor)])\n",
    "        pipe.fit(X_train, y_train.values.ravel())\n",
    "    \n",
    "        #Prédictions\n",
    "        y_pred = regressor.predict(X_test)\n",
    "        \n",
    "        #Remplissage du tableau de résultats\n",
    "        str_reg = str(regressor)\n",
    "        str_reg = str_reg[0:str_reg.find(\"(\")]\n",
    "        \n",
    "        #On remplit la dernière ligne du tableau\n",
    "        r2 = round(r2_score(y_test, y_pred),3)\n",
    "        df_R2.loc[df_R2.Modèle == str_reg, etape] = r2\n",
    "        \n",
    "        rmse_log = round(np.sqrt(mean_squared_error(y_test, y_pred)),3)\n",
    "        df_RMSE_log.loc[df_RMSE_log.Modèle == str_reg, etape] = rmse_log\n",
    "        \n",
    "        rmse_exp = round(exp(rmse_log),3)\n",
    "        df_RMSE_exp.loc[df_RMSE_exp.Modèle == str_reg, etape] = rmse_exp\n",
    "        \n",
    "    return [df_R2, df_RMSE_log, df_RMSE_exp]\n",
    "        "
   ]
  },
  {
   "cell_type": "code",
   "execution_count": 27,
   "metadata": {},
   "outputs": [],
   "source": [
    "def modelisation2(X_train, X_test, y_train, y_test, regressors):\n",
    "\n",
    "    df_temp = pd.DataFrame()\n",
    "    for regressor in regressors:\n",
    "        \n",
    "        #Entrainement du modèle\n",
    "        pipe = Pipeline(steps=[('regressor', regressor)])\n",
    "        pipe.fit(X_train, y_train.values.ravel())\n",
    "    \n",
    "        #Prédictions\n",
    "        y_pred = regressor.predict(X_test)\n",
    "        \n",
    "        #Construction du tableau de résultats\n",
    "        #Nous créons un tableau par modèle\n",
    "        #On récupère le nom du modèle\n",
    "        str_reg = str(regressor)\n",
    "        str_reg = str_reg[0:str_reg.find(\"(\")]\n",
    "        \n",
    "        #Création du tableau de résultats\n",
    "        df1 = pd.DataFrame(y_pred)\n",
    "        df2 = y_test.reset_index()\n",
    "        #On concatène les prédictions et les vraies valeurs en les passant à l'exponentielle car les valeurs sont en log\n",
    "        df3 = pd.concat([np.exp(df2), np.exp(df1)], axis=1, sort=False)\n",
    "        #df3 = pd.concat([df2, df1], axis=1, sort=False)\n",
    "        df3.columns = [\"index\", \"y_test\", \"y_pred\"]\n",
    "        df3.drop(\"index\", axis=1, inplace=True)\n",
    "        \n",
    "        #On rajoute le nouveau modèle au tableau des résultats\n",
    "        df_temp = pd.concat([df_temp, calcul_scores(df3, str_reg)])\n",
    "        \n",
    "    return df_temp"
   ]
  },
  {
   "cell_type": "code",
   "execution_count": 28,
   "metadata": {},
   "outputs": [],
   "source": [
    "#Fonction dans laquelle sont calculés les scores\n",
    "def calcul_scores(df1, str_reg):\n",
    "    \n",
    "    #On remplit le nom du modèle dans le tableau\n",
    "    df1[\"Modeles\"] = str_reg\n",
    "\n",
    "    #On calcule la RMSE\n",
    "    df1[\"RMSE\"] = round(np.sqrt(mean_squared_error(df1[\"y_test\"], df1[\"y_pred\"])),3)\n",
    "\n",
    "    #On calcule les y_test-y_pred\n",
    "    df1[\"y_test-y_pred\"] = df1[\"y_test\"] - df1[\"y_pred\"]\n",
    "\n",
    "    #Ensuite la valeur absolue\n",
    "    df1[\"abs(y_test-y_pred)\"] = abs(df1[\"y_test\"] - df1[\"y_pred\"])\n",
    "\n",
    "    #Pour finir le pourcentage d'erreur\n",
    "    df1[\"%error\"] = (abs(df1[\"y_test\"] - df1[\"y_pred\"]) / df1[\"y_test\"]) * 100\n",
    "    \n",
    "    return df1"
   ]
  },
  {
   "cell_type": "code",
   "execution_count": 29,
   "metadata": {},
   "outputs": [],
   "source": [
    "#Cette fonction permet de calculer les valeurs moyennes de chaque passe\n",
    "def synthese_resultats(df_results):\n",
    "    \n",
    "\n",
    "    df_synthese = pd.DataFrame(columns=[\"Modeles\", \"y_test\", \"y_pred\", \"RMSE\", \"y_test-y_pred\", \"abs(y_test-y_pred)\", \"%error\"])\n",
    "\n",
    "    lst_modeles = df_results[\"Modeles\"].unique()\n",
    "\n",
    "    for modele in lst_modeles:\n",
    "\n",
    "        df_select_modele = df_results[df_results[\"Modeles\"] == modele]\n",
    "\n",
    "        df_temp = df_select_modele.groupby(df_select_modele.index).mean()\n",
    "        df_temp.insert(0, \"Modeles\", modele)\n",
    "\n",
    "        df_synthese = pd.concat([df_synthese,df_temp], sort=False)\n",
    "        \n",
    "    return df_synthese"
   ]
  },
  {
   "cell_type": "code",
   "execution_count": 30,
   "metadata": {},
   "outputs": [],
   "source": [
    "\n",
    "#ITERATION\n",
    "#lst_fuite_donnees = [\"Electricity(kBtu)\", \"NaturalGas(kBtu)\", \"SiteEUI(kBtu/sf)\", \"SourceEUI(kBtu/sf)\", \"SteamUse(kBtu)\"]\n",
    "#data.drop(lst_fuite_donnees, axis=1, inplace=True)\n",
    "\n",
    "#ENERGYSTARScore\n",
    "#data.drop(\"ENERGYSTARScore\", axis=1, inplace=True)"
   ]
  },
  {
   "cell_type": "markdown",
   "metadata": {},
   "source": [
    "# ENTRAINEMENT DES MODELES - ETAPE 1\n",
    "\n",
    "Entrainement des modèles sur des données filtrées (suppression d'outliers)."
   ]
  },
  {
   "cell_type": "code",
   "execution_count": 33,
   "metadata": {},
   "outputs": [
    {
     "name": "stdout",
     "output_type": "stream",
     "text": [
      "Passe n° 1\n",
      "6716 observations initiales\n",
      "5941 après suppressions outliers\n",
      "Encodage : 0 | Modalité : ['BALLARD'] | Nbr observations : 234 | Pourcentage : 3.94 %\n",
      "Encodage : 1 | Modalité : ['CENTRAL'] | Nbr observations : 219 | Pourcentage : 3.69 %\n",
      "Encodage : 2 | Modalité : ['DELRIDGE'] | Nbr observations : 151 | Pourcentage : 2.54 %\n",
      "Encodage : 3 | Modalité : ['DOWNTOWN'] | Nbr observations : 877 | Pourcentage : 14.76 %\n",
      "Encodage : 4 | Modalité : ['EAST'] | Nbr observations : 799 | Pourcentage : 13.45 %\n",
      "Encodage : 5 | Modalité : ['GREATER DUWAMISH'] | Nbr observations : 706 | Pourcentage : 11.88 %\n",
      "Encodage : 6 | Modalité : ['LAKE UNION'] | Nbr observations : 422 | Pourcentage : 7.1 %\n",
      "Encodage : 7 | Modalité : ['MAGNOLIA / QUEEN ANNE'] | Nbr observations : 779 | Pourcentage : 13.11 %\n",
      "Encodage : 8 | Modalité : ['NORTH'] | Nbr observations : 306 | Pourcentage : 5.15 %\n",
      "Encodage : 9 | Modalité : ['NORTHEAST'] | Nbr observations : 495 | Pourcentage : 8.33 %\n",
      "Encodage : 10 | Modalité : ['NORTHWEST'] | Nbr observations : 385 | Pourcentage : 6.48 %\n",
      "Encodage : 11 | Modalité : ['Others'] | Nbr observations : 87 | Pourcentage : 1.46 %\n",
      "Encodage : 12 | Modalité : ['SOUTHEAST'] | Nbr observations : 165 | Pourcentage : 2.78 %\n",
      "Encodage : 13 | Modalité : ['SOUTHWEST'] | Nbr observations : 316 | Pourcentage : 5.32 %\n",
      "4752 observations dans le dataset\n"
     ]
    },
    {
     "name": "stderr",
     "output_type": "stream",
     "text": [
      "C:\\Users\\julie\\Anaconda\\envs\\Projet 4\\lib\\site-packages\\sklearn\\ensemble\\forest.py:245: FutureWarning: The default value of n_estimators will change from 10 in version 0.20 to 100 in 0.22.\n",
      "  \"10 in version 0.20 to 100 in 0.22.\", FutureWarning)\n",
      "C:\\Users\\julie\\Anaconda\\envs\\Projet 4\\lib\\site-packages\\sklearn\\neural_network\\multilayer_perceptron.py:566: ConvergenceWarning: Stochastic Optimizer: Maximum iterations (200) reached and the optimization hasn't converged yet.\n",
      "  % self.max_iter, ConvergenceWarning)\n"
     ]
    },
    {
     "name": "stdout",
     "output_type": "stream",
     "text": [
      "Passe n° 2\n",
      "6716 observations initiales\n",
      "5941 après suppressions outliers\n",
      "Encodage : 0 | Modalité : ['BALLARD'] | Nbr observations : 234 | Pourcentage : 3.94 %\n",
      "Encodage : 1 | Modalité : ['CENTRAL'] | Nbr observations : 219 | Pourcentage : 3.69 %\n",
      "Encodage : 2 | Modalité : ['DELRIDGE'] | Nbr observations : 151 | Pourcentage : 2.54 %\n",
      "Encodage : 3 | Modalité : ['DOWNTOWN'] | Nbr observations : 877 | Pourcentage : 14.76 %\n",
      "Encodage : 4 | Modalité : ['EAST'] | Nbr observations : 799 | Pourcentage : 13.45 %\n",
      "Encodage : 5 | Modalité : ['GREATER DUWAMISH'] | Nbr observations : 706 | Pourcentage : 11.88 %\n",
      "Encodage : 6 | Modalité : ['LAKE UNION'] | Nbr observations : 422 | Pourcentage : 7.1 %\n",
      "Encodage : 7 | Modalité : ['MAGNOLIA / QUEEN ANNE'] | Nbr observations : 779 | Pourcentage : 13.11 %\n",
      "Encodage : 8 | Modalité : ['NORTH'] | Nbr observations : 306 | Pourcentage : 5.15 %\n",
      "Encodage : 9 | Modalité : ['NORTHEAST'] | Nbr observations : 495 | Pourcentage : 8.33 %\n",
      "Encodage : 10 | Modalité : ['NORTHWEST'] | Nbr observations : 385 | Pourcentage : 6.48 %\n",
      "Encodage : 11 | Modalité : ['Others'] | Nbr observations : 87 | Pourcentage : 1.46 %\n",
      "Encodage : 12 | Modalité : ['SOUTHEAST'] | Nbr observations : 165 | Pourcentage : 2.78 %\n",
      "Encodage : 13 | Modalité : ['SOUTHWEST'] | Nbr observations : 316 | Pourcentage : 5.32 %\n",
      "4752 observations dans le dataset\n"
     ]
    },
    {
     "name": "stderr",
     "output_type": "stream",
     "text": [
      "C:\\Users\\julie\\Anaconda\\envs\\Projet 4\\lib\\site-packages\\sklearn\\neural_network\\multilayer_perceptron.py:566: ConvergenceWarning: Stochastic Optimizer: Maximum iterations (200) reached and the optimization hasn't converged yet.\n",
      "  % self.max_iter, ConvergenceWarning)\n"
     ]
    },
    {
     "name": "stdout",
     "output_type": "stream",
     "text": [
      "Passe n° 3\n",
      "6716 observations initiales\n",
      "5941 après suppressions outliers\n",
      "Encodage : 0 | Modalité : ['BALLARD'] | Nbr observations : 234 | Pourcentage : 3.94 %\n",
      "Encodage : 1 | Modalité : ['CENTRAL'] | Nbr observations : 219 | Pourcentage : 3.69 %\n",
      "Encodage : 2 | Modalité : ['DELRIDGE'] | Nbr observations : 151 | Pourcentage : 2.54 %\n",
      "Encodage : 3 | Modalité : ['DOWNTOWN'] | Nbr observations : 877 | Pourcentage : 14.76 %\n",
      "Encodage : 4 | Modalité : ['EAST'] | Nbr observations : 799 | Pourcentage : 13.45 %\n",
      "Encodage : 5 | Modalité : ['GREATER DUWAMISH'] | Nbr observations : 706 | Pourcentage : 11.88 %\n",
      "Encodage : 6 | Modalité : ['LAKE UNION'] | Nbr observations : 422 | Pourcentage : 7.1 %\n",
      "Encodage : 7 | Modalité : ['MAGNOLIA / QUEEN ANNE'] | Nbr observations : 779 | Pourcentage : 13.11 %\n",
      "Encodage : 8 | Modalité : ['NORTH'] | Nbr observations : 306 | Pourcentage : 5.15 %\n",
      "Encodage : 9 | Modalité : ['NORTHEAST'] | Nbr observations : 495 | Pourcentage : 8.33 %\n",
      "Encodage : 10 | Modalité : ['NORTHWEST'] | Nbr observations : 385 | Pourcentage : 6.48 %\n",
      "Encodage : 11 | Modalité : ['Others'] | Nbr observations : 87 | Pourcentage : 1.46 %\n",
      "Encodage : 12 | Modalité : ['SOUTHEAST'] | Nbr observations : 165 | Pourcentage : 2.78 %\n",
      "Encodage : 13 | Modalité : ['SOUTHWEST'] | Nbr observations : 316 | Pourcentage : 5.32 %\n",
      "4752 observations dans le dataset\n"
     ]
    },
    {
     "name": "stderr",
     "output_type": "stream",
     "text": [
      "C:\\Users\\julie\\Anaconda\\envs\\Projet 4\\lib\\site-packages\\sklearn\\neural_network\\multilayer_perceptron.py:566: ConvergenceWarning: Stochastic Optimizer: Maximum iterations (200) reached and the optimization hasn't converged yet.\n",
      "  % self.max_iter, ConvergenceWarning)\n"
     ]
    },
    {
     "name": "stdout",
     "output_type": "stream",
     "text": [
      "Passe n° 4\n",
      "6716 observations initiales\n",
      "5941 après suppressions outliers\n",
      "Encodage : 0 | Modalité : ['BALLARD'] | Nbr observations : 234 | Pourcentage : 3.94 %\n",
      "Encodage : 1 | Modalité : ['CENTRAL'] | Nbr observations : 219 | Pourcentage : 3.69 %\n",
      "Encodage : 2 | Modalité : ['DELRIDGE'] | Nbr observations : 151 | Pourcentage : 2.54 %\n",
      "Encodage : 3 | Modalité : ['DOWNTOWN'] | Nbr observations : 877 | Pourcentage : 14.76 %\n",
      "Encodage : 4 | Modalité : ['EAST'] | Nbr observations : 799 | Pourcentage : 13.45 %\n",
      "Encodage : 5 | Modalité : ['GREATER DUWAMISH'] | Nbr observations : 706 | Pourcentage : 11.88 %\n",
      "Encodage : 6 | Modalité : ['LAKE UNION'] | Nbr observations : 422 | Pourcentage : 7.1 %\n",
      "Encodage : 7 | Modalité : ['MAGNOLIA / QUEEN ANNE'] | Nbr observations : 779 | Pourcentage : 13.11 %\n",
      "Encodage : 8 | Modalité : ['NORTH'] | Nbr observations : 306 | Pourcentage : 5.15 %\n",
      "Encodage : 9 | Modalité : ['NORTHEAST'] | Nbr observations : 495 | Pourcentage : 8.33 %\n",
      "Encodage : 10 | Modalité : ['NORTHWEST'] | Nbr observations : 385 | Pourcentage : 6.48 %\n",
      "Encodage : 11 | Modalité : ['Others'] | Nbr observations : 87 | Pourcentage : 1.46 %\n",
      "Encodage : 12 | Modalité : ['SOUTHEAST'] | Nbr observations : 165 | Pourcentage : 2.78 %\n",
      "Encodage : 13 | Modalité : ['SOUTHWEST'] | Nbr observations : 316 | Pourcentage : 5.32 %\n",
      "4752 observations dans le dataset\n"
     ]
    },
    {
     "name": "stderr",
     "output_type": "stream",
     "text": [
      "C:\\Users\\julie\\Anaconda\\envs\\Projet 4\\lib\\site-packages\\sklearn\\neural_network\\multilayer_perceptron.py:566: ConvergenceWarning: Stochastic Optimizer: Maximum iterations (200) reached and the optimization hasn't converged yet.\n",
      "  % self.max_iter, ConvergenceWarning)\n"
     ]
    },
    {
     "name": "stdout",
     "output_type": "stream",
     "text": [
      "Passe n° 5\n",
      "6716 observations initiales\n",
      "5941 après suppressions outliers\n",
      "Encodage : 0 | Modalité : ['BALLARD'] | Nbr observations : 234 | Pourcentage : 3.94 %\n",
      "Encodage : 1 | Modalité : ['CENTRAL'] | Nbr observations : 219 | Pourcentage : 3.69 %\n",
      "Encodage : 2 | Modalité : ['DELRIDGE'] | Nbr observations : 151 | Pourcentage : 2.54 %\n",
      "Encodage : 3 | Modalité : ['DOWNTOWN'] | Nbr observations : 877 | Pourcentage : 14.76 %\n",
      "Encodage : 4 | Modalité : ['EAST'] | Nbr observations : 799 | Pourcentage : 13.45 %\n",
      "Encodage : 5 | Modalité : ['GREATER DUWAMISH'] | Nbr observations : 706 | Pourcentage : 11.88 %\n",
      "Encodage : 6 | Modalité : ['LAKE UNION'] | Nbr observations : 422 | Pourcentage : 7.1 %\n",
      "Encodage : 7 | Modalité : ['MAGNOLIA / QUEEN ANNE'] | Nbr observations : 779 | Pourcentage : 13.11 %\n",
      "Encodage : 8 | Modalité : ['NORTH'] | Nbr observations : 306 | Pourcentage : 5.15 %\n",
      "Encodage : 9 | Modalité : ['NORTHEAST'] | Nbr observations : 495 | Pourcentage : 8.33 %\n",
      "Encodage : 10 | Modalité : ['NORTHWEST'] | Nbr observations : 385 | Pourcentage : 6.48 %\n",
      "Encodage : 11 | Modalité : ['Others'] | Nbr observations : 87 | Pourcentage : 1.46 %\n",
      "Encodage : 12 | Modalité : ['SOUTHEAST'] | Nbr observations : 165 | Pourcentage : 2.78 %\n",
      "Encodage : 13 | Modalité : ['SOUTHWEST'] | Nbr observations : 316 | Pourcentage : 5.32 %\n",
      "4752 observations dans le dataset\n"
     ]
    },
    {
     "name": "stderr",
     "output_type": "stream",
     "text": [
      "C:\\Users\\julie\\Anaconda\\envs\\Projet 4\\lib\\site-packages\\sklearn\\neural_network\\multilayer_perceptron.py:566: ConvergenceWarning: Stochastic Optimizer: Maximum iterations (200) reached and the optimization hasn't converged yet.\n",
      "  % self.max_iter, ConvergenceWarning)\n"
     ]
    },
    {
     "name": "stdout",
     "output_type": "stream",
     "text": [
      "Passe n° 6\n",
      "6716 observations initiales\n",
      "5941 après suppressions outliers\n",
      "Encodage : 0 | Modalité : ['BALLARD'] | Nbr observations : 234 | Pourcentage : 3.94 %\n",
      "Encodage : 1 | Modalité : ['CENTRAL'] | Nbr observations : 219 | Pourcentage : 3.69 %\n",
      "Encodage : 2 | Modalité : ['DELRIDGE'] | Nbr observations : 151 | Pourcentage : 2.54 %\n",
      "Encodage : 3 | Modalité : ['DOWNTOWN'] | Nbr observations : 877 | Pourcentage : 14.76 %\n",
      "Encodage : 4 | Modalité : ['EAST'] | Nbr observations : 799 | Pourcentage : 13.45 %\n",
      "Encodage : 5 | Modalité : ['GREATER DUWAMISH'] | Nbr observations : 706 | Pourcentage : 11.88 %\n",
      "Encodage : 6 | Modalité : ['LAKE UNION'] | Nbr observations : 422 | Pourcentage : 7.1 %\n",
      "Encodage : 7 | Modalité : ['MAGNOLIA / QUEEN ANNE'] | Nbr observations : 779 | Pourcentage : 13.11 %\n",
      "Encodage : 8 | Modalité : ['NORTH'] | Nbr observations : 306 | Pourcentage : 5.15 %\n",
      "Encodage : 9 | Modalité : ['NORTHEAST'] | Nbr observations : 495 | Pourcentage : 8.33 %\n",
      "Encodage : 10 | Modalité : ['NORTHWEST'] | Nbr observations : 385 | Pourcentage : 6.48 %\n",
      "Encodage : 11 | Modalité : ['Others'] | Nbr observations : 87 | Pourcentage : 1.46 %\n",
      "Encodage : 12 | Modalité : ['SOUTHEAST'] | Nbr observations : 165 | Pourcentage : 2.78 %\n",
      "Encodage : 13 | Modalité : ['SOUTHWEST'] | Nbr observations : 316 | Pourcentage : 5.32 %\n",
      "4752 observations dans le dataset\n"
     ]
    },
    {
     "name": "stderr",
     "output_type": "stream",
     "text": [
      "C:\\Users\\julie\\Anaconda\\envs\\Projet 4\\lib\\site-packages\\sklearn\\neural_network\\multilayer_perceptron.py:566: ConvergenceWarning: Stochastic Optimizer: Maximum iterations (200) reached and the optimization hasn't converged yet.\n",
      "  % self.max_iter, ConvergenceWarning)\n"
     ]
    },
    {
     "name": "stdout",
     "output_type": "stream",
     "text": [
      "Passe n° 7\n",
      "6716 observations initiales\n",
      "5941 après suppressions outliers\n",
      "Encodage : 0 | Modalité : ['BALLARD'] | Nbr observations : 234 | Pourcentage : 3.94 %\n",
      "Encodage : 1 | Modalité : ['CENTRAL'] | Nbr observations : 219 | Pourcentage : 3.69 %\n",
      "Encodage : 2 | Modalité : ['DELRIDGE'] | Nbr observations : 151 | Pourcentage : 2.54 %\n",
      "Encodage : 3 | Modalité : ['DOWNTOWN'] | Nbr observations : 877 | Pourcentage : 14.76 %\n",
      "Encodage : 4 | Modalité : ['EAST'] | Nbr observations : 799 | Pourcentage : 13.45 %\n",
      "Encodage : 5 | Modalité : ['GREATER DUWAMISH'] | Nbr observations : 706 | Pourcentage : 11.88 %\n",
      "Encodage : 6 | Modalité : ['LAKE UNION'] | Nbr observations : 422 | Pourcentage : 7.1 %\n",
      "Encodage : 7 | Modalité : ['MAGNOLIA / QUEEN ANNE'] | Nbr observations : 779 | Pourcentage : 13.11 %\n",
      "Encodage : 8 | Modalité : ['NORTH'] | Nbr observations : 306 | Pourcentage : 5.15 %\n",
      "Encodage : 9 | Modalité : ['NORTHEAST'] | Nbr observations : 495 | Pourcentage : 8.33 %\n",
      "Encodage : 10 | Modalité : ['NORTHWEST'] | Nbr observations : 385 | Pourcentage : 6.48 %\n",
      "Encodage : 11 | Modalité : ['Others'] | Nbr observations : 87 | Pourcentage : 1.46 %\n",
      "Encodage : 12 | Modalité : ['SOUTHEAST'] | Nbr observations : 165 | Pourcentage : 2.78 %\n",
      "Encodage : 13 | Modalité : ['SOUTHWEST'] | Nbr observations : 316 | Pourcentage : 5.32 %\n",
      "4752 observations dans le dataset\n"
     ]
    },
    {
     "name": "stderr",
     "output_type": "stream",
     "text": [
      "C:\\Users\\julie\\Anaconda\\envs\\Projet 4\\lib\\site-packages\\sklearn\\neural_network\\multilayer_perceptron.py:566: ConvergenceWarning: Stochastic Optimizer: Maximum iterations (200) reached and the optimization hasn't converged yet.\n",
      "  % self.max_iter, ConvergenceWarning)\n"
     ]
    },
    {
     "name": "stdout",
     "output_type": "stream",
     "text": [
      "Passe n° 8\n",
      "6716 observations initiales\n",
      "5941 après suppressions outliers\n",
      "Encodage : 0 | Modalité : ['BALLARD'] | Nbr observations : 234 | Pourcentage : 3.94 %\n",
      "Encodage : 1 | Modalité : ['CENTRAL'] | Nbr observations : 219 | Pourcentage : 3.69 %\n",
      "Encodage : 2 | Modalité : ['DELRIDGE'] | Nbr observations : 151 | Pourcentage : 2.54 %\n",
      "Encodage : 3 | Modalité : ['DOWNTOWN'] | Nbr observations : 877 | Pourcentage : 14.76 %\n",
      "Encodage : 4 | Modalité : ['EAST'] | Nbr observations : 799 | Pourcentage : 13.45 %\n",
      "Encodage : 5 | Modalité : ['GREATER DUWAMISH'] | Nbr observations : 706 | Pourcentage : 11.88 %\n",
      "Encodage : 6 | Modalité : ['LAKE UNION'] | Nbr observations : 422 | Pourcentage : 7.1 %\n",
      "Encodage : 7 | Modalité : ['MAGNOLIA / QUEEN ANNE'] | Nbr observations : 779 | Pourcentage : 13.11 %\n",
      "Encodage : 8 | Modalité : ['NORTH'] | Nbr observations : 306 | Pourcentage : 5.15 %\n",
      "Encodage : 9 | Modalité : ['NORTHEAST'] | Nbr observations : 495 | Pourcentage : 8.33 %\n",
      "Encodage : 10 | Modalité : ['NORTHWEST'] | Nbr observations : 385 | Pourcentage : 6.48 %\n",
      "Encodage : 11 | Modalité : ['Others'] | Nbr observations : 87 | Pourcentage : 1.46 %\n",
      "Encodage : 12 | Modalité : ['SOUTHEAST'] | Nbr observations : 165 | Pourcentage : 2.78 %\n",
      "Encodage : 13 | Modalité : ['SOUTHWEST'] | Nbr observations : 316 | Pourcentage : 5.32 %\n",
      "4752 observations dans le dataset\n"
     ]
    },
    {
     "name": "stderr",
     "output_type": "stream",
     "text": [
      "C:\\Users\\julie\\Anaconda\\envs\\Projet 4\\lib\\site-packages\\sklearn\\neural_network\\multilayer_perceptron.py:566: ConvergenceWarning: Stochastic Optimizer: Maximum iterations (200) reached and the optimization hasn't converged yet.\n",
      "  % self.max_iter, ConvergenceWarning)\n"
     ]
    },
    {
     "name": "stdout",
     "output_type": "stream",
     "text": [
      "Passe n° 9\n",
      "6716 observations initiales\n",
      "5941 après suppressions outliers\n",
      "Encodage : 0 | Modalité : ['BALLARD'] | Nbr observations : 234 | Pourcentage : 3.94 %\n",
      "Encodage : 1 | Modalité : ['CENTRAL'] | Nbr observations : 219 | Pourcentage : 3.69 %\n",
      "Encodage : 2 | Modalité : ['DELRIDGE'] | Nbr observations : 151 | Pourcentage : 2.54 %\n",
      "Encodage : 3 | Modalité : ['DOWNTOWN'] | Nbr observations : 877 | Pourcentage : 14.76 %\n",
      "Encodage : 4 | Modalité : ['EAST'] | Nbr observations : 799 | Pourcentage : 13.45 %\n",
      "Encodage : 5 | Modalité : ['GREATER DUWAMISH'] | Nbr observations : 706 | Pourcentage : 11.88 %\n",
      "Encodage : 6 | Modalité : ['LAKE UNION'] | Nbr observations : 422 | Pourcentage : 7.1 %\n",
      "Encodage : 7 | Modalité : ['MAGNOLIA / QUEEN ANNE'] | Nbr observations : 779 | Pourcentage : 13.11 %\n",
      "Encodage : 8 | Modalité : ['NORTH'] | Nbr observations : 306 | Pourcentage : 5.15 %\n",
      "Encodage : 9 | Modalité : ['NORTHEAST'] | Nbr observations : 495 | Pourcentage : 8.33 %\n",
      "Encodage : 10 | Modalité : ['NORTHWEST'] | Nbr observations : 385 | Pourcentage : 6.48 %\n",
      "Encodage : 11 | Modalité : ['Others'] | Nbr observations : 87 | Pourcentage : 1.46 %\n",
      "Encodage : 12 | Modalité : ['SOUTHEAST'] | Nbr observations : 165 | Pourcentage : 2.78 %\n",
      "Encodage : 13 | Modalité : ['SOUTHWEST'] | Nbr observations : 316 | Pourcentage : 5.32 %\n",
      "4752 observations dans le dataset\n"
     ]
    },
    {
     "name": "stderr",
     "output_type": "stream",
     "text": [
      "C:\\Users\\julie\\Anaconda\\envs\\Projet 4\\lib\\site-packages\\sklearn\\neural_network\\multilayer_perceptron.py:566: ConvergenceWarning: Stochastic Optimizer: Maximum iterations (200) reached and the optimization hasn't converged yet.\n",
      "  % self.max_iter, ConvergenceWarning)\n"
     ]
    },
    {
     "name": "stdout",
     "output_type": "stream",
     "text": [
      "Passe n° 10\n",
      "6716 observations initiales\n",
      "5941 après suppressions outliers\n",
      "Encodage : 0 | Modalité : ['BALLARD'] | Nbr observations : 234 | Pourcentage : 3.94 %\n",
      "Encodage : 1 | Modalité : ['CENTRAL'] | Nbr observations : 219 | Pourcentage : 3.69 %\n",
      "Encodage : 2 | Modalité : ['DELRIDGE'] | Nbr observations : 151 | Pourcentage : 2.54 %\n",
      "Encodage : 3 | Modalité : ['DOWNTOWN'] | Nbr observations : 877 | Pourcentage : 14.76 %\n",
      "Encodage : 4 | Modalité : ['EAST'] | Nbr observations : 799 | Pourcentage : 13.45 %\n",
      "Encodage : 5 | Modalité : ['GREATER DUWAMISH'] | Nbr observations : 706 | Pourcentage : 11.88 %\n",
      "Encodage : 6 | Modalité : ['LAKE UNION'] | Nbr observations : 422 | Pourcentage : 7.1 %\n",
      "Encodage : 7 | Modalité : ['MAGNOLIA / QUEEN ANNE'] | Nbr observations : 779 | Pourcentage : 13.11 %\n",
      "Encodage : 8 | Modalité : ['NORTH'] | Nbr observations : 306 | Pourcentage : 5.15 %\n",
      "Encodage : 9 | Modalité : ['NORTHEAST'] | Nbr observations : 495 | Pourcentage : 8.33 %\n",
      "Encodage : 10 | Modalité : ['NORTHWEST'] | Nbr observations : 385 | Pourcentage : 6.48 %\n",
      "Encodage : 11 | Modalité : ['Others'] | Nbr observations : 87 | Pourcentage : 1.46 %\n",
      "Encodage : 12 | Modalité : ['SOUTHEAST'] | Nbr observations : 165 | Pourcentage : 2.78 %\n",
      "Encodage : 13 | Modalité : ['SOUTHWEST'] | Nbr observations : 316 | Pourcentage : 5.32 %\n",
      "4752 observations dans le dataset\n",
      "Mise en forme des résultats\n",
      "Wall time: 1min\n"
     ]
    },
    {
     "name": "stderr",
     "output_type": "stream",
     "text": [
      "C:\\Users\\julie\\Anaconda\\envs\\Projet 4\\lib\\site-packages\\sklearn\\neural_network\\multilayer_perceptron.py:566: ConvergenceWarning: Stochastic Optimizer: Maximum iterations (200) reached and the optimization hasn't converged yet.\n",
      "  % self.max_iter, ConvergenceWarning)\n"
     ]
    }
   ],
   "source": [
    "%%time\n",
    "\n",
    "#LANCEMENT DE LA MODELISATION\n",
    "target = \"TotalEmissionGES\"\n",
    "#target = \"SiteEnergyUse(kBtu)\"\n",
    "\n",
    "\n",
    "#ETAPE 1 : MODELISATION AVEC FILTRAGE\n",
    "#Modélisation en 10 étapes pour vérification en validation croisée\n",
    "#Chargement des modèles\n",
    "regressors = prep_modelisation2(1)\n",
    "\n",
    "#On prépare le taleau de synthèse\n",
    "df_results = pd.DataFrame(columns=[\"Modeles\", \"y_test\", \"y_pred\", \"RMSE\", \"y_test-y_pred\", \"abs(y_test-y_pred)\", \"%error\"])\n",
    "\n",
    "i=1\n",
    "nb_passes = 10\n",
    "while i <= nb_passes:\n",
    "    \n",
    "    print(\"Passe n°\", i)\n",
    "    \n",
    "    #Préprocessing\n",
    "    X_train, X_test, y_train, y_test = pipeline_preprocessing(data, target, 1)\n",
    "    \n",
    "    print(X_train.shape[0], \"observations dans le dataset\")\n",
    "    \n",
    "    #Entrainement des modèles\n",
    "    df_temp = modelisation2(X_train, X_test, y_train, y_test, regressors)\n",
    "    \n",
    "    df_results = pd.concat([df_results, df_temp], sort=False)\n",
    "                                    \n",
    "    i+=1\n",
    "\n",
    "print(\"Mise en forme des résultats\")\n",
    "df_synthese = synthese_resultats(df_results)\n",
    "\n",
    "#Calcul des moyennes\n",
    "#df_R2[\"mean\"] = round(df_R2.iloc[:, 2:].astype(float).median(axis=1),2)\n",
    "#df_RMSE_log[\"mean\"] = round(df_RMSE_log.iloc[:, 2:].astype(float).median(axis=1),2)\n",
    "#df_RMSE_exp[\"mean\"] = round(df_RMSE_exp.iloc[:, 2:].astype(float).median(axis=1),2)\n"
   ]
  },
  {
   "cell_type": "markdown",
   "metadata": {},
   "source": [
    "# ANALYSE DES RESULTATS\n",
    "\n",
    "Nous allons maintenant analyser les résultats.\n",
    "\n",
    "PLusieurs analyses vont être abordées :\n",
    " - Analyse des moyennes et médianes de la RMSE et des % d'erreurs de chaque modèle\n",
    " - Analyse des scores sur les petites targets et les grosses targets"
   ]
  },
  {
   "cell_type": "code",
   "execution_count": 34,
   "metadata": {},
   "outputs": [],
   "source": [
    "#Création d'un tableau avec les moyennes des valeurs collectées à chaque passe\n",
    "lst_modeles = df_results[\"Modeles\"].unique()\n",
    "\n",
    "df_mean = pd.DataFrame()\n",
    "\n",
    "for modele in lst_modeles:\n",
    "    \n",
    "    df_temp = df_results[df_results[\"Modeles\"] == modele]\n",
    "    df_temp = df_temp.groupby(df_temp.index, as_index=False).mean()\n",
    "    df_temp.insert(0,\"Modeles\", modele)\n",
    "    df_mean = pd.concat([df_mean, df_temp], sort=False)"
   ]
  },
  {
   "cell_type": "code",
   "execution_count": 35,
   "metadata": {},
   "outputs": [
    {
     "data": {
      "text/html": [
       "<div>\n",
       "<style scoped>\n",
       "    .dataframe tbody tr th:only-of-type {\n",
       "        vertical-align: middle;\n",
       "    }\n",
       "\n",
       "    .dataframe tbody tr th {\n",
       "        vertical-align: top;\n",
       "    }\n",
       "\n",
       "    .dataframe thead th {\n",
       "        text-align: right;\n",
       "    }\n",
       "</style>\n",
       "<table border=\"1\" class=\"dataframe\">\n",
       "  <thead>\n",
       "    <tr style=\"text-align: right;\">\n",
       "      <th></th>\n",
       "      <th>Modeles</th>\n",
       "      <th>y_test</th>\n",
       "      <th>y_pred</th>\n",
       "      <th>RMSE</th>\n",
       "      <th>y_test-y_pred</th>\n",
       "      <th>abs(y_test-y_pred)</th>\n",
       "      <th>%error</th>\n",
       "    </tr>\n",
       "  </thead>\n",
       "  <tbody>\n",
       "    <tr>\n",
       "      <th>0</th>\n",
       "      <td>LinearRegression</td>\n",
       "      <td>14.99</td>\n",
       "      <td>25.549062</td>\n",
       "      <td>36.565</td>\n",
       "      <td>-10.559062</td>\n",
       "      <td>10.559062</td>\n",
       "      <td>70.440704</td>\n",
       "    </tr>\n",
       "    <tr>\n",
       "      <th>1</th>\n",
       "      <td>LinearRegression</td>\n",
       "      <td>115.76</td>\n",
       "      <td>66.188378</td>\n",
       "      <td>36.565</td>\n",
       "      <td>49.571622</td>\n",
       "      <td>49.571622</td>\n",
       "      <td>42.822756</td>\n",
       "    </tr>\n",
       "    <tr>\n",
       "      <th>2</th>\n",
       "      <td>LinearRegression</td>\n",
       "      <td>7.88</td>\n",
       "      <td>10.385952</td>\n",
       "      <td>36.565</td>\n",
       "      <td>-2.505952</td>\n",
       "      <td>2.505952</td>\n",
       "      <td>31.801418</td>\n",
       "    </tr>\n",
       "    <tr>\n",
       "      <th>3</th>\n",
       "      <td>LinearRegression</td>\n",
       "      <td>101.96</td>\n",
       "      <td>51.560147</td>\n",
       "      <td>36.565</td>\n",
       "      <td>50.399853</td>\n",
       "      <td>50.399853</td>\n",
       "      <td>49.431006</td>\n",
       "    </tr>\n",
       "    <tr>\n",
       "      <th>4</th>\n",
       "      <td>LinearRegression</td>\n",
       "      <td>26.90</td>\n",
       "      <td>29.050002</td>\n",
       "      <td>36.565</td>\n",
       "      <td>-2.150002</td>\n",
       "      <td>2.150002</td>\n",
       "      <td>7.992573</td>\n",
       "    </tr>\n",
       "  </tbody>\n",
       "</table>\n",
       "</div>"
      ],
      "text/plain": [
       "            Modeles  y_test     y_pred    RMSE  y_test-y_pred  \\\n",
       "0  LinearRegression   14.99  25.549062  36.565     -10.559062   \n",
       "1  LinearRegression  115.76  66.188378  36.565      49.571622   \n",
       "2  LinearRegression    7.88  10.385952  36.565      -2.505952   \n",
       "3  LinearRegression  101.96  51.560147  36.565      50.399853   \n",
       "4  LinearRegression   26.90  29.050002  36.565      -2.150002   \n",
       "\n",
       "   abs(y_test-y_pred)     %error  \n",
       "0           10.559062  70.440704  \n",
       "1           49.571622  42.822756  \n",
       "2            2.505952  31.801418  \n",
       "3           50.399853  49.431006  \n",
       "4            2.150002   7.992573  "
      ]
     },
     "execution_count": 35,
     "metadata": {},
     "output_type": "execute_result"
    }
   ],
   "source": [
    "df_mean.head()"
   ]
  },
  {
   "cell_type": "code",
   "execution_count": 36,
   "metadata": {},
   "outputs": [],
   "source": [
    "#Création d'un tableau avec les résultats moyens de chaque modèle\n",
    "lst_modeles = df_mean[\"Modeles\"].unique()\n",
    "\n",
    "rmse = []\n",
    "mean_percent_err = []\n",
    "median_percent_err = []\n",
    "r2 = []\n",
    "\n",
    "df_analyse = pd.DataFrame()\n",
    "\n",
    "\n",
    "for modele in lst_modeles:\n",
    "    \n",
    "    df_temp = df_mean[df_mean[\"Modeles\"] == modele]\n",
    "    \n",
    "    rmse.append(round(df_temp[\"RMSE\"].mean(),3))\n",
    "    mean_percent_err.append(round(df_temp[\"%error\"].mean(),3))\n",
    "    median_percent_err.append(round(df_temp[\"%error\"].median(),3))\n",
    "    \n",
    "    r2.append(round(r2_score(df_temp[\"y_test\"], df_temp[\"y_pred\"]),3))\n",
    "    \n",
    "df_analyse[\"Modeles\"] = lst_modeles  \n",
    "df_analyse[\"RMSE\"] = rmse\n",
    "df_analyse[\"mean_percent_err\"] = mean_percent_err\n",
    "df_analyse[\"median_percent_err\"] = median_percent_err\n",
    "df_analyse[\"R2\"] = r2"
   ]
  },
  {
   "cell_type": "code",
   "execution_count": 37,
   "metadata": {},
   "outputs": [
    {
     "data": {
      "text/html": [
       "<div>\n",
       "<style scoped>\n",
       "    .dataframe tbody tr th:only-of-type {\n",
       "        vertical-align: middle;\n",
       "    }\n",
       "\n",
       "    .dataframe tbody tr th {\n",
       "        vertical-align: top;\n",
       "    }\n",
       "\n",
       "    .dataframe thead th {\n",
       "        text-align: right;\n",
       "    }\n",
       "</style>\n",
       "<table border=\"1\" class=\"dataframe\">\n",
       "  <thead>\n",
       "    <tr style=\"text-align: right;\">\n",
       "      <th></th>\n",
       "      <th>Modeles</th>\n",
       "      <th>RMSE</th>\n",
       "      <th>mean_percent_err</th>\n",
       "      <th>median_percent_err</th>\n",
       "      <th>R2</th>\n",
       "    </tr>\n",
       "  </thead>\n",
       "  <tbody>\n",
       "    <tr>\n",
       "      <th>0</th>\n",
       "      <td>LinearRegression</td>\n",
       "      <td>36.565</td>\n",
       "      <td>57.234</td>\n",
       "      <td>32.060</td>\n",
       "      <td>0.398</td>\n",
       "    </tr>\n",
       "    <tr>\n",
       "      <th>1</th>\n",
       "      <td>Ridge</td>\n",
       "      <td>36.524</td>\n",
       "      <td>57.451</td>\n",
       "      <td>32.437</td>\n",
       "      <td>0.400</td>\n",
       "    </tr>\n",
       "    <tr>\n",
       "      <th>2</th>\n",
       "      <td>Lasso</td>\n",
       "      <td>51.195</td>\n",
       "      <td>189.278</td>\n",
       "      <td>75.455</td>\n",
       "      <td>-0.180</td>\n",
       "    </tr>\n",
       "    <tr>\n",
       "      <th>3</th>\n",
       "      <td>ElasticNet</td>\n",
       "      <td>51.195</td>\n",
       "      <td>189.278</td>\n",
       "      <td>75.455</td>\n",
       "      <td>-0.180</td>\n",
       "    </tr>\n",
       "    <tr>\n",
       "      <th>4</th>\n",
       "      <td>KNeighborsRegressor</td>\n",
       "      <td>34.615</td>\n",
       "      <td>68.893</td>\n",
       "      <td>30.597</td>\n",
       "      <td>0.461</td>\n",
       "    </tr>\n",
       "    <tr>\n",
       "      <th>5</th>\n",
       "      <td>SVR</td>\n",
       "      <td>35.068</td>\n",
       "      <td>59.470</td>\n",
       "      <td>30.361</td>\n",
       "      <td>0.446</td>\n",
       "    </tr>\n",
       "    <tr>\n",
       "      <th>6</th>\n",
       "      <td>DecisionTreeRegressor</td>\n",
       "      <td>32.713</td>\n",
       "      <td>53.608</td>\n",
       "      <td>17.901</td>\n",
       "      <td>0.518</td>\n",
       "    </tr>\n",
       "    <tr>\n",
       "      <th>7</th>\n",
       "      <td>RandomForestRegressor</td>\n",
       "      <td>27.197</td>\n",
       "      <td>42.487</td>\n",
       "      <td>20.533</td>\n",
       "      <td>0.667</td>\n",
       "    </tr>\n",
       "    <tr>\n",
       "      <th>8</th>\n",
       "      <td>AdaBoostRegressor</td>\n",
       "      <td>43.377</td>\n",
       "      <td>64.921</td>\n",
       "      <td>44.409</td>\n",
       "      <td>0.153</td>\n",
       "    </tr>\n",
       "    <tr>\n",
       "      <th>9</th>\n",
       "      <td>GradientBoostingRegressor</td>\n",
       "      <td>31.084</td>\n",
       "      <td>51.294</td>\n",
       "      <td>28.247</td>\n",
       "      <td>0.565</td>\n",
       "    </tr>\n",
       "    <tr>\n",
       "      <th>10</th>\n",
       "      <td>MLPRegressor</td>\n",
       "      <td>31.135</td>\n",
       "      <td>55.298</td>\n",
       "      <td>27.658</td>\n",
       "      <td>0.564</td>\n",
       "    </tr>\n",
       "  </tbody>\n",
       "</table>\n",
       "</div>"
      ],
      "text/plain": [
       "                      Modeles    RMSE  mean_percent_err  median_percent_err  \\\n",
       "0            LinearRegression  36.565            57.234              32.060   \n",
       "1                       Ridge  36.524            57.451              32.437   \n",
       "2                       Lasso  51.195           189.278              75.455   \n",
       "3                  ElasticNet  51.195           189.278              75.455   \n",
       "4         KNeighborsRegressor  34.615            68.893              30.597   \n",
       "5                         SVR  35.068            59.470              30.361   \n",
       "6       DecisionTreeRegressor  32.713            53.608              17.901   \n",
       "7       RandomForestRegressor  27.197            42.487              20.533   \n",
       "8           AdaBoostRegressor  43.377            64.921              44.409   \n",
       "9   GradientBoostingRegressor  31.084            51.294              28.247   \n",
       "10               MLPRegressor  31.135            55.298              27.658   \n",
       "\n",
       "       R2  \n",
       "0   0.398  \n",
       "1   0.400  \n",
       "2  -0.180  \n",
       "3  -0.180  \n",
       "4   0.461  \n",
       "5   0.446  \n",
       "6   0.518  \n",
       "7   0.667  \n",
       "8   0.153  \n",
       "9   0.565  \n",
       "10  0.564  "
      ]
     },
     "execution_count": 37,
     "metadata": {},
     "output_type": "execute_result"
    }
   ],
   "source": [
    "df_analyse"
   ]
  },
  {
   "cell_type": "markdown",
   "metadata": {},
   "source": [
    "### Affichage des résultats globaux de chaque modèle\n",
    "\n",
    "L'analyse de ces résultats nous permetrra d'en ressortir les modèles les plus prometteurs. Nous choisirons les 3 meilleurs."
   ]
  },
  {
   "cell_type": "code",
   "execution_count": 38,
   "metadata": {},
   "outputs": [
    {
     "data": {
      "image/png": "[encoded data removed]",
      "text/plain": [
       "<Figure size 1800x720 with 1 Axes>"
      ]
     },
     "metadata": {
      "needs_background": "light"
     },
     "output_type": "display_data"
    }
   ],
   "source": [
    "labels = df_analyse[\"Modeles\"].unique()\n",
    "    \n",
    "x = np.arange(len(labels))  # the label locations\n",
    "width = 0.25  # the width of the bars\n",
    "\n",
    "fig, ax = plt.subplots(figsize=(25,10))\n",
    "rects1 = ax.bar(x - width, df_analyse[\"mean_percent_err\"], width, label='Moyenne % Erreur')\n",
    "rects2 = ax.bar(x, df_analyse[\"median_percent_err\"], width, label='Médiane % Erreur')\n",
    "rects3 = ax.bar(x + width, df_analyse[\"RMSE\"], width, label='RMSE')\n",
    "\n",
    "# Add some text for labels, title and custom x-axis tick labels, etc.\n",
    "ax.set_ylabel('Scores', size=14)\n",
    "ax.set_title('Résultats globaux par modèle', size=14)\n",
    "ax.set_xticks(x)\n",
    "ax.set_xticklabels(labels, rotation=45)\n",
    "ax.legend()\n",
    "\n",
    "def autolabel(rects):\n",
    "    \"\"\"Attach a text label above each bar in *rects*, displaying its height.\"\"\"\n",
    "    for rect in rects:\n",
    "        height = rect.get_height()\n",
    "        ax.annotate('{}'.format(height),\n",
    "                    xy=(rect.get_x() + rect.get_width() / 2, height),\n",
    "                    xytext=(0, 3),  # 3 points vertical offset\n",
    "                    textcoords=\"offset points\",\n",
    "                    ha='center', va='bottom')\n",
    "\n",
    "\n",
    "autolabel(rects1)\n",
    "autolabel(rects2)\n",
    "autolabel(rects3)\n",
    "\n",
    "fig.tight_layout()\n",
    "\n",
    "plt.show()"
   ]
  },
  {
   "cell_type": "markdown",
   "metadata": {},
   "source": [
    "### Analyse des target\n",
    "\n",
    "Analysons les targets, et comparons les aux scores calculés pour le meilleur modèle."
   ]
  },
  {
   "cell_type": "code",
   "execution_count": 39,
   "metadata": {},
   "outputs": [
    {
     "name": "stdout",
     "output_type": "stream",
     "text": [
      "ANALYSE RANDOM FOREST REGRESSOR\n",
      "-----------------------------------------\n",
      "Nbr d'observations traitées : 1189\n",
      "Valeur mini des valeurs réelles : 0.09\n",
      "2e percentile des valeurs réelles : 7.78\n",
      "3e percentile des valeurs réelles : 61.46\n",
      "Valeur maxi des valeurs réelles : 209.92\n",
      "-----------------------------------------\n",
      "Moyenne des valeurs réelles : 43.695\n",
      "-----------------------------------------\n",
      "Médiane des valeurs réelles : 25.14\n"
     ]
    },
    {
     "data": {
      "image/png": "[encoded data removed]",
      "text/plain": [
       "<Figure size 720x720 with 1 Axes>"
      ]
     },
     "metadata": {
      "needs_background": "light"
     },
     "output_type": "display_data"
    }
   ],
   "source": [
    "df_target = df_mean[df_mean[\"Modeles\"] == \"RandomForestRegressor\"][\"y_test\"]\n",
    "\n",
    "print(\"ANALYSE RANDOM FOREST REGRESSOR\")\n",
    "print(\"-----------------------------------------\")\n",
    "print(\"Nbr d'observations traitées :\", df_target.shape[0])\n",
    "print(\"Valeur mini des valeurs réelles :\", round(df_target.min(),3))\n",
    "print(\"2e percentile des valeurs réelles :\", round(df_target.quantile(0.25),3))\n",
    "print(\"3e percentile des valeurs réelles :\", round(df_target.quantile(0.75),3))\n",
    "print(\"Valeur maxi des valeurs réelles :\", round(df_target.max(),3))\n",
    "print(\"-----------------------------------------\")\n",
    "print(\"Moyenne des valeurs réelles :\", round(df_target.mean(),3))\n",
    "#print(\"RMSE :\", df_analyse[df_analyse[\"Modeles\"] ==\"RandomForestRegressor\"][\"RMSE\"].values)\n",
    "#print(\"Moyenne % erreurs :\", df_analyse[df_analyse[\"Modeles\"] ==\"RandomForestRegressor\"][\"mean_percent_err\"].values)\n",
    "print(\"-----------------------------------------\")\n",
    "print(\"Médiane des valeurs réelles :\", round(df_target.median(),3))\n",
    "#print(\"Médiane % erreurs :\", df_analyse[df_analyse[\"Modeles\"] ==\"RandomForestRegressor\"][\"median_percent_err\"].values)\n",
    "\n",
    "plt.figure(figsize=(10,10))\n",
    "plt.boxplot(df_target,whis=[5,95], meanline=True, showmeans=True, vert=False)\n",
    "plt.grid()\n"
   ]
  },
  {
   "cell_type": "markdown",
   "metadata": {},
   "source": [
    "### Analyse des résultats des 3 modèles les plus prometteurs\n",
    "\n",
    " - Nous allons analyser les distributions des résultats des 3 meilleurs modèles afin de comprendre leurs dispersions.\n",
    "\n",
    " - Ensuite, nous effectuerons une segmentation des resultats par grandeur de target afin de comprendre plus en détail les performances de nos modèles. "
   ]
  },
  {
   "cell_type": "code",
   "execution_count": 40,
   "metadata": {},
   "outputs": [
    {
     "data": {
      "text/plain": [
       "['RandomForestRegressor', 'GradientBoostingRegressor', 'MLPRegressor']"
      ]
     },
     "execution_count": 40,
     "metadata": {},
     "output_type": "execute_result"
    }
   ],
   "source": [
    "#Cette fonction permet de ressortir les 3 modèles les plus prometteurs\n",
    "\n",
    "df_temp = df_analyse.sort_values(by=\"RMSE\", ascending=True)\n",
    "\n",
    "lst_meilleurs_modeles = df_temp.iloc[0:3,0]\n",
    "lst_meilleurs_modeles = list(lst_meilleurs_modeles.values)\n",
    "lst_meilleurs_modeles"
   ]
  },
  {
   "cell_type": "code",
   "execution_count": 41,
   "metadata": {},
   "outputs": [
    {
     "name": "stderr",
     "output_type": "stream",
     "text": [
      "C:\\Users\\julie\\Anaconda\\envs\\Projet 4\\lib\\site-packages\\pandas\\core\\series.py:4782: SettingWithCopyWarning: \n",
      "A value is trying to be set on a copy of a slice from a DataFrame\n",
      "\n",
      "See the caveats in the documentation: http://pandas.pydata.org/pandas-docs/stable/user_guide/indexing.html#returning-a-view-versus-a-copy\n",
      "  self._update_inplace(result)\n",
      "C:\\Users\\julie\\Anaconda\\envs\\Projet 4\\lib\\site-packages\\pandas\\core\\series.py:4782: SettingWithCopyWarning: \n",
      "A value is trying to be set on a copy of a slice from a DataFrame\n",
      "\n",
      "See the caveats in the documentation: http://pandas.pydata.org/pandas-docs/stable/user_guide/indexing.html#returning-a-view-versus-a-copy\n",
      "  self._update_inplace(result)\n",
      "C:\\Users\\julie\\Anaconda\\envs\\Projet 4\\lib\\site-packages\\pandas\\core\\series.py:4782: SettingWithCopyWarning: \n",
      "A value is trying to be set on a copy of a slice from a DataFrame\n",
      "\n",
      "See the caveats in the documentation: http://pandas.pydata.org/pandas-docs/stable/user_guide/indexing.html#returning-a-view-versus-a-copy\n",
      "  self._update_inplace(result)\n"
     ]
    },
    {
     "data": {
      "image/png": "[encoded data removed]",
      "text/plain": [
       "<Figure size 2160x1656 with 9 Axes>"
      ]
     },
     "metadata": {
      "needs_background": "light"
     },
     "output_type": "display_data"
    }
   ],
   "source": [
    "#Cette fonction crée 3 graphiques par modèle construit\n",
    "import scipy.stats as stats\n",
    "\n",
    "modeles = lst_meilleurs_modeles\n",
    "\n",
    "nbr_lignes = len(modeles)\n",
    "nbr_colonnes = 3\n",
    "num_graph = 1\n",
    "\n",
    "plt.subplots(figsize=(30, 23))\n",
    "\n",
    "for modele in modeles:\n",
    "\n",
    "    if num_graph <= nbr_lignes * nbr_colonnes:\n",
    "\n",
    "        mydata = df_mean[df_mean[\"Modeles\"] == modele]\n",
    "        mydata = mydata[\"%error\"]\n",
    "        mydata.dropna(axis=0, inplace=True)\n",
    "\n",
    "        plt.subplot(nbr_lignes,nbr_colonnes, num_graph)\n",
    "        sns.distplot(mydata, kde=True, bins=500)\n",
    "        plt.title(modele + \" - Distribution\",size=14)\n",
    "        plt.xlabel('% erreur', size=14)\n",
    "        plt.xlim(0,500)\n",
    "\n",
    "        num_graph +=1\n",
    "\n",
    "        plt.subplot(nbr_lignes,nbr_colonnes, num_graph)\n",
    "        plt.boxplot(mydata,whis=[5,95], meanline=True, showmeans=True, vert=False)\n",
    "        plt.grid()\n",
    "        plt.title(modele + \" - Dispersion\",size=14)\n",
    "        plt.xlabel('% erreur', size=14)\n",
    "        \n",
    "        num_graph +=1\n",
    "\n",
    "        plt.subplot(nbr_lignes,nbr_colonnes, num_graph)\n",
    "\n",
    "        #measurements = mydata.values()\n",
    "        #stats.probplot(measurements, dist=\"norm\", plot=plt)\n",
    "        plt.hist(mydata, bins=500)\n",
    "        plt.title(modele + \" - Histogramme\",size=14)\n",
    "        plt.xlabel('% erreur', size=14)\n",
    "        plt.xlim(0,500)\n",
    "        \n",
    "        num_graph +=1\n",
    "\n",
    "plt.show()"
   ]
  },
  {
   "cell_type": "markdown",
   "metadata": {},
   "source": [
    "### Analyse par tranche des résultats\n",
    "\n",
    "Nous allons calculer les performances des modèles par tranche :\n",
    " - Tranche 1 : La population en-dessous du Q1\n",
    " - Tranche 2 : La population interquartile\n",
    " - Tranche 3 : La population au dessus du Q3"
   ]
  },
  {
   "cell_type": "code",
   "execution_count": 42,
   "metadata": {},
   "outputs": [],
   "source": [
    "#Cette fonction crée 3 graphiques par modèle construit\n",
    "import scipy.stats as stats\n",
    "\n",
    "def analyse_resultats(tranche1, tranche2, tranche3, modele):\n",
    "\n",
    "    nbr_lignes = 3\n",
    "    nbr_colonnes = 3\n",
    "    num_graph = 1\n",
    "\n",
    "    plt.subplots(figsize=(30, 21))\n",
    "\n",
    "    i=1\n",
    "    while i <= nbr_lignes:\n",
    "\n",
    "        if num_graph <= nbr_lignes * nbr_colonnes:\n",
    "            \n",
    "            if i==1:\n",
    "                mydata = tranche1[\"%error\"]\n",
    "            elif i==2:\n",
    "                mydata = tranche2[\"%error\"]\n",
    "            elif i==3:\n",
    "                mydata = tranche3[\"%error\"]\n",
    "            \n",
    "            \n",
    "            plt.subplot(nbr_lignes,nbr_colonnes, num_graph)\n",
    "            sns.distplot(mydata, kde=True, bins=500)\n",
    "            titre = \"Analyse % erreurs \" + modele + \" - Tranche \" + str(i)\n",
    "            plt.title(titre,size=14)\n",
    "            plt.xlabel('% erreur', size=14)\n",
    "            plt.xlim(0,500)\n",
    "\n",
    "            num_graph +=1\n",
    "\n",
    "            plt.subplot(nbr_lignes,nbr_colonnes, num_graph)\n",
    "            plt.boxplot(mydata, meanline=True, showmeans=True, vert=False) #,whis=[5,95]\n",
    "            plt.grid()\n",
    "            plt.xlabel('% erreur', size=14)\n",
    "\n",
    "            num_graph +=1\n",
    "\n",
    "            plt.subplot(nbr_lignes,nbr_colonnes, num_graph)\n",
    "\n",
    "            #measurements = mydata.values()\n",
    "            #stats.probplot(measurements, dist=\"norm\", plot=plt)\n",
    "            plt.hist(mydata, bins=500)\n",
    "            plt.xlabel('% erreur', size=14)\n",
    "            plt.xlim(0,500)\n",
    "\n",
    "            num_graph +=1\n",
    "            \n",
    "            i+=1\n",
    "    plt.show()"
   ]
  },
  {
   "cell_type": "code",
   "execution_count": 43,
   "metadata": {},
   "outputs": [
    {
     "name": "stdout",
     "output_type": "stream",
     "text": [
      "Taille echantillon modèle RandomForestRegressor: 1189\n",
      "RAPPEL RESULTATS GLOBAUX\n",
      "Moyenne pourcentage erreur : 42.487310680738716\n",
      "Médiane pourcentage erreur : 20.53344437165265\n",
      "------------------------\n",
      "TRANCHE 1\n",
      "Taille tranche 1 : 297\n",
      "Moyenne pourcentage erreur : 48.2712519681969\n",
      "Médiane pourcentage erreur : 12.18177559490635\n",
      "Erreur max : 1420.3769094471231\n",
      "------------------------\n",
      "TRANCHE 2\n",
      "Taille tranche 2 : 595\n",
      "Moyenne pourcentage erreur : 45.40508067066664\n",
      "Médiane pourcentage erreur : 21.560219120498658\n",
      "Erreur max : 1074.3808529915332\n",
      "------------------------\n",
      "TRANCHE 3\n",
      "Taille tranche 3 : 297\n",
      "Moyenne pourcentage erreur : 30.85800527204444\n",
      "Médiane pourcentage erreur : 27.79895615760713\n",
      "Erreur max : 100.4583154411016\n"
     ]
    },
    {
     "data": {
      "image/png": "[encoded data removed]",
      "text/plain": [
       "<Figure size 2160x1512 with 9 Axes>"
      ]
     },
     "metadata": {
      "needs_background": "light"
     },
     "output_type": "display_data"
    },
    {
     "name": "stdout",
     "output_type": "stream",
     "text": [
      "Taille echantillon modèle GradientBoostingRegressor: 1189\n",
      "RAPPEL RESULTATS GLOBAUX\n",
      "Moyenne pourcentage erreur : 51.29379373672764\n",
      "Médiane pourcentage erreur : 28.24723208649602\n",
      "------------------------\n",
      "TRANCHE 1\n",
      "Taille tranche 1 : 297\n",
      "Moyenne pourcentage erreur : 70.68485733377663\n",
      "Médiane pourcentage erreur : 15.817029572843726\n",
      "Erreur max : 2159.686296498304\n",
      "------------------------\n",
      "TRANCHE 2\n",
      "Taille tranche 2 : 595\n",
      "Moyenne pourcentage erreur : 48.44105436806503\n",
      "Médiane pourcentage erreur : 28.751428008871414\n",
      "Erreur max : 498.94301816042605\n",
      "------------------------\n",
      "TRANCHE 3\n",
      "Taille tranche 3 : 297\n",
      "Moyenne pourcentage erreur : 37.61781406006335\n",
      "Médiane pourcentage erreur : 38.108673480663704\n",
      "Erreur max : 105.5153966857263\n"
     ]
    },
    {
     "data": {
      "image/png": "[encoded data removed]",
      "text/plain": [
       "<Figure size 2160x1512 with 9 Axes>"
      ]
     },
     "metadata": {
      "needs_background": "light"
     },
     "output_type": "display_data"
    },
    {
     "name": "stdout",
     "output_type": "stream",
     "text": [
      "Taille echantillon modèle MLPRegressor: 1189\n",
      "RAPPEL RESULTATS GLOBAUX\n",
      "Moyenne pourcentage erreur : 55.298203316948346\n",
      "Médiane pourcentage erreur : 27.657555199876732\n",
      "------------------------\n",
      "TRANCHE 1\n",
      "Taille tranche 1 : 297\n",
      "Moyenne pourcentage erreur : 76.48796465134012\n",
      "Médiane pourcentage erreur : 21.56365277688289\n",
      "Erreur max : 3923.3981703914346\n",
      "------------------------\n",
      "TRANCHE 2\n",
      "Taille tranche 2 : 595\n",
      "Moyenne pourcentage erreur : 55.17161263010057\n",
      "Médiane pourcentage erreur : 28.55420093367497\n",
      "Erreur max : 762.6895688227168\n",
      "------------------------\n",
      "TRANCHE 3\n",
      "Taille tranche 3 : 297\n",
      "Moyenne pourcentage erreur : 34.36204958752095\n",
      "Médiane pourcentage erreur : 31.60636257920466\n",
      "Erreur max : 167.89105147461422\n"
     ]
    },
    {
     "data": {
      "image/png": "[encoded data removed]",
      "text/plain": [
       "<Figure size 2160x1512 with 9 Axes>"
      ]
     },
     "metadata": {
      "needs_background": "light"
     },
     "output_type": "display_data"
    }
   ],
   "source": [
    "#Extraction des données par tranche et par modèle\n",
    "\n",
    "#On commence par extraire les modèles\n",
    "\n",
    "for modele in lst_meilleurs_modeles:\n",
    "    \n",
    "    df_temp = df_mean[df_mean[\"Modeles\"] == modele]\n",
    "    df_temp = pd.DataFrame(df_temp)\n",
    "\n",
    "    print(\"Taille echantillon modèle {}: {}\".format(modele, df_temp.shape[0]))\n",
    "    \n",
    "    val_percentile_25 = df_temp[\"y_test\"].quantile(0.25)\n",
    "    val_percentile_75 = df_temp[\"y_test\"].quantile(0.75)\n",
    "    \n",
    "    df_tranche1 = df_temp[df_temp[\"y_test\"] < val_percentile_25]\n",
    "    df_tranche2 = df_temp[(df_temp[\"y_test\"] >= val_percentile_25) & (df_temp[\"y_test\"] <= val_percentile_75)]\n",
    "    df_tranche3 = df_temp[df_temp[\"y_test\"] > val_percentile_75]\n",
    "        \n",
    "    print(\"RAPPEL RESULTATS GLOBAUX\")\n",
    "    print(\"Moyenne pourcentage erreur :\", df_temp[\"%error\"].mean())\n",
    "    print(\"Médiane pourcentage erreur :\", df_temp[\"%error\"].median())\n",
    "    print(\"------------------------\")\n",
    "    print(\"TRANCHE 1\")\n",
    "    print(\"Taille tranche 1 :\", df_tranche1.shape[0])\n",
    "    print(\"Moyenne pourcentage erreur :\", df_tranche1[\"%error\"].mean())\n",
    "    print(\"Médiane pourcentage erreur :\", df_tranche1[\"%error\"].median())\n",
    "    print(\"Erreur max :\", df_tranche1[\"%error\"].max())\n",
    "    print(\"------------------------\")\n",
    "    print(\"TRANCHE 2\")\n",
    "    print(\"Taille tranche 2 :\", df_tranche2.shape[0])\n",
    "    print(\"Moyenne pourcentage erreur :\", df_tranche2[\"%error\"].mean())\n",
    "    print(\"Médiane pourcentage erreur :\", df_tranche2[\"%error\"].median())\n",
    "    print(\"Erreur max :\", df_tranche2[\"%error\"].max())\n",
    "    print(\"------------------------\")\n",
    "    print(\"TRANCHE 3\")\n",
    "    print(\"Taille tranche 3 :\", df_tranche3.shape[0])\n",
    "    print(\"Moyenne pourcentage erreur :\", df_tranche3[\"%error\"].mean())\n",
    "    print(\"Médiane pourcentage erreur :\", df_tranche3[\"%error\"].median())\n",
    "    print(\"Erreur max :\", df_tranche3[\"%error\"].max())\n",
    "    \n",
    "    \n",
    "    analyse_resultats(df_tranche1, df_tranche2, df_tranche3, modele)"
   ]
  },
  {
   "cell_type": "markdown",
   "metadata": {},
   "source": [
    "# ENTRAINEMENT DES MODELES - ETAPE 2\n",
    "\n",
    "Entrainement des modèles sur des données non filtrées (sans suppression d'outliers)."
   ]
  },
  {
   "cell_type": "code",
   "execution_count": 44,
   "metadata": {},
   "outputs": [
    {
     "name": "stdout",
     "output_type": "stream",
     "text": [
      "Passe n° 1\n",
      "6716 observations initiales\n",
      "6669 après suppressions outliers\n",
      "Encodage : 0 | Modalité : ['BALLARD'] | Nbr observations : 254 | Pourcentage : 3.81 %\n",
      "Encodage : 1 | Modalité : ['CENTRAL'] | Nbr observations : 232 | Pourcentage : 3.48 %\n",
      "Encodage : 2 | Modalité : ['DELRIDGE'] | Nbr observations : 164 | Pourcentage : 2.46 %\n",
      "Encodage : 3 | Modalité : ['DOWNTOWN'] | Nbr observations : 1145 | Pourcentage : 17.17 %\n",
      "Encodage : 4 | Modalité : ['EAST'] | Nbr observations : 896 | Pourcentage : 13.44 %\n",
      "Encodage : 5 | Modalité : ['GREATER DUWAMISH'] | Nbr observations : 744 | Pourcentage : 11.16 %\n",
      "Encodage : 6 | Modalité : ['LAKE UNION'] | Nbr observations : 497 | Pourcentage : 7.45 %\n",
      "Encodage : 7 | Modalité : ['MAGNOLIA / QUEEN ANNE'] | Nbr observations : 836 | Pourcentage : 12.54 %\n",
      "Encodage : 8 | Modalité : ['NORTH'] | Nbr observations : 330 | Pourcentage : 4.95 %\n",
      "Encodage : 9 | Modalité : ['NORTHEAST'] | Nbr observations : 533 | Pourcentage : 7.99 %\n",
      "Encodage : 10 | Modalité : ['NORTHWEST'] | Nbr observations : 433 | Pourcentage : 6.49 %\n",
      "Encodage : 11 | Modalité : ['Others'] | Nbr observations : 90 | Pourcentage : 1.35 %\n",
      "Encodage : 12 | Modalité : ['SOUTHEAST'] | Nbr observations : 189 | Pourcentage : 2.83 %\n",
      "Encodage : 13 | Modalité : ['SOUTHWEST'] | Nbr observations : 326 | Pourcentage : 4.89 %\n"
     ]
    },
    {
     "name": "stderr",
     "output_type": "stream",
     "text": [
      "C:\\Users\\julie\\Anaconda\\envs\\Projet 4\\lib\\site-packages\\sklearn\\ensemble\\forest.py:245: FutureWarning: The default value of n_estimators will change from 10 in version 0.20 to 100 in 0.22.\n",
      "  \"10 in version 0.20 to 100 in 0.22.\", FutureWarning)\n",
      "C:\\Users\\julie\\Anaconda\\envs\\Projet 4\\lib\\site-packages\\sklearn\\neural_network\\multilayer_perceptron.py:566: ConvergenceWarning: Stochastic Optimizer: Maximum iterations (200) reached and the optimization hasn't converged yet.\n",
      "  % self.max_iter, ConvergenceWarning)\n"
     ]
    },
    {
     "name": "stdout",
     "output_type": "stream",
     "text": [
      "Passe n° 2\n",
      "6716 observations initiales\n",
      "6669 après suppressions outliers\n",
      "Encodage : 0 | Modalité : ['BALLARD'] | Nbr observations : 254 | Pourcentage : 3.81 %\n",
      "Encodage : 1 | Modalité : ['CENTRAL'] | Nbr observations : 232 | Pourcentage : 3.48 %\n",
      "Encodage : 2 | Modalité : ['DELRIDGE'] | Nbr observations : 164 | Pourcentage : 2.46 %\n",
      "Encodage : 3 | Modalité : ['DOWNTOWN'] | Nbr observations : 1145 | Pourcentage : 17.17 %\n",
      "Encodage : 4 | Modalité : ['EAST'] | Nbr observations : 896 | Pourcentage : 13.44 %\n",
      "Encodage : 5 | Modalité : ['GREATER DUWAMISH'] | Nbr observations : 744 | Pourcentage : 11.16 %\n",
      "Encodage : 6 | Modalité : ['LAKE UNION'] | Nbr observations : 497 | Pourcentage : 7.45 %\n",
      "Encodage : 7 | Modalité : ['MAGNOLIA / QUEEN ANNE'] | Nbr observations : 836 | Pourcentage : 12.54 %\n",
      "Encodage : 8 | Modalité : ['NORTH'] | Nbr observations : 330 | Pourcentage : 4.95 %\n",
      "Encodage : 9 | Modalité : ['NORTHEAST'] | Nbr observations : 533 | Pourcentage : 7.99 %\n",
      "Encodage : 10 | Modalité : ['NORTHWEST'] | Nbr observations : 433 | Pourcentage : 6.49 %\n",
      "Encodage : 11 | Modalité : ['Others'] | Nbr observations : 90 | Pourcentage : 1.35 %\n",
      "Encodage : 12 | Modalité : ['SOUTHEAST'] | Nbr observations : 189 | Pourcentage : 2.83 %\n",
      "Encodage : 13 | Modalité : ['SOUTHWEST'] | Nbr observations : 326 | Pourcentage : 4.89 %\n"
     ]
    },
    {
     "name": "stderr",
     "output_type": "stream",
     "text": [
      "C:\\Users\\julie\\Anaconda\\envs\\Projet 4\\lib\\site-packages\\sklearn\\neural_network\\multilayer_perceptron.py:566: ConvergenceWarning: Stochastic Optimizer: Maximum iterations (200) reached and the optimization hasn't converged yet.\n",
      "  % self.max_iter, ConvergenceWarning)\n"
     ]
    },
    {
     "name": "stdout",
     "output_type": "stream",
     "text": [
      "Passe n° 3\n",
      "6716 observations initiales\n",
      "6669 après suppressions outliers\n",
      "Encodage : 0 | Modalité : ['BALLARD'] | Nbr observations : 254 | Pourcentage : 3.81 %\n",
      "Encodage : 1 | Modalité : ['CENTRAL'] | Nbr observations : 232 | Pourcentage : 3.48 %\n",
      "Encodage : 2 | Modalité : ['DELRIDGE'] | Nbr observations : 164 | Pourcentage : 2.46 %\n",
      "Encodage : 3 | Modalité : ['DOWNTOWN'] | Nbr observations : 1145 | Pourcentage : 17.17 %\n",
      "Encodage : 4 | Modalité : ['EAST'] | Nbr observations : 896 | Pourcentage : 13.44 %\n",
      "Encodage : 5 | Modalité : ['GREATER DUWAMISH'] | Nbr observations : 744 | Pourcentage : 11.16 %\n",
      "Encodage : 6 | Modalité : ['LAKE UNION'] | Nbr observations : 497 | Pourcentage : 7.45 %\n",
      "Encodage : 7 | Modalité : ['MAGNOLIA / QUEEN ANNE'] | Nbr observations : 836 | Pourcentage : 12.54 %\n",
      "Encodage : 8 | Modalité : ['NORTH'] | Nbr observations : 330 | Pourcentage : 4.95 %\n",
      "Encodage : 9 | Modalité : ['NORTHEAST'] | Nbr observations : 533 | Pourcentage : 7.99 %\n",
      "Encodage : 10 | Modalité : ['NORTHWEST'] | Nbr observations : 433 | Pourcentage : 6.49 %\n",
      "Encodage : 11 | Modalité : ['Others'] | Nbr observations : 90 | Pourcentage : 1.35 %\n",
      "Encodage : 12 | Modalité : ['SOUTHEAST'] | Nbr observations : 189 | Pourcentage : 2.83 %\n",
      "Encodage : 13 | Modalité : ['SOUTHWEST'] | Nbr observations : 326 | Pourcentage : 4.89 %\n"
     ]
    },
    {
     "name": "stderr",
     "output_type": "stream",
     "text": [
      "C:\\Users\\julie\\Anaconda\\envs\\Projet 4\\lib\\site-packages\\sklearn\\neural_network\\multilayer_perceptron.py:566: ConvergenceWarning: Stochastic Optimizer: Maximum iterations (200) reached and the optimization hasn't converged yet.\n",
      "  % self.max_iter, ConvergenceWarning)\n"
     ]
    },
    {
     "name": "stdout",
     "output_type": "stream",
     "text": [
      "Passe n° 4\n",
      "6716 observations initiales\n",
      "6669 après suppressions outliers\n",
      "Encodage : 0 | Modalité : ['BALLARD'] | Nbr observations : 254 | Pourcentage : 3.81 %\n",
      "Encodage : 1 | Modalité : ['CENTRAL'] | Nbr observations : 232 | Pourcentage : 3.48 %\n",
      "Encodage : 2 | Modalité : ['DELRIDGE'] | Nbr observations : 164 | Pourcentage : 2.46 %\n",
      "Encodage : 3 | Modalité : ['DOWNTOWN'] | Nbr observations : 1145 | Pourcentage : 17.17 %\n",
      "Encodage : 4 | Modalité : ['EAST'] | Nbr observations : 896 | Pourcentage : 13.44 %\n",
      "Encodage : 5 | Modalité : ['GREATER DUWAMISH'] | Nbr observations : 744 | Pourcentage : 11.16 %\n",
      "Encodage : 6 | Modalité : ['LAKE UNION'] | Nbr observations : 497 | Pourcentage : 7.45 %\n",
      "Encodage : 7 | Modalité : ['MAGNOLIA / QUEEN ANNE'] | Nbr observations : 836 | Pourcentage : 12.54 %\n",
      "Encodage : 8 | Modalité : ['NORTH'] | Nbr observations : 330 | Pourcentage : 4.95 %\n",
      "Encodage : 9 | Modalité : ['NORTHEAST'] | Nbr observations : 533 | Pourcentage : 7.99 %\n",
      "Encodage : 10 | Modalité : ['NORTHWEST'] | Nbr observations : 433 | Pourcentage : 6.49 %\n",
      "Encodage : 11 | Modalité : ['Others'] | Nbr observations : 90 | Pourcentage : 1.35 %\n",
      "Encodage : 12 | Modalité : ['SOUTHEAST'] | Nbr observations : 189 | Pourcentage : 2.83 %\n",
      "Encodage : 13 | Modalité : ['SOUTHWEST'] | Nbr observations : 326 | Pourcentage : 4.89 %\n"
     ]
    },
    {
     "name": "stderr",
     "output_type": "stream",
     "text": [
      "C:\\Users\\julie\\Anaconda\\envs\\Projet 4\\lib\\site-packages\\sklearn\\neural_network\\multilayer_perceptron.py:566: ConvergenceWarning: Stochastic Optimizer: Maximum iterations (200) reached and the optimization hasn't converged yet.\n",
      "  % self.max_iter, ConvergenceWarning)\n"
     ]
    },
    {
     "name": "stdout",
     "output_type": "stream",
     "text": [
      "Passe n° 5\n",
      "6716 observations initiales\n",
      "6669 après suppressions outliers\n",
      "Encodage : 0 | Modalité : ['BALLARD'] | Nbr observations : 254 | Pourcentage : 3.81 %\n",
      "Encodage : 1 | Modalité : ['CENTRAL'] | Nbr observations : 232 | Pourcentage : 3.48 %\n",
      "Encodage : 2 | Modalité : ['DELRIDGE'] | Nbr observations : 164 | Pourcentage : 2.46 %\n",
      "Encodage : 3 | Modalité : ['DOWNTOWN'] | Nbr observations : 1145 | Pourcentage : 17.17 %\n",
      "Encodage : 4 | Modalité : ['EAST'] | Nbr observations : 896 | Pourcentage : 13.44 %\n",
      "Encodage : 5 | Modalité : ['GREATER DUWAMISH'] | Nbr observations : 744 | Pourcentage : 11.16 %\n",
      "Encodage : 6 | Modalité : ['LAKE UNION'] | Nbr observations : 497 | Pourcentage : 7.45 %\n",
      "Encodage : 7 | Modalité : ['MAGNOLIA / QUEEN ANNE'] | Nbr observations : 836 | Pourcentage : 12.54 %\n",
      "Encodage : 8 | Modalité : ['NORTH'] | Nbr observations : 330 | Pourcentage : 4.95 %\n",
      "Encodage : 9 | Modalité : ['NORTHEAST'] | Nbr observations : 533 | Pourcentage : 7.99 %\n",
      "Encodage : 10 | Modalité : ['NORTHWEST'] | Nbr observations : 433 | Pourcentage : 6.49 %\n",
      "Encodage : 11 | Modalité : ['Others'] | Nbr observations : 90 | Pourcentage : 1.35 %\n",
      "Encodage : 12 | Modalité : ['SOUTHEAST'] | Nbr observations : 189 | Pourcentage : 2.83 %\n",
      "Encodage : 13 | Modalité : ['SOUTHWEST'] | Nbr observations : 326 | Pourcentage : 4.89 %\n"
     ]
    },
    {
     "name": "stderr",
     "output_type": "stream",
     "text": [
      "C:\\Users\\julie\\Anaconda\\envs\\Projet 4\\lib\\site-packages\\sklearn\\neural_network\\multilayer_perceptron.py:566: ConvergenceWarning: Stochastic Optimizer: Maximum iterations (200) reached and the optimization hasn't converged yet.\n",
      "  % self.max_iter, ConvergenceWarning)\n"
     ]
    },
    {
     "name": "stdout",
     "output_type": "stream",
     "text": [
      "Passe n° 6\n",
      "6716 observations initiales\n",
      "6669 après suppressions outliers\n",
      "Encodage : 0 | Modalité : ['BALLARD'] | Nbr observations : 254 | Pourcentage : 3.81 %\n",
      "Encodage : 1 | Modalité : ['CENTRAL'] | Nbr observations : 232 | Pourcentage : 3.48 %\n",
      "Encodage : 2 | Modalité : ['DELRIDGE'] | Nbr observations : 164 | Pourcentage : 2.46 %\n",
      "Encodage : 3 | Modalité : ['DOWNTOWN'] | Nbr observations : 1145 | Pourcentage : 17.17 %\n",
      "Encodage : 4 | Modalité : ['EAST'] | Nbr observations : 896 | Pourcentage : 13.44 %\n",
      "Encodage : 5 | Modalité : ['GREATER DUWAMISH'] | Nbr observations : 744 | Pourcentage : 11.16 %\n",
      "Encodage : 6 | Modalité : ['LAKE UNION'] | Nbr observations : 497 | Pourcentage : 7.45 %\n",
      "Encodage : 7 | Modalité : ['MAGNOLIA / QUEEN ANNE'] | Nbr observations : 836 | Pourcentage : 12.54 %\n",
      "Encodage : 8 | Modalité : ['NORTH'] | Nbr observations : 330 | Pourcentage : 4.95 %\n",
      "Encodage : 9 | Modalité : ['NORTHEAST'] | Nbr observations : 533 | Pourcentage : 7.99 %\n",
      "Encodage : 10 | Modalité : ['NORTHWEST'] | Nbr observations : 433 | Pourcentage : 6.49 %\n",
      "Encodage : 11 | Modalité : ['Others'] | Nbr observations : 90 | Pourcentage : 1.35 %\n",
      "Encodage : 12 | Modalité : ['SOUTHEAST'] | Nbr observations : 189 | Pourcentage : 2.83 %\n",
      "Encodage : 13 | Modalité : ['SOUTHWEST'] | Nbr observations : 326 | Pourcentage : 4.89 %\n"
     ]
    },
    {
     "name": "stderr",
     "output_type": "stream",
     "text": [
      "C:\\Users\\julie\\Anaconda\\envs\\Projet 4\\lib\\site-packages\\sklearn\\neural_network\\multilayer_perceptron.py:566: ConvergenceWarning: Stochastic Optimizer: Maximum iterations (200) reached and the optimization hasn't converged yet.\n",
      "  % self.max_iter, ConvergenceWarning)\n"
     ]
    },
    {
     "name": "stdout",
     "output_type": "stream",
     "text": [
      "Passe n° 7\n",
      "6716 observations initiales\n",
      "6669 après suppressions outliers\n",
      "Encodage : 0 | Modalité : ['BALLARD'] | Nbr observations : 254 | Pourcentage : 3.81 %\n",
      "Encodage : 1 | Modalité : ['CENTRAL'] | Nbr observations : 232 | Pourcentage : 3.48 %\n",
      "Encodage : 2 | Modalité : ['DELRIDGE'] | Nbr observations : 164 | Pourcentage : 2.46 %\n",
      "Encodage : 3 | Modalité : ['DOWNTOWN'] | Nbr observations : 1145 | Pourcentage : 17.17 %\n",
      "Encodage : 4 | Modalité : ['EAST'] | Nbr observations : 896 | Pourcentage : 13.44 %\n",
      "Encodage : 5 | Modalité : ['GREATER DUWAMISH'] | Nbr observations : 744 | Pourcentage : 11.16 %\n",
      "Encodage : 6 | Modalité : ['LAKE UNION'] | Nbr observations : 497 | Pourcentage : 7.45 %\n",
      "Encodage : 7 | Modalité : ['MAGNOLIA / QUEEN ANNE'] | Nbr observations : 836 | Pourcentage : 12.54 %\n",
      "Encodage : 8 | Modalité : ['NORTH'] | Nbr observations : 330 | Pourcentage : 4.95 %\n",
      "Encodage : 9 | Modalité : ['NORTHEAST'] | Nbr observations : 533 | Pourcentage : 7.99 %\n",
      "Encodage : 10 | Modalité : ['NORTHWEST'] | Nbr observations : 433 | Pourcentage : 6.49 %\n",
      "Encodage : 11 | Modalité : ['Others'] | Nbr observations : 90 | Pourcentage : 1.35 %\n",
      "Encodage : 12 | Modalité : ['SOUTHEAST'] | Nbr observations : 189 | Pourcentage : 2.83 %\n",
      "Encodage : 13 | Modalité : ['SOUTHWEST'] | Nbr observations : 326 | Pourcentage : 4.89 %\n"
     ]
    },
    {
     "name": "stderr",
     "output_type": "stream",
     "text": [
      "C:\\Users\\julie\\Anaconda\\envs\\Projet 4\\lib\\site-packages\\sklearn\\neural_network\\multilayer_perceptron.py:566: ConvergenceWarning: Stochastic Optimizer: Maximum iterations (200) reached and the optimization hasn't converged yet.\n",
      "  % self.max_iter, ConvergenceWarning)\n"
     ]
    },
    {
     "name": "stdout",
     "output_type": "stream",
     "text": [
      "Passe n° 8\n",
      "6716 observations initiales\n",
      "6669 après suppressions outliers\n",
      "Encodage : 0 | Modalité : ['BALLARD'] | Nbr observations : 254 | Pourcentage : 3.81 %\n",
      "Encodage : 1 | Modalité : ['CENTRAL'] | Nbr observations : 232 | Pourcentage : 3.48 %\n",
      "Encodage : 2 | Modalité : ['DELRIDGE'] | Nbr observations : 164 | Pourcentage : 2.46 %\n",
      "Encodage : 3 | Modalité : ['DOWNTOWN'] | Nbr observations : 1145 | Pourcentage : 17.17 %\n",
      "Encodage : 4 | Modalité : ['EAST'] | Nbr observations : 896 | Pourcentage : 13.44 %\n",
      "Encodage : 5 | Modalité : ['GREATER DUWAMISH'] | Nbr observations : 744 | Pourcentage : 11.16 %\n",
      "Encodage : 6 | Modalité : ['LAKE UNION'] | Nbr observations : 497 | Pourcentage : 7.45 %\n",
      "Encodage : 7 | Modalité : ['MAGNOLIA / QUEEN ANNE'] | Nbr observations : 836 | Pourcentage : 12.54 %\n",
      "Encodage : 8 | Modalité : ['NORTH'] | Nbr observations : 330 | Pourcentage : 4.95 %\n",
      "Encodage : 9 | Modalité : ['NORTHEAST'] | Nbr observations : 533 | Pourcentage : 7.99 %\n",
      "Encodage : 10 | Modalité : ['NORTHWEST'] | Nbr observations : 433 | Pourcentage : 6.49 %\n",
      "Encodage : 11 | Modalité : ['Others'] | Nbr observations : 90 | Pourcentage : 1.35 %\n",
      "Encodage : 12 | Modalité : ['SOUTHEAST'] | Nbr observations : 189 | Pourcentage : 2.83 %\n",
      "Encodage : 13 | Modalité : ['SOUTHWEST'] | Nbr observations : 326 | Pourcentage : 4.89 %\n"
     ]
    },
    {
     "name": "stderr",
     "output_type": "stream",
     "text": [
      "C:\\Users\\julie\\Anaconda\\envs\\Projet 4\\lib\\site-packages\\sklearn\\neural_network\\multilayer_perceptron.py:566: ConvergenceWarning: Stochastic Optimizer: Maximum iterations (200) reached and the optimization hasn't converged yet.\n",
      "  % self.max_iter, ConvergenceWarning)\n"
     ]
    },
    {
     "name": "stdout",
     "output_type": "stream",
     "text": [
      "Passe n° 9\n",
      "6716 observations initiales\n",
      "6669 après suppressions outliers\n",
      "Encodage : 0 | Modalité : ['BALLARD'] | Nbr observations : 254 | Pourcentage : 3.81 %\n",
      "Encodage : 1 | Modalité : ['CENTRAL'] | Nbr observations : 232 | Pourcentage : 3.48 %\n",
      "Encodage : 2 | Modalité : ['DELRIDGE'] | Nbr observations : 164 | Pourcentage : 2.46 %\n",
      "Encodage : 3 | Modalité : ['DOWNTOWN'] | Nbr observations : 1145 | Pourcentage : 17.17 %\n",
      "Encodage : 4 | Modalité : ['EAST'] | Nbr observations : 896 | Pourcentage : 13.44 %\n",
      "Encodage : 5 | Modalité : ['GREATER DUWAMISH'] | Nbr observations : 744 | Pourcentage : 11.16 %\n",
      "Encodage : 6 | Modalité : ['LAKE UNION'] | Nbr observations : 497 | Pourcentage : 7.45 %\n",
      "Encodage : 7 | Modalité : ['MAGNOLIA / QUEEN ANNE'] | Nbr observations : 836 | Pourcentage : 12.54 %\n",
      "Encodage : 8 | Modalité : ['NORTH'] | Nbr observations : 330 | Pourcentage : 4.95 %\n",
      "Encodage : 9 | Modalité : ['NORTHEAST'] | Nbr observations : 533 | Pourcentage : 7.99 %\n",
      "Encodage : 10 | Modalité : ['NORTHWEST'] | Nbr observations : 433 | Pourcentage : 6.49 %\n",
      "Encodage : 11 | Modalité : ['Others'] | Nbr observations : 90 | Pourcentage : 1.35 %\n",
      "Encodage : 12 | Modalité : ['SOUTHEAST'] | Nbr observations : 189 | Pourcentage : 2.83 %\n",
      "Encodage : 13 | Modalité : ['SOUTHWEST'] | Nbr observations : 326 | Pourcentage : 4.89 %\n"
     ]
    },
    {
     "name": "stderr",
     "output_type": "stream",
     "text": [
      "C:\\Users\\julie\\Anaconda\\envs\\Projet 4\\lib\\site-packages\\sklearn\\neural_network\\multilayer_perceptron.py:566: ConvergenceWarning: Stochastic Optimizer: Maximum iterations (200) reached and the optimization hasn't converged yet.\n",
      "  % self.max_iter, ConvergenceWarning)\n"
     ]
    },
    {
     "name": "stdout",
     "output_type": "stream",
     "text": [
      "Passe n° 10\n",
      "6716 observations initiales\n",
      "6669 après suppressions outliers\n",
      "Encodage : 0 | Modalité : ['BALLARD'] | Nbr observations : 254 | Pourcentage : 3.81 %\n",
      "Encodage : 1 | Modalité : ['CENTRAL'] | Nbr observations : 232 | Pourcentage : 3.48 %\n",
      "Encodage : 2 | Modalité : ['DELRIDGE'] | Nbr observations : 164 | Pourcentage : 2.46 %\n",
      "Encodage : 3 | Modalité : ['DOWNTOWN'] | Nbr observations : 1145 | Pourcentage : 17.17 %\n",
      "Encodage : 4 | Modalité : ['EAST'] | Nbr observations : 896 | Pourcentage : 13.44 %\n",
      "Encodage : 5 | Modalité : ['GREATER DUWAMISH'] | Nbr observations : 744 | Pourcentage : 11.16 %\n",
      "Encodage : 6 | Modalité : ['LAKE UNION'] | Nbr observations : 497 | Pourcentage : 7.45 %\n",
      "Encodage : 7 | Modalité : ['MAGNOLIA / QUEEN ANNE'] | Nbr observations : 836 | Pourcentage : 12.54 %\n",
      "Encodage : 8 | Modalité : ['NORTH'] | Nbr observations : 330 | Pourcentage : 4.95 %\n",
      "Encodage : 9 | Modalité : ['NORTHEAST'] | Nbr observations : 533 | Pourcentage : 7.99 %\n",
      "Encodage : 10 | Modalité : ['NORTHWEST'] | Nbr observations : 433 | Pourcentage : 6.49 %\n",
      "Encodage : 11 | Modalité : ['Others'] | Nbr observations : 90 | Pourcentage : 1.35 %\n",
      "Encodage : 12 | Modalité : ['SOUTHEAST'] | Nbr observations : 189 | Pourcentage : 2.83 %\n",
      "Encodage : 13 | Modalité : ['SOUTHWEST'] | Nbr observations : 326 | Pourcentage : 4.89 %\n",
      "Mise en forme des résultats\n",
      "Wall time: 42.7 s\n"
     ]
    },
    {
     "name": "stderr",
     "output_type": "stream",
     "text": [
      "C:\\Users\\julie\\Anaconda\\envs\\Projet 4\\lib\\site-packages\\sklearn\\neural_network\\multilayer_perceptron.py:566: ConvergenceWarning: Stochastic Optimizer: Maximum iterations (200) reached and the optimization hasn't converged yet.\n",
      "  % self.max_iter, ConvergenceWarning)\n"
     ]
    }
   ],
   "source": [
    "%%time\n",
    "\n",
    "#LANCEMENT DE LA MODELISATION\n",
    "target = \"TotalEmissionGES\"\n",
    "#target = \"SiteEnergyUse(kBtu)\"\n",
    "\n",
    "#ETAPE 2 : MODELISATION SANS FILTRAGE\n",
    "#Modélisation en 10 étapes pour vérification en validation croisée\n",
    "#Chargement des modèles\n",
    "regressors = prep_modelisation2(2)\n",
    "\n",
    "#On prépare le taleau de synthèse\n",
    "df_results = pd.DataFrame(columns=[\"Modeles\", \"y_test\", \"y_pred\", \"RMSE\", \"y_test-y_pred\", \"abs(y_test-y_pred)\", \"%error\"])\n",
    "\n",
    "i=1\n",
    "nb_passes = 10\n",
    "while i <= nb_passes:\n",
    "    \n",
    "    print(\"Passe n°\", i)\n",
    "    \n",
    "    #Préprocessing\n",
    "    X_train, X_test, y_train, y_test = pipeline_preprocessing(data, target, 2)\n",
    "    \n",
    "    #Entrainement des modèles\n",
    "    df_temp = modelisation2(X_train, X_test, y_train, y_test, regressors)\n",
    "    \n",
    "    df_results = pd.concat([df_results, df_temp], sort=False)\n",
    "                                    \n",
    "    i+=1\n",
    "\n",
    "print(\"Mise en forme des résultats\")\n",
    "df_synthese = synthese_resultats(df_results)\n"
   ]
  },
  {
   "cell_type": "code",
   "execution_count": 45,
   "metadata": {},
   "outputs": [],
   "source": [
    "#Création d'un tableau avec les moyennes des valeurs collectées à chaque passe\n",
    "lst_modeles = df_results[\"Modeles\"].unique()\n",
    "\n",
    "df_mean = pd.DataFrame()\n",
    "\n",
    "for modele in lst_modeles:\n",
    "    \n",
    "    df_temp = df_results[df_results[\"Modeles\"] == modele]\n",
    "    df_temp = df_temp.groupby(df_temp.index, as_index=False).mean()\n",
    "    df_temp.insert(0,\"Modeles\", modele)\n",
    "    df_mean = pd.concat([df_mean, df_temp], sort=False)"
   ]
  },
  {
   "cell_type": "code",
   "execution_count": 46,
   "metadata": {},
   "outputs": [],
   "source": [
    "#Création d'un tableau avec les résultats moyens de chaque modèle\n",
    "lst_modeles = df_mean[\"Modeles\"].unique()\n",
    "\n",
    "rmse = []\n",
    "mean_percent_err = []\n",
    "median_percent_err = []\n",
    "r2 = []\n",
    "\n",
    "df_analyse = pd.DataFrame()\n",
    "\n",
    "\n",
    "for modele in lst_modeles:\n",
    "    \n",
    "    df_temp = df_mean[df_mean[\"Modeles\"] == modele]\n",
    "    \n",
    "    rmse.append(round(df_temp[\"RMSE\"].mean(),3))\n",
    "    mean_percent_err.append(round(df_temp[\"%error\"].mean(),3))\n",
    "    median_percent_err.append(round(df_temp[\"%error\"].median(),3))\n",
    "    r2.append(round(r2_score(df_temp[\"y_test\"], df_temp[\"y_pred\"]),3))\n",
    "    \n",
    "df_analyse[\"Modeles\"] = lst_modeles  \n",
    "df_analyse[\"RMSE\"] = rmse\n",
    "df_analyse[\"mean_percent_err\"] = mean_percent_err\n",
    "df_analyse[\"median_percent_err\"] = median_percent_err\n",
    "df_analyse[\"r2\"] = r2"
   ]
  },
  {
   "cell_type": "code",
   "execution_count": 47,
   "metadata": {},
   "outputs": [
    {
     "data": {
      "text/html": [
       "<div>\n",
       "<style scoped>\n",
       "    .dataframe tbody tr th:only-of-type {\n",
       "        vertical-align: middle;\n",
       "    }\n",
       "\n",
       "    .dataframe tbody tr th {\n",
       "        vertical-align: top;\n",
       "    }\n",
       "\n",
       "    .dataframe thead th {\n",
       "        text-align: right;\n",
       "    }\n",
       "</style>\n",
       "<table border=\"1\" class=\"dataframe\">\n",
       "  <thead>\n",
       "    <tr style=\"text-align: right;\">\n",
       "      <th></th>\n",
       "      <th>Modeles</th>\n",
       "      <th>RMSE</th>\n",
       "      <th>mean_percent_err</th>\n",
       "      <th>median_percent_err</th>\n",
       "      <th>r2</th>\n",
       "    </tr>\n",
       "  </thead>\n",
       "  <tbody>\n",
       "    <tr>\n",
       "      <th>0</th>\n",
       "      <td>RandomForestRegressor</td>\n",
       "      <td>335.222</td>\n",
       "      <td>41.991</td>\n",
       "      <td>23.410</td>\n",
       "      <td>0.566</td>\n",
       "    </tr>\n",
       "    <tr>\n",
       "      <th>1</th>\n",
       "      <td>GradientBoostingRegressor</td>\n",
       "      <td>343.753</td>\n",
       "      <td>55.224</td>\n",
       "      <td>30.850</td>\n",
       "      <td>0.544</td>\n",
       "    </tr>\n",
       "    <tr>\n",
       "      <th>2</th>\n",
       "      <td>MLPRegressor</td>\n",
       "      <td>365.563</td>\n",
       "      <td>59.427</td>\n",
       "      <td>33.062</td>\n",
       "      <td>0.484</td>\n",
       "    </tr>\n",
       "  </tbody>\n",
       "</table>\n",
       "</div>"
      ],
      "text/plain": [
       "                     Modeles     RMSE  mean_percent_err  median_percent_err  \\\n",
       "0      RandomForestRegressor  335.222            41.991              23.410   \n",
       "1  GradientBoostingRegressor  343.753            55.224              30.850   \n",
       "2               MLPRegressor  365.563            59.427              33.062   \n",
       "\n",
       "      r2  \n",
       "0  0.566  \n",
       "1  0.544  \n",
       "2  0.484  "
      ]
     },
     "execution_count": 47,
     "metadata": {},
     "output_type": "execute_result"
    }
   ],
   "source": [
    "df_analyse"
   ]
  },
  {
   "cell_type": "code",
   "execution_count": 48,
   "metadata": {},
   "outputs": [
    {
     "data": {
      "image/png": "[encoded data removed]",
      "text/plain": [
       "<Figure size 1800x720 with 1 Axes>"
      ]
     },
     "metadata": {
      "needs_background": "light"
     },
     "output_type": "display_data"
    }
   ],
   "source": [
    "labels = df_analyse[\"Modeles\"].unique()\n",
    "    \n",
    "x = np.arange(len(labels))  # the label locations\n",
    "width = 0.25  # the width of the bars\n",
    "\n",
    "fig, ax = plt.subplots(figsize=(25,10))\n",
    "rects1 = ax.bar(x - width, df_analyse[\"mean_percent_err\"], width, label='Moyenne % Erreur')\n",
    "rects2 = ax.bar(x, df_analyse[\"median_percent_err\"], width, label='Médiane % Erreur')\n",
    "rects3 = ax.bar(x + width, df_analyse[\"RMSE\"], width, label='RMSE')\n",
    "\n",
    "# Add some text for labels, title and custom x-axis tick labels, etc.\n",
    "ax.set_ylabel('Scores', size=14)\n",
    "ax.set_title('Résultats globaux par modèle', size=14)\n",
    "ax.set_xticks(x)\n",
    "ax.set_xticklabels(labels, rotation=45)\n",
    "ax.legend()\n",
    "\n",
    "def autolabel(rects):\n",
    "    \"\"\"Attach a text label above each bar in *rects*, displaying its height.\"\"\"\n",
    "    for rect in rects:\n",
    "        height = rect.get_height()\n",
    "        ax.annotate('{}'.format(height),\n",
    "                    xy=(rect.get_x() + rect.get_width() / 2, height),\n",
    "                    xytext=(0, 3),  # 3 points vertical offset\n",
    "                    textcoords=\"offset points\",\n",
    "                    ha='center', va='bottom')\n",
    "\n",
    "\n",
    "autolabel(rects1)\n",
    "autolabel(rects2)\n",
    "autolabel(rects3)\n",
    "\n",
    "fig.tight_layout()\n",
    "\n",
    "plt.show()"
   ]
  },
  {
   "cell_type": "markdown",
   "metadata": {},
   "source": [
    "# OPTIMISATION DES MODELES\n",
    "\n",
    "Nous sélectionnons les 3 meilleurs modèles avec les paramètres par défauts, et allons tenter de les optimiser avec une Recherche par quadrillage en validation croisée.\n",
    "\n",
    " - La forêt aléatoire :\n",
    "     - Nombre d'arbres qui composent la forêt\n",
    "     - Nombre de variables à considérer\n",
    "     - Profondeur de l'arbre\n",
    "     - min_samples_split : Le nombre minimum d’échantillons requis pour scinder un nœud interne\n",
    "     \n",
    "     \n",
    " - Le réseau de neurones | Multi-layer Perceptron regressor | Perceptron multi-couches\n",
    "     - alpha : paramètre de régulation\n",
    "     - Nbr de neurones dans chaque couche\n",
    "     - learning_rate : taux d'apprentissage pour les mises à jour de poids\n",
    "     - solver : la méthode d'optimisation du poids\n",
    "     \n",
    "     \n",
    " - Le Gradient Boosting Regressor\n",
    "     - n_estimators : Nbr d'étape de boosting a effectuer\n",
    "     - max_depth : profondeur maximale des estimateurs de régression individuels\n",
    "     - min_samples_split : Le nombre minimum d’échantillons requis pour scinder un nœud interne\n",
    "     - learning_rate : regulation de la contribution de chaque arbre\n",
    "     - loss : fonction de perte"
   ]
  },
  {
   "cell_type": "code",
   "execution_count": 49,
   "metadata": {},
   "outputs": [],
   "source": [
    "def results_optim(y_test, y_pred):\n",
    "    \n",
    "    #Résultats\n",
    "    #Création du tableau de résultats\n",
    "    df1 = pd.DataFrame(y_pred)\n",
    "    df2 = y_test.reset_index()\n",
    "    #On concatène les prédictions et les vraies valeurs en les passant à l'exponentielle car les valeurs sont en log\n",
    "    df3 = pd.concat([np.exp(df2), np.exp(df1)], axis=1, sort=False)\n",
    "    df3.columns = [\"index\", \"y_test\", \"y_pred\"]\n",
    "    df3.drop(\"index\", axis=1, inplace=True)\n",
    "\n",
    "    rmse = (np.sqrt(mean_squared_error(df3[\"y_test\"], df3[\"y_pred\"])))\n",
    "    r2 = r2_score(df3[\"y_test\"], df3[\"y_pred\"])\n",
    "    print(\"RMSE: %.3f\" % rmse)\n",
    "    print(\"Score R²: %.3f\" % r2)"
   ]
  },
  {
   "cell_type": "code",
   "execution_count": 50,
   "metadata": {},
   "outputs": [
    {
     "name": "stdout",
     "output_type": "stream",
     "text": [
      "6716 observations initiales\n",
      "5941 après suppressions outliers\n",
      "Encodage : 0 | Modalité : ['BALLARD'] | Nbr observations : 234 | Pourcentage : 3.94 %\n",
      "Encodage : 1 | Modalité : ['CENTRAL'] | Nbr observations : 219 | Pourcentage : 3.69 %\n",
      "Encodage : 2 | Modalité : ['DELRIDGE'] | Nbr observations : 151 | Pourcentage : 2.54 %\n",
      "Encodage : 3 | Modalité : ['DOWNTOWN'] | Nbr observations : 877 | Pourcentage : 14.76 %\n",
      "Encodage : 4 | Modalité : ['EAST'] | Nbr observations : 799 | Pourcentage : 13.45 %\n",
      "Encodage : 5 | Modalité : ['GREATER DUWAMISH'] | Nbr observations : 706 | Pourcentage : 11.88 %\n",
      "Encodage : 6 | Modalité : ['LAKE UNION'] | Nbr observations : 422 | Pourcentage : 7.1 %\n",
      "Encodage : 7 | Modalité : ['MAGNOLIA / QUEEN ANNE'] | Nbr observations : 779 | Pourcentage : 13.11 %\n",
      "Encodage : 8 | Modalité : ['NORTH'] | Nbr observations : 306 | Pourcentage : 5.15 %\n",
      "Encodage : 9 | Modalité : ['NORTHEAST'] | Nbr observations : 495 | Pourcentage : 8.33 %\n",
      "Encodage : 10 | Modalité : ['NORTHWEST'] | Nbr observations : 385 | Pourcentage : 6.48 %\n",
      "Encodage : 11 | Modalité : ['Others'] | Nbr observations : 87 | Pourcentage : 1.46 %\n",
      "Encodage : 12 | Modalité : ['SOUTHEAST'] | Nbr observations : 165 | Pourcentage : 2.78 %\n",
      "Encodage : 13 | Modalité : ['SOUTHWEST'] | Nbr observations : 316 | Pourcentage : 5.32 %\n"
     ]
    }
   ],
   "source": [
    "#ETAPE 3 : OPTIMISATION DES MODELES\n",
    "\n",
    "#Chargement des modèles\n",
    "#regressors, df_R2, df_RMSE_log, df_RMSE_exp = prep_modelisation(1)\n",
    "    \n",
    "#Préprocessing\n",
    "X_train, X_test, y_train, y_test = pipeline_preprocessing(data, target, 1)\n",
    "\n",
    "nb_passes = 5\n"
   ]
  },
  {
   "cell_type": "code",
   "execution_count": 51,
   "metadata": {},
   "outputs": [
    {
     "name": "stdout",
     "output_type": "stream",
     "text": [
      "RandomForestRegressor\n",
      "RMSE: 29.338\n",
      "Score R²: 0.613\n",
      "Wall time: 1min 23s\n"
     ]
    }
   ],
   "source": [
    "%%time\n",
    "#RANDOM FOREST REGRESSOR\n",
    "#Paramétrage\n",
    "param_grid_forest = [{ \n",
    "'n_estimators': [10, 100, 200, 500],\n",
    "'max_features': ['auto', 'sqrt', 'log2'],\n",
    "'max_depth' : [4,5,6,7,8,9,10],\n",
    "'min_samples_split': [2,3,4], \n",
    "\"random_state\" : [0]\n",
    "}]\n",
    "\n",
    "print(\"RandomForestRegressor\")\n",
    "CV_forest = GridSearchCV(RandomForestRegressor(), param_grid_forest, cv=nb_passes, n_jobs=-1)\n",
    "CV_forest.fit(X_train, y_train.values.ravel())\n",
    "\n",
    "#Prédictions\n",
    "y_pred = CV_forest.predict(X_test)\n",
    "\n",
    "results_optim(y_test, y_pred)"
   ]
  },
  {
   "cell_type": "code",
   "execution_count": 52,
   "metadata": {},
   "outputs": [
    {
     "name": "stdout",
     "output_type": "stream",
     "text": [
      "MLPRegressor\n",
      "RMSE: 30.993\n",
      "Score R²: 0.568\n",
      "Wall time: 4min 4s\n"
     ]
    }
   ],
   "source": [
    "%%time\n",
    "#RESEAU NEURONES\n",
    "#Paramétrage\n",
    "param_grid_MLPR = [{\"alpha\":[0.001, 0.01, 1, 2], \n",
    "                     \"hidden_layer_sizes\":[(5,), (20,), (50,), (100,), (150,), (200,)], \n",
    "                     \"learning_rate\":['constant',\"adaptive\"],\n",
    "                     \"solver\":['adam',\"sgd\",'lbfgs'],\n",
    "                    \"random_state\" : [0]\n",
    "                      }]\n",
    "\n",
    "print(\"MLPRegressor\")\n",
    "CV_MLPR = GridSearchCV(MLPRegressor(), param_grid_MLPR, cv=nb_passes, n_jobs=-1)\n",
    "CV_MLPR.fit(X_train, y_train.values.ravel())\n",
    "\n",
    "#Prédictions\n",
    "y_pred = CV_MLPR.predict(X_test)\n",
    "\n",
    "#Résultats\n",
    "results_optim(y_test, y_pred)\n"
   ]
  },
  {
   "cell_type": "code",
   "execution_count": 53,
   "metadata": {},
   "outputs": [
    {
     "name": "stdout",
     "output_type": "stream",
     "text": [
      "GradientBoostingRegressor\n",
      "RMSE: 25.778\n",
      "Score R²: 0.701\n",
      "Wall time: 4min 54s\n"
     ]
    }
   ],
   "source": [
    "%%time\n",
    "#GRADIENT BOOSTING REGRESSOR\n",
    "#Paramétrage\n",
    "param_grid_GrBoostR = [{'n_estimators': [500,1000], \n",
    "                        'max_depth': [4,5,6,7,8], \n",
    "                        'min_samples_split': [2,3,4], \n",
    "                        'learning_rate': [0.01,0.1], \n",
    "                        'loss': ['ls'],\n",
    "                       \"random_state\" : [0]\n",
    "                       }]\n",
    "\n",
    "print(\"GradientBoostingRegressor\")\n",
    "CV_boost = GridSearchCV(GradientBoostingRegressor(), param_grid_GrBoostR, cv=nb_passes, n_jobs=-1)\n",
    "CV_boost.fit(X_train, y_train.values.ravel())\n",
    "\n",
    "#Prédictions\n",
    "y_pred = CV_boost.predict(X_test)\n",
    "\n",
    "#Résultats\n",
    "results_optim(y_test, y_pred)"
   ]
  },
  {
   "cell_type": "markdown",
   "metadata": {},
   "source": [
    "# 5- Importance des variables | Features importance\n",
    "\n",
    "A partir du meilleur résultat après optimisation, nous allons reconstruire un modèle avec les meilleurs paramètres obtenus.\n",
    "\n",
    "Ensuite nous allons analyser quelles sont les variables les plus importantes pour ce modèle.\n",
    "\n",
    "[EDIT] Afin de comparer le fonctionnement de modèles différents, nous allons travailler avec le RandomForestRegressor et le GradientBoostingRegressor."
   ]
  },
  {
   "cell_type": "code",
   "execution_count": 54,
   "metadata": {},
   "outputs": [
    {
     "data": {
      "text/plain": [
       "MLPRegressor(activation='relu', alpha=2, batch_size='auto', beta_1=0.9,\n",
       "             beta_2=0.999, early_stopping=False, epsilon=1e-08,\n",
       "             hidden_layer_sizes=(200,), learning_rate='constant',\n",
       "             learning_rate_init=0.001, max_iter=200, momentum=0.9,\n",
       "             n_iter_no_change=10, nesterovs_momentum=True, power_t=0.5,\n",
       "             random_state=0, shuffle=True, solver='lbfgs', tol=0.0001,\n",
       "             validation_fraction=0.1, verbose=False, warm_start=False)"
      ]
     },
     "execution_count": 54,
     "metadata": {},
     "output_type": "execute_result"
    }
   ],
   "source": [
    "forest = RandomForestRegressor(**CV_forest.best_params_)\n",
    "forest.fit(X_train, y_train.values.ravel())\n",
    "\n",
    "GboostR = GradientBoostingRegressor(**CV_boost.best_params_)\n",
    "GboostR.fit(X_train, y_train.values.ravel())\n",
    "\n",
    "MLPR = MLPRegressor(**CV_MLPR.best_params_)\n",
    "MLPR.fit(X_train, y_train.values.ravel())"
   ]
  },
  {
   "cell_type": "code",
   "execution_count": 55,
   "metadata": {},
   "outputs": [
    {
     "name": "stdout",
     "output_type": "stream",
     "text": [
      "Features importances - RandomForestRegressor\n",
      "NaturalGas                                           0.506765\n",
      "PropertyGFABuilding(s)                               0.246301\n",
      "ENERGYSTARScore                                      0.043009\n",
      "YearBuilt                                            0.037539\n",
      "PrimaryPropertyType_Large Office                     0.025941\n",
      "SteamUse                                             0.022869\n",
      "LargestPropertyUseType_Others                        0.012959\n",
      "NumberofFloors                                       0.012437\n",
      "LargestPropertyUseType_Non-Refrigerated Warehouse    0.010481\n",
      "PropertyGFAParking                                   0.009319\n",
      "dtype: float64\n",
      "\n",
      "-----------------------------------------------\n",
      "Features importances - GradientBoostingRegressor\n",
      "NaturalGas                                           0.450559\n",
      "PropertyGFABuilding(s)                               0.243194\n",
      "YearBuilt                                            0.054271\n",
      "ENERGYSTARScore                                      0.051003\n",
      "PrimaryPropertyType_Large Office                     0.026440\n",
      "SteamUse                                             0.021096\n",
      "NumberofFloors                                       0.017588\n",
      "PropertyGFAParking                                   0.015217\n",
      "LargestPropertyUseType_Others                        0.012944\n",
      "LargestPropertyUseType_Non-Refrigerated Warehouse    0.012024\n",
      "dtype: float64\n",
      "\n",
      "-----------------------------------------------\n"
     ]
    },
    {
     "data": {
      "text/plain": [
       "<matplotlib.axes._subplots.AxesSubplot at 0x1dab937cb88>"
      ]
     },
     "execution_count": 55,
     "metadata": {},
     "output_type": "execute_result"
    },
    {
     "data": {
      "image/png": "[encoded data removed]",
      "text/plain": [
       "<Figure size 2160x720 with 2 Axes>"
      ]
     },
     "metadata": {
      "needs_background": "light"
     },
     "output_type": "display_data"
    }
   ],
   "source": [
    "feat_importances_forest = pd.Series(forest.feature_importances_, index=X_train.columns)\n",
    "print(\"Features importances - RandomForestRegressor\")\n",
    "print(feat_importances_forest.nlargest(10))\n",
    "print(\"\")\n",
    "print(\"-----------------------------------------------\")\n",
    "\n",
    "feat_importances_GboostR = pd.Series(GboostR.feature_importances_, index=X_train.columns)\n",
    "print(\"Features importances - GradientBoostingRegressor\")\n",
    "print(feat_importances_GboostR.nlargest(10))\n",
    "print(\"\")\n",
    "print(\"-----------------------------------------------\")\n",
    "\n",
    "plt.subplots(figsize=(30,10))\n",
    "plt.subplot(1, 2, 1)\n",
    "plt.title(\"Features importances - RandomForestRegressor\", size=14)\n",
    "feat_importances_forest.nlargest(10).plot(kind='barh')\n",
    "\n",
    "plt.subplot(1, 2, 2)\n",
    "plt.title(\"Features importances - GradientBoostingRegressor\", size=14)\n",
    "feat_importances_GboostR.nlargest(10).plot(kind='barh')\n"
   ]
  },
  {
   "cell_type": "markdown",
   "metadata": {},
   "source": [
    "# 6- Courbe d'apprentissage | Learning curve\n",
    "\n",
    "Nous alons maintenant tracer la courbe d'apprentissage (learning curve).\n",
    "\n",
    "La learning curve est un élément visuel qui nous permet facilement de constater que nous avons suffisament de données pour que notre modèle de prédiction soit optimal."
   ]
  },
  {
   "cell_type": "code",
   "execution_count": 56,
   "metadata": {},
   "outputs": [],
   "source": [
    "#Fonction de traçage de la courbe d'apprentissage (learning curve)\n",
    "#Code source : Doc Scikit-learn\n",
    "\n",
    "from sklearn.datasets import load_digits\n",
    "from sklearn.model_selection import learning_curve\n",
    "\n",
    "def plot_learning_curve(estimator, title, X, y, ylim=None, cv=None,\n",
    "                        n_jobs=None, train_sizes=np.linspace(.1, 1.0, 5)):\n",
    "    \"\"\"\n",
    "    Generate a simple plot of the test and training learning curve.\n",
    "\n",
    "    Parameters\n",
    "    ----------\n",
    "    estimator : object type that implements the \"fit\" and \"predict\" methods\n",
    "        An object of that type which is cloned for each validation.\n",
    "\n",
    "    title : string\n",
    "        Title for the chart.\n",
    "\n",
    "    X : array-like, shape (n_samples, n_features)\n",
    "        Training vector, where n_samples is the number of samples and\n",
    "        n_features is the number of features.\n",
    "\n",
    "    y : array-like, shape (n_samples) or (n_samples, n_features), optional\n",
    "        Target relative to X for classification or regression;\n",
    "        None for unsupervised learning.\n",
    "\n",
    "    ylim : tuple, shape (ymin, ymax), optional\n",
    "        Defines minimum and maximum yvalues plotted.\n",
    "\n",
    "    cv : int, cross-validation generator or an iterable, optional\n",
    "        Determines the cross-validation splitting strategy.\n",
    "        Possible inputs for cv are:\n",
    "          - None, to use the default 3-fold cross-validation,\n",
    "          - integer, to specify the number of folds.\n",
    "          - :term:`CV splitter`,\n",
    "          - An iterable yielding (train, test) splits as arrays of indices.\n",
    "\n",
    "        For integer/None inputs, if ``y`` is binary or multiclass,\n",
    "        :class:`StratifiedKFold` used. If the estimator is not a classifier\n",
    "        or if ``y`` is neither binary nor multiclass, :class:`KFold` is used.\n",
    "\n",
    "        Refer :ref:`User Guide <cross_validation>` for the various\n",
    "        cross-validators that can be used here.\n",
    "\n",
    "    n_jobs : int or None, optional (default=None)\n",
    "        Number of jobs to run in parallel.\n",
    "        ``None`` means 1 unless in a :obj:`joblib.parallel_backend` context.\n",
    "        ``-1`` means using all processors. See :term:`Glossary <n_jobs>`\n",
    "        for more details.\n",
    "\n",
    "    train_sizes : array-like, shape (n_ticks,), dtype float or int\n",
    "        Relative or absolute numbers of training examples that will be used to\n",
    "        generate the learning curve. If the dtype is float, it is regarded as a\n",
    "        fraction of the maximum size of the training set (that is determined\n",
    "        by the selected validation method), i.e. it has to be within (0, 1].\n",
    "        Otherwise it is interpreted as absolute sizes of the training sets.\n",
    "        Note that for classification the number of samples usually have to\n",
    "        be big enough to contain at least one sample from each class.\n",
    "        (default: np.linspace(0.1, 1.0, 5))\n",
    "    \"\"\"\n",
    "    plt.figure(figsize=(10,10))\n",
    "    plt.title(title)\n",
    "    if ylim is not None:\n",
    "        plt.ylim(*ylim)\n",
    "    plt.xlabel(\"Training examples\")\n",
    "    plt.ylabel(\"Score\")\n",
    "    train_sizes, train_scores, test_scores = learning_curve(\n",
    "        estimator, X, y, cv=cv, n_jobs=n_jobs, train_sizes=train_sizes)\n",
    "    train_scores_mean = np.mean(train_scores, axis=1)\n",
    "    train_scores_std = np.std(train_scores, axis=1)\n",
    "    test_scores_mean = np.mean(test_scores, axis=1)\n",
    "    test_scores_std = np.std(test_scores, axis=1)\n",
    "    plt.grid()\n",
    "\n",
    "    plt.fill_between(train_sizes, train_scores_mean - train_scores_std,\n",
    "                     train_scores_mean + train_scores_std, alpha=0.1,\n",
    "                     color=\"r\")\n",
    "    plt.fill_between(train_sizes, test_scores_mean - test_scores_std,\n",
    "                     test_scores_mean + test_scores_std, alpha=0.1, color=\"g\")\n",
    "    plt.plot(train_sizes, train_scores_mean, 'o-', color=\"r\",\n",
    "             label=\"Training score\")\n",
    "    plt.plot(train_sizes, test_scores_mean, 'o-', color=\"g\",\n",
    "             label=\"Cross-validation score\")\n",
    "\n",
    "    plt.legend(loc=\"best\")\n",
    "    return plt\n",
    "\n",
    "\n",
    "digits = load_digits()\n",
    "X, y = digits.data, digits.target\n",
    "\n",
    "plt.show()"
   ]
  },
  {
   "cell_type": "code",
   "execution_count": 57,
   "metadata": {},
   "outputs": [
    {
     "name": "stdout",
     "output_type": "stream",
     "text": [
      "RAPPEL : Il y a 4752 observations dans le dataset d'entrainement.\n",
      "Wall time: 1min 43s\n"
     ]
    },
    {
     "data": {
      "image/png": "[encoded data removed]",
      "text/plain": [
       "<Figure size 720x720 with 1 Axes>"
      ]
     },
     "metadata": {
      "needs_background": "light"
     },
     "output_type": "display_data"
    },
    {
     "data": {
      "image/png": "[encoded data removed]",
      "text/plain": [
       "<Figure size 720x720 with 1 Axes>"
      ]
     },
     "metadata": {
      "needs_background": "light"
     },
     "output_type": "display_data"
    },
    {
     "data": {
      "image/png": "[encoded data removed]",
      "text/plain": [
       "<Figure size 720x720 with 1 Axes>"
      ]
     },
     "metadata": {
      "needs_background": "light"
     },
     "output_type": "display_data"
    }
   ],
   "source": [
    "%%time\n",
    "from sklearn.model_selection import ShuffleSplit\n",
    "#RANDOMFORESTREGRESSOR\n",
    "#Paramétrage de la fonction de traçage de la courbe\n",
    "title = \"Learning Curve RandomForestRegressor\"\n",
    "# Cross validation with 100 iterations to get smoother mean test and train\n",
    "# score curves, each time with 20% data randomly selected as a validation set.\n",
    "cv = ShuffleSplit(n_splits=10, test_size=0.2, random_state=0)\n",
    "plot_learning_curve(forest, title, X_train, y_train, ylim=(0.6, 1.01), cv=cv, n_jobs=-1)\n",
    "\n",
    "#########################################################################################\n",
    "#GRADIENTBOOSTINGREGRESSOR\n",
    "#Paramétrage de la fonction de traçage de la courbe\n",
    "title = \"Learning Curve GradientBoostingRegressor\"\n",
    "# Cross validation with 100 iterations to get smoother mean test and train\n",
    "# score curves, each time with 20% data randomly selected as a validation set.\n",
    "cv = ShuffleSplit(n_splits=10, test_size=0.2, random_state=0)\n",
    "plot_learning_curve(GboostR, title, X_train, y_train, ylim=(0.6, 1.01), cv=cv, n_jobs=-1)\n",
    "\n",
    "#########################################################################################\n",
    "#MLPREGRESSOR\n",
    "#Paramétrage de la fonction de traçage de la courbe\n",
    "title = \"Learning Curve MLP Regressor\"\n",
    "# Cross validation with 100 iterations to get smoother mean test and train\n",
    "# score curves, each time with 20% data randomly selected as a validation set.\n",
    "cv = ShuffleSplit(n_splits=10, test_size=0.2, random_state=0)\n",
    "plot_learning_curve(MLPR, title, X_train, y_train, ylim=(0.6, 1.01), cv=cv, n_jobs=-1)\n",
    "\n",
    "print(\"RAPPEL : Il y a\", X_train.shape[0], \"observations dans le dataset d'entrainement.\")"
   ]
  },
  {
   "cell_type": "code",
   "execution_count": null,
   "metadata": {},
   "outputs": [],
   "source": []
  }
 ],
 "metadata": {
  "kernelspec": {
   "display_name": "Python 3",
   "language": "python",
   "name": "python3"
  },
  "language_info": {
   "codemirror_mode": {
    "name": "ipython",
    "version": 3
   },
   "file_extension": ".py",
   "mimetype": "text/x-python",
   "name": "python",
   "nbconvert_exporter": "python",
   "pygments_lexer": "ipython3",
   "version": "3.6.7"
  }
 },
 "nbformat": 4,
 "nbformat_minor": 4
}
